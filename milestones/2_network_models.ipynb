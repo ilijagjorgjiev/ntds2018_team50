{
 "cells": [
  {
   "cell_type": "markdown",
   "metadata": {},
   "source": [
    "# [NTDS'18] milestone 2: network models\n",
    "[ntds'18]: https://github.com/mdeff/ntds_2018\n",
    "\n",
    "[Hermina Petric Maretic](https://people.epfl.ch/hermina.petricmaretic), [EPFL LTS4](https://lts4.epfl.ch)"
   ]
  },
  {
   "cell_type": "markdown",
   "metadata": {},
   "source": [
    "## Students\n",
    "\n",
    "* Team: 50\n",
    "* Students: Görkem Çamli, Raphael Laporte, Ilija Gjorgjiev, Murat Genc\n",
    "* Dataset: Spammers on Social Network"
   ]
  },
  {
   "cell_type": "markdown",
   "metadata": {},
   "source": [
    "## Rules\n",
    "\n",
    "* Milestones have to be completed by teams. No collaboration between teams is allowed.\n",
    "* Textual answers shall be short. Typically one to two sentences.\n",
    "* Code has to be clean.\n",
    "* In the first part, you cannot import any other library than we imported. In the second part, you are allowed to import any library you want.\n",
    "* When submitting, the notebook is executed and the results are stored. I.e., if you open the notebook again it should show numerical results and plots. We won't be able to execute your notebooks.\n",
    "* The notebook is re-executed from a blank state before submission. That is to be sure it is reproducible. You can click \"Kernel\" then \"Restart & Run All\" in Jupyter."
   ]
  },
  {
   "cell_type": "markdown",
   "metadata": {},
   "source": [
    "## Objective\n",
    "\n",
    "The purpose of this milestone is to explore various random network models, analyse their properties and compare them to your network. In the first part of the milestone you will implement two random graph models and try to fit them to your network. In this part you are not allowed to use any additional package. In the second part of the milestone you will choose a third random graph model that you think shares some properties with your network. You will be allowed to use additional packages to construct this network, but you must explain your network choice. Finally, make your code as clean as possible, and keep your textual answers short."
   ]
  },
  {
   "cell_type": "markdown",
   "metadata": {},
   "source": [
    "## Part 0\n",
    "\n",
    "Import the adjacency matrix of your graph that you constructed in milestone 1, as well as the number of nodes and edges of your network."
   ]
  },
  {
   "cell_type": "code",
   "execution_count": null,
   "metadata": {},
   "outputs": [],
   "source": [
    "adjacency =  # the adjacency matrix\n",
    "n_nodes =  # the number of nodes in the network\n",
    "n_edges =  # the number of edges in the network"
   ]
  },
  {
   "cell_type": "code",
   "execution_count": 2,
   "metadata": {},
   "outputs": [],
   "source": [
    "relations = pd.read_csv('data/filtered_relations.csv')\n",
    "users = pd.read_csv('data/filtered_users.csv')\n",
    "\n",
    "nodes = users[['User Id', \"Time\", \"Gender\", \"Age Range\", \"Spammer Label\"]]\n",
    "num_nodes = len(nodes)\n",
    "\n",
    "edges = relations[[\"src\", \"dst\", \"relation\"]]\n",
    "num_edges = len(edges)"
   ]
  },
  {
   "cell_type": "code",
   "execution_count": 7,
   "metadata": {},
   "outputs": [
    {
     "name": "stdout",
     "output_type": "stream",
     "text": [
      "62173\n",
      "83176\n"
     ]
    }
   ],
   "source": [
    "print(num_nodes)\n",
    "print(num_edges)"
   ]
  },
  {
   "cell_type": "markdown",
   "metadata": {},
   "source": [
    "## Part 1\n",
    "\n",
    "**For the computation of this part of the milestone you are only allowed to use the packages that have been imported in the cell below.**"
   ]
  },
  {
   "cell_type": "code",
   "execution_count": 1,
   "metadata": {},
   "outputs": [],
   "source": [
    "%matplotlib inline\n",
    "\n",
    "import random\n",
    "\n",
    "import numpy as np\n",
    "import pandas as pd\n",
    "import matplotlib.pyplot as plt\n",
    "import scipy"
   ]
  },
  {
   "cell_type": "markdown",
   "metadata": {},
   "source": [
    "### Question 1\n",
    "\n",
    "Create a function that constructs an Erdős–Rényi graph."
   ]
  },
  {
   "cell_type": "code",
   "execution_count": 2,
   "metadata": {},
   "outputs": [],
   "source": [
    "def erdos_renyi(n, p, seed=None):\n",
    "    \"\"\"Create an instance from the Erdos-Renyi graph model.\n",
    "    \n",
    "    Parameters\n",
    "    ----------\n",
    "    n: int\n",
    "        Size of the graph.\n",
    "    p: float\n",
    "        Edge probability. A number between 0 and 1.\n",
    "    seed: int (optional)\n",
    "        Seed for the random number generator. To get reproducible results.\n",
    "    \n",
    "    Returns\n",
    "    -------\n",
    "    adjacency\n",
    "        The adjacency matrix of a graph.\n",
    "    \"\"\"\n",
    "    if(seed == None):\n",
    "        seed = np.random.randint(9999999)\n",
    "    np.random.seed(seed)\n",
    "    # Your code here.\n",
    "    adjacency = np.zeros((n, n), dtype=np.dtype('>i1'))\n",
    "    for i in range(0, n):\n",
    "        for j in range(i+1, n):\n",
    "            #If a random number is higher or equal to the edge probability, create an edge, otherwise leave it the same.\n",
    "            #Do this only for edges where j is bigger than i. Since it means that we have already runned an example to that edge.\n",
    "            rnd = np.random.random()\n",
    "            if(p > rnd):\n",
    "                adjacency[i][j] = 1\n",
    "                adjacency[j][i] = 1\n",
    "    \n",
    "    return adjacency"
   ]
  },
  {
   "cell_type": "code",
   "execution_count": 3,
   "metadata": {},
   "outputs": [
    {
     "data": {
      "text/plain": [
       "Text(0.5, 1.05, 'Erdos-Renyi (5, 0.6)')"
      ]
     },
     "execution_count": 3,
     "metadata": {},
     "output_type": "execute_result"
    },
    {
     "data": {
      "image/png": "[encoded data removed]",
      "text/plain": [
       "<Figure size 432x288 with 1 Axes>"
      ]
     },
     "metadata": {},
     "output_type": "display_data"
    }
   ],
   "source": [
    "er = erdos_renyi(5, 0.6, 9765)\n",
    "plt.spy(er)\n",
    "plt.title('Erdos-Renyi (5, 0.6)')"
   ]
  },
  {
   "cell_type": "code",
   "execution_count": 4,
   "metadata": {},
   "outputs": [
    {
     "data": {
      "text/plain": [
       "Text(0.5, 1.05, 'Erdos-Renyi (10, 0.4)')"
      ]
     },
     "execution_count": 4,
     "metadata": {},
     "output_type": "execute_result"
    },
    {
     "data": {
      "image/png": "[encoded data removed]",
      "text/plain": [
       "<Figure size 432x288 with 1 Axes>"
      ]
     },
     "metadata": {},
     "output_type": "display_data"
    }
   ],
   "source": [
    "er = erdos_renyi(10, 0.4, 7648)\n",
    "plt.spy(er)\n",
    "plt.title('Erdos-Renyi (10, 0.4)')"
   ]
  },
  {
   "cell_type": "markdown",
   "metadata": {},
   "source": [
    "### Question 2\n",
    "\n",
    "Use the function to create a random Erdos-Renyi graph. Choose the parameters such that number of nodes is the same as in your graph, and the number of edges similar. You don't need to set the random seed. Comment on your choice of parameters."
   ]
  },
  {
   "cell_type": "code",
   "execution_count": 8,
   "metadata": {},
   "outputs": [
    {
     "name": "stdout",
     "output_type": "stream",
     "text": [
      "4.303594706416666e-05\n",
      "1.3378154504366848\n"
     ]
    }
   ],
   "source": [
    "# Your code here.\n",
    "#Calculate probability of having an edge in our previous graph, with respect to the already given edges.\n",
    "prob = num_edges / (num_nodes * (num_nodes - 1) / 2)\n",
    "print(prob)\n",
    "print(num_edges/num_nodes)\n",
    "net_er_model = erdos_renyi(num_nodes, prob)"
   ]
  },
  {
   "cell_type": "code",
   "execution_count": 15,
   "metadata": {},
   "outputs": [
    {
     "data": {
      "text/plain": [
       "83316.0"
      ]
     },
     "execution_count": 15,
     "metadata": {},
     "output_type": "execute_result"
    }
   ],
   "source": [
    "# number of nodes we get from erdos model\n",
    "np.sum(net_er_model)/2"
   ]
  },
  {
   "cell_type": "markdown",
   "metadata": {},
   "source": [
    "**Your answer here.**\n",
    "\n",
    "The parameter for the number of nodes is the same as the number of nodes in our original graph.\n",
    "\n",
    "The number of edges in the original graph is 83176 and our graph is directed. We also made an undirected graph, but we are not sure which number of edges we should consider. Thus, we considered the number of edges in the original graph(83176), to be the number of undirected edges, which is basically the same \n",
    "\n",
    "We calculate the probability parameter, by dividing the number of edges that we have in our original graph(83176), by the number of maximum edges. In this way we'll get an edge probability parameter.\n",
    "\n",
    "We could also easily make the function to work for directed graphs. We could do that by setting adjacency[i][j] = 1, only when the condition for probability is satisfied and go through the whole graph with a given probability. But since it was not asked we did not do it, even though it would be much more appropriate for our original graph."
   ]
  },
  {
   "cell_type": "markdown",
   "metadata": {},
   "source": [
    "### Question 3\n",
    "\n",
    "Create a function that constructs a Barabási-Albert graph."
   ]
  },
  {
   "cell_type": "code",
   "execution_count": 69,
   "metadata": {},
   "outputs": [],
   "source": [
    "def barabasi_albert(n, m, m0=2, seed=None, fullyConnected=False):\n",
    "    \"\"\"Create an instance from the Barabasi-Albert graph model.\n",
    "    \n",
    "    Parameters\n",
    "    ----------\n",
    "    n: int\n",
    "        Size of the graph.\n",
    "    m: int\n",
    "        Number of edges to attach from a new node to existing nodes.\n",
    "    m0: int (optional)\n",
    "        Number of nodes for the inital connected network.\n",
    "    seed: int (optional)\n",
    "        Seed for the random number generator. To get reproducible results.\n",
    "    \n",
    "    Returns\n",
    "    -------\n",
    "    adjacency\n",
    "        The adjacency matrix of a graph.\n",
    "    \"\"\"\n",
    "    if(seed == None):\n",
    "        seed = np.random.randint(9999999)\n",
    "    np.random.seed(seed)\n",
    "    if(m > m0):\n",
    "        print(\"Warning: m should be less than or equal to m0, new m0 is: m0=m\")\n",
    "        m0=m\n",
    "        #return\n",
    "    \n",
    "    # initialize the graph \n",
    "    adj = None\n",
    "    if(fullyConnected):\n",
    "        adj = np.ones((m0, m0), dtype=np.dtype('>i1'))\n",
    "        np.fill_diagonal(adj, 0)\n",
    "    else:\n",
    "        adj = createInitialGraph2(m0, seed)\n",
    "    \n",
    "    # develop the network with growth and preferential attachment\n",
    "    # increase the previous network to the size n by padding the n-m0 nodes, initializing them to 0\n",
    "    adjacency = np.lib.pad(adj, ((0,n-m0),(0,n-m0)), 'constant', constant_values=(0))\n",
    "    sum_kj = np.sum(adjacency)\n",
    "    ki = adjacency.sum(axis=1)\n",
    "    for i in range(m0, n):\n",
    "        # add new random edge until node i has m edges\n",
    "        if(i%100==0):\n",
    "            print(\"Enter Loop\", i)\n",
    "        nodej = i\n",
    "        edges_added = 0\n",
    "        while(edges_added < m):\n",
    "            # choose a random node between node 0 to i (not n)\n",
    "            # make sure j and i are not the same node\n",
    "            while(nodej == i or adjacency[i][nodej] == 1):\n",
    "                nodej = np.random.randint(i) \n",
    "            \n",
    "            if(ki[nodej] == 0):\n",
    "                ki[nodej] = 1\n",
    "            prob = (float) (ki[nodej] / sum_kj)\n",
    "            # draw a random number from a uniform distribution btw [0,1]\n",
    "            r = np.random.uniform()\n",
    "            if(r < prob):\n",
    "                sum_kj = sum_kj + 1\n",
    "                adjacency[i][nodej] = 1\n",
    "                adjacency[nodej][i] = 1\n",
    "                ki[nodej]=ki[nodej]+1\n",
    "                ki[i]=ki[i]+1\n",
    "                edges_added = edges_added+1\n",
    "    print(np.sum(adjacency))\n",
    "    return adjacency"
   ]
  },
  {
   "cell_type": "code",
   "execution_count": 70,
   "metadata": {},
   "outputs": [],
   "source": [
    "# helper functions\n",
    "def createInitialGraph2(m0, seed):\n",
    "    # start with m0 nodes and choose links arbitrarily (at least 1 link per node)\n",
    "    adjacency = np.zeros((m0, m0), dtype=np.dtype('>i1'))\n",
    "    np.random.seed(seed)\n",
    "    connected = False\n",
    "    edges_num = 0\n",
    "    k = 0\n",
    "    old_k = 0.5\n",
    "    max_edges = (m0 * (m0 - 1)) / 2\n",
    "    while(connected == False):\n",
    "        # connect nodes randomly until you get at least 1 link per node\n",
    "        n1 = np.random.randint(m0)\n",
    "        n2 = np.random.randint(m0)\n",
    "        #print(n1, n2)\n",
    "        if(adjacency[n1][n2] == 0 and n1 != n2):\n",
    "            adjacency[n1][n2] = 1\n",
    "            adjacency[n2][n1] = 1 \n",
    "            edges_num = edges_num + 1\n",
    "            k = (2*edges_num) / m0  \n",
    "        #print(\"k= \", k)\n",
    "        #print(\"oldk=\", old_k)\n",
    "        if (( k >= 1 and old_k + 0.5 == k) or max_edges == edges_num):\n",
    "            old_k = k + 0.5\n",
    "            # if the graph is connected then each node has at least 1 link\n",
    "            # print()\n",
    "            flag = checkConnected2(adjacency)\n",
    "            if(flag):\n",
    "                connected=True\n",
    "\n",
    "    return adjacency\n",
    "\n",
    "def checkConnected2(adj):\n",
    "    def visit(adjacency, visited_nodes, current_node):\n",
    "        neighbors = adjacency[current_node]\n",
    "        \n",
    "        for i in np.nonzero(neighbors)[0]: \n",
    "      \n",
    "            if (visited_nodes[i] == 0): \n",
    "                visited_nodes[i] = 1;\n",
    "                visited_nodes = visit(adjacency, visited_nodes, i)\n",
    "            \n",
    "        return visited_nodes\n",
    "    def start_dfs (adjacency, visited_nodes, current_node ):\n",
    "        visited_nodes_1 = np.copy(visited_nodes)\n",
    "        visited_nodes_1[current_node] = 1 \n",
    "        return visit(adjacency, visited_nodes_1,current_node)\n",
    "    def connected_graph(adjacency):\n",
    "        touched_nodes = np.zeros(adjacency.shape[0])\n",
    "        #print(adjacency.shape[0], np.sum(touched_nodes))\n",
    "        touched_nodes = start_dfs(adjacency, touched_nodes, 0)\n",
    "        #print(adjacency.shape[0], np.sum(touched_nodes))\n",
    "        return (adjacency.shape[0] == np.sum(touched_nodes))\n",
    "    return connected_graph(adj)"
   ]
  },
  {
   "cell_type": "code",
   "execution_count": 71,
   "metadata": {},
   "outputs": [
    {
     "name": "stdout",
     "output_type": "stream",
     "text": [
      "8\n"
     ]
    },
    {
     "data": {
      "text/plain": [
       "Text(0.5,1.05,'Barabasi-Albert (5, 1)')"
      ]
     },
     "execution_count": 71,
     "metadata": {},
     "output_type": "execute_result"
    },
    {
     "data": {
      "image/png": "[encoded data removed]",
      "text/plain": [
       "<Figure size 432x288 with 1 Axes>"
      ]
     },
     "metadata": {},
     "output_type": "display_data"
    }
   ],
   "source": [
    "ba = barabasi_albert(5, 1, 2, 9087)\n",
    "plt.spy(ba)\n",
    "plt.title('Barabasi-Albert (5, 1)')"
   ]
  },
  {
   "cell_type": "code",
   "execution_count": 72,
   "metadata": {
    "scrolled": false
   },
   "outputs": [
    {
     "name": "stdout",
     "output_type": "stream",
     "text": [
      "34\n"
     ]
    },
    {
     "data": {
      "text/plain": [
       "Text(0.5,1.05,'Barabasi-Albert (10, 2)')"
      ]
     },
     "execution_count": 72,
     "metadata": {},
     "output_type": "execute_result"
    },
    {
     "data": {
      "image/png": "[encoded data removed]",
      "text/plain": [
       "<Figure size 432x288 with 1 Axes>"
      ]
     },
     "metadata": {},
     "output_type": "display_data"
    }
   ],
   "source": [
    "ba = barabasi_albert(10, 2, 3, 8708)\n",
    "plt.spy(ba)\n",
    "plt.title('Barabasi-Albert (10, 2)')"
   ]
  },
  {
   "cell_type": "code",
   "execution_count": null,
   "metadata": {},
   "outputs": [],
   "source": [
    "ba = barabasi_albert(10, 2, 3)\n",
    "plt.spy(ba)\n",
    "plt.title('Barabasi-Albert (10, 2)')"
   ]
  },
  {
   "cell_type": "markdown",
   "metadata": {},
   "source": [
    "### Question 4\n",
    "\n",
    "Use the function to create a random Barabási-Albert graph. Choose the parameters such that number of nodes is the same as in your graph, and the number of edges similar. You don't need to set the random seed. Comment on your choice of parameters."
   ]
  },
  {
   "cell_type": "code",
   "execution_count": 10,
   "metadata": {},
   "outputs": [],
   "source": [
    "n_nodes = 62173\n",
    "n_edges = 83176 "
   ]
  },
  {
   "cell_type": "code",
   "execution_count": 74,
   "metadata": {},
   "outputs": [
    {
     "name": "stdout",
     "output_type": "stream",
     "text": [
      "3862560396\n"
     ]
    }
   ],
   "source": [
    "m = 1\n",
    "m0 = 62150\n",
    "ba = barabasi_albert(n_nodes, m, m0, fullyConnected=True)"
   ]
  },
  {
   "cell_type": "markdown",
   "metadata": {},
   "source": [
    "For the barabasi_albert function, n is equal to the number of nodes in our original graph which is 62173.     \n",
    "The perfect parameters to use, would be m0 = 3500 and m = 1. Since in this case on average we would get around 15000-20000 edges until we get a connected component. Then in the development network we would get the remaining number of edges from the development part according to this formula:  __Develop the network part:__ $m * (n - m0)$ edges.\n",
    "\n",
    "For the initialization part, we would get minimum of m0 edges and maximum of (m0 * (m0 - 1) / 2) however, since all the nodes are connected randomly without any bias, we do not have overall control of the number of edges here.\n",
    "\n",
    " The cell takes input: n = exact number of nodes in our original graph, m0 = 62150 and m = 1. With this we show that the algorithm works and finishes. There are 2 parts implemented for the initialization part, the intial graph can either be constructed randomly, until we get a connected component or we automatically construct a fully connected component of m0 nodes. In our specific case we constructed a fully connected component, due to the size of our original matrix, which took us hours to run and it didn't finish at all. For other test cases, we use the random initialization. \n",
    "Note: We assumed undirected graph"
   ]
  },
  {
   "cell_type": "markdown",
   "metadata": {},
   "source": [
    "### Question 5\n",
    "\n",
    "Compare the number of edges in all three networks (your real network, the Erdős–Rényi network, and the Barabási-Albert netowk)."
   ]
  },
  {
   "cell_type": "code",
   "execution_count": 76,
   "metadata": {},
   "outputs": [
    {
     "name": "stdout",
     "output_type": "stream",
     "text": [
      "83176\n",
      "83316.0\n",
      "1931280198.0\n"
     ]
    }
   ],
   "source": [
    "# Your code here.\n",
    "\n",
    "#The number of edges in our real network is:\n",
    "print(n_edges)\n",
    "\n",
    "#The number of edges in the Erdős–Rényi network:\n",
    "#The cell has already been ran, so we do not want to run it again since it takes quite a lot of time.\n",
    "#That is why we just print the number.\n",
    "print(83316.0)\n",
    "\n",
    "#The number of edges in the Barabási-Albert network:\n",
    "#In the initiliazation part we do not have control over how many edges will be created. \n",
    "#Due to hours of waiting for the algorithm to finish, depth recursion problems, etc.\n",
    "#We decided to use a fully connected component, which explain the big number of edges being totally different than the \n",
    "#edges in the original graph.\n",
    "print(np.sum(ba)/2)"
   ]
  },
  {
   "cell_type": "markdown",
   "metadata": {},
   "source": [
    "### Question 6\n",
    "\n",
    "Implement a function that computes the [Kullback–Leibler (KL) divergence](https://en.wikipedia.org/wiki/Kullback%E2%80%93Leibler_divergence) between two probability distributions.\n",
    "We'll use it to compare the degree distributions of networks."
   ]
  },
  {
   "cell_type": "code",
   "execution_count": null,
   "metadata": {},
   "outputs": [],
   "source": [
    "def kl_divergence(p, q):\n",
    "    \"\"\"Compute the KL divergence between probability distributions of degrees of two networks.\n",
    "    \n",
    "    Parameters\n",
    "    ----------\n",
    "    p: np.array\n",
    "        Probability distribution of degrees of the 1st graph.\n",
    "    q: np.array\n",
    "        Probability distribution of degrees of the 2nd graph.\n",
    "    \n",
    "    Returns\n",
    "    -------\n",
    "    kl\n",
    "        The KL divergence between the two distributions.\n",
    "    \"\"\"\n",
    "    \n",
    "    # Your code here.\n",
    "    \n",
    "    return kl"
   ]
  },
  {
   "cell_type": "code",
   "execution_count": null,
   "metadata": {},
   "outputs": [],
   "source": [
    "p_test = np.array([0.2, 0.2, 0.2, 0.4])\n",
    "q_test = np.array([0.3, 0.3, 0.1, 0.3])\n",
    "kl_divergence(p_test, q_test)"
   ]
  },
  {
   "cell_type": "markdown",
   "metadata": {},
   "source": [
    "### Question 7: \n",
    "\n",
    "Compare the degree distribution of your network to each of the two synthetic ones, in terms of KL divergence.\n",
    "\n",
    "**Hint:** Make sure you normalise your degree distributions to make them valid probability distributions.\n",
    "\n",
    "**Hint:** Make sure none of the graphs have disconnected nodes, as KL divergence will not be defined in that case. If that happens with one of the randomly generated networks, you can regenerate it and keep the seed that gives you no disconnected nodes."
   ]
  },
  {
   "cell_type": "code",
   "execution_count": null,
   "metadata": {},
   "outputs": [],
   "source": [
    "# Your code here."
   ]
  },
  {
   "cell_type": "markdown",
   "metadata": {},
   "source": [
    "### Question 8\n",
    "\n",
    "Plot the degree distribution historgrams for all three networks. Are they consistent with the KL divergence results? Explain."
   ]
  },
  {
   "cell_type": "code",
   "execution_count": null,
   "metadata": {},
   "outputs": [],
   "source": [
    "# Your code here."
   ]
  },
  {
   "cell_type": "markdown",
   "metadata": {},
   "source": [
    "**Your answer here.**"
   ]
  },
  {
   "cell_type": "markdown",
   "metadata": {},
   "source": [
    "### Question 9\n",
    "\n",
    "Imagine you got equal degree distributions. Would that guarantee you got the same graph? Explain."
   ]
  },
  {
   "cell_type": "markdown",
   "metadata": {},
   "source": [
    "**Your answer here.**"
   ]
  },
  {
   "cell_type": "markdown",
   "metadata": {},
   "source": [
    "## Part 2\n",
    "\n",
    "**You are allowed to use any additional library here (e.g., NetworkX, PyGSP, etc.).** Be careful not to include something here and use it in part 1!"
   ]
  },
  {
   "cell_type": "markdown",
   "metadata": {},
   "source": [
    "### Question 10\n",
    "\n",
    "Choose a random network model that fits you network well. Explain your choice. \n",
    "\n",
    "**Hint:** Check lecture notes for different network models and their properties. Your choice should be made based on at least one property you'd expect to be similar."
   ]
  },
  {
   "cell_type": "markdown",
   "metadata": {},
   "source": [
    "**Your answer here.**"
   ]
  },
  {
   "cell_type": "markdown",
   "metadata": {},
   "source": [
    "### Question 11\n",
    "\n",
    "Explain (in short) how the chosen model works."
   ]
  },
  {
   "cell_type": "markdown",
   "metadata": {},
   "source": [
    "**Your answer here.**"
   ]
  },
  {
   "cell_type": "markdown",
   "metadata": {},
   "source": [
    "### Question 12\n",
    "\n",
    "Create a random graph from that model, such that the number of nodes is the same as in your graph."
   ]
  },
  {
   "cell_type": "code",
   "execution_count": null,
   "metadata": {},
   "outputs": [],
   "source": [
    "# Your code here."
   ]
  },
  {
   "cell_type": "markdown",
   "metadata": {},
   "source": [
    "### Question 13\n",
    "\n",
    "Check the properties you expected to be similar, and compare to your network."
   ]
  },
  {
   "cell_type": "code",
   "execution_count": null,
   "metadata": {},
   "outputs": [],
   "source": [
    "# Your code here."
   ]
  },
  {
   "cell_type": "markdown",
   "metadata": {},
   "source": [
    "Are the results what you expected? Explain."
   ]
  },
  {
   "cell_type": "markdown",
   "metadata": {},
   "source": [
    "**Your answer here.**"
   ]
  }
 ],
 "metadata": {
  "kernelspec": {
   "display_name": "Python 2",
   "language": "python",
   "name": "python2"
  },
  "language_info": {
   "codemirror_mode": {
    "name": "ipython",
    "version": 3
   },
   "file_extension": ".py",
   "mimetype": "text/x-python",
   "name": "python",
   "nbconvert_exporter": "python",
   "pygments_lexer": "ipython3",
   "version": "3.6.5"
  }
 },
 "nbformat": 4,
 "nbformat_minor": 2
}
