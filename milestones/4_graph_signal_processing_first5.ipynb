{
  "nbformat": 4,
  "nbformat_minor": 0,
  "metadata": {
    "colab": {
      "name": "4_graph_signal_processing.ipynb",
      "version": "0.3.2",
      "provenance": [],
      "collapsed_sections": [
        "_CDSXt939i0N",
        "hNU6daPS9i0R",
        "YFCH5fb89i0V",
        "ffOCa14v9i0e",
        "gLQryn_99i0i",
        "R8wDfoBh9i0k",
        "mxHx1twf9i0v",
        "gsfN-_ne9i1X",
        "aPWj161u9i1d",
        "vC4ibOrt9i1g"
      ],
      "toc_visible": true
    },
    "kernelspec": {
      "display_name": "Python 3",
      "language": "python",
      "name": "python3"
    }
  },
  "cells": [
    {
      "metadata": {
        "id": "xz9N0HUe9izB",
        "colab_type": "text"
      },
      "cell_type": "markdown",
      "source": [
        "# [NTDS'18] milestone 4: graph signal processing\n",
        "[ntds'18]: https://github.com/mdeff/ntds_2018\n",
        "\n",
        "[Rodrigo Pena](https://people.epfl.ch/254838), [EPFL LTS2](http://lts2.epfl.ch)"
      ]
    },
    {
      "metadata": {
        "id": "TMD1uxMy9izD",
        "colab_type": "text"
      },
      "cell_type": "markdown",
      "source": [
        "## Students\n",
        "\n",
        "* Team: `<your team number>`\n",
        "* Students: `<the name of all students in the team>`\n",
        "* Dataset: `<the dataset you used to complete the milestone>`"
      ]
    },
    {
      "metadata": {
        "id": "tsEGn4jx9izE",
        "colab_type": "text"
      },
      "cell_type": "markdown",
      "source": [
        "## Rules\n",
        "\n",
        "* Milestones have to be completed by teams. No collaboration between teams is allowed.\n",
        "* Textual answers shall be short. Typically one to two sentences.\n",
        "* Code has to be clean.\n",
        "* You cannot import any other library than we imported.\n",
        "* When submitting, the notebook is executed and the results are stored. I.e., if you open the notebook again it should show numerical results and plots. We won't be able to execute your notebooks.\n",
        "* The notebook is re-executed from a blank state before submission. That is to be sure it is reproducible. You can click \"Kernel\" then \"Restart & Run All\" in Jupyter."
      ]
    },
    {
      "metadata": {
        "id": "YsMAvI_b9izF",
        "colab_type": "text"
      },
      "cell_type": "markdown",
      "source": [
        "## Objective\n",
        "\n",
        "The goal of this milestone is to do some Graph Signal Processing (GSP) on the data of your project.\n",
        "\n",
        "### A note about plotting\n",
        "\n",
        "There are several questions in this milestone that ask you to plot a signal on your network.\n",
        "There are several ways from which you could approach it.\n",
        "In all cases, compute the position of the nodes a single time at the beginning, as this is likely to be a costly operation.\n",
        "Using a single layout for all the graph plots will also make it easier to compare the plots.\n",
        "Indeed, the only thing changing between plots is the signal displayed.\n",
        "You can represent the features/labels lying on the graph via node **colors**.\n",
        "To do so, make sure to have a consistent color map throughout and remember to display a colorbar and scale in all plots, so that we can tell what numbers the colors represent.\n",
        "\n",
        "* An option is to use the **Laplacian eigenmaps** that you have seen in the previous milestone to embed your graph on the plane. For example:\n",
        "  ```\n",
        "  from matplotlib import pyplot as plt\n",
        "  plt.scatter(eigenvectors[:, 1], eigenvectors[:, 2], c=signal, alpha=0.5)\n",
        "  plt.colorbar()\n",
        "  ```\n",
        "* Another option is to use the plotting capabilities of **[NetworkX](https://networkx.github.io)**.\n",
        "  See the documentation of its [drawing methods](https://networkx.github.io/documentation/stable/reference/drawing.html).\n",
        "  For example:\n",
        "  ```\n",
        "  import networkx as nx\n",
        "  graph = nx.from_scipy_sparse_matrix(adjacency)\n",
        "  coords = nx.spring_layout(graph)  # Force-directed layout.\n",
        "  coords = eigenvectors[:, 1:3]  # Laplacian eigenmaps.\n",
        "  nx.draw_networkx_nodes(graph, coords, node_size=60, node_color=signal)\n",
        "  nx.draw_networkx_edges(graph, coords, alpha=0.3)\n",
        "  ```\n",
        "* Another option is to use the plotting capabilities of the **[PyGSP](https://github.com/epfl-lts2/pygsp)**, a Python package for Graph Signal Processing.\n",
        "  **Note that your are forbidden to use the PyGSP for anything else than plotting.**\n",
        "  See the documentation of its [plotting utilities](https://pygsp.readthedocs.io/en/stable/reference/plotting.html).\n",
        "  For example:\n",
        "  ```\n",
        "  import pygsp as pg\n",
        "  graph = pg.graphs.Graph(adjacency)\n",
        "  graph.set_coordinates('spring')  # Force-directed layout.\n",
        "  graph.set_coordinates(eigenvectors[:, 1:3])  # Laplacian eigenmaps.\n",
        "  graph.plot_signal(signal)\n",
        "  ```\n",
        "* Yet another option is to save your graph on disk, use **[Gephi](https://gephi.org)** externally, to visualize the graph, save the graph with the Gephi coordinates and finally load the nodes coordinates back into the notebook.\n",
        "\n",
        "We encourage you to try all the above methods before making your choice. Then be consistent and use only one throughout the milestone.\n",
        "NetworkX and PyGSP should already be installed in your environement. If that's not the case, install with `conda install networkx pygsp` (after activating the `ntds_2018` environment)."
      ]
    },
    {
      "metadata": {
        "id": "yuDZxsmq9izH",
        "colab_type": "text"
      },
      "cell_type": "markdown",
      "source": [
        "## 0 - Load your network"
      ]
    },
    {
      "metadata": {
        "id": "YCquIBvb9izI",
        "colab_type": "code",
        "colab": {}
      },
      "cell_type": "code",
      "source": [
        "%matplotlib inline"
      ],
      "execution_count": 0,
      "outputs": []
    },
    {
      "metadata": {
        "id": "x1n2UXjqAauM",
        "colab_type": "code",
        "outputId": "1af5def3-debe-4b84-a1b6-d131b1ff58fc",
        "colab": {
          "base_uri": "https://localhost:8080/",
          "height": 184
        }
      },
      "cell_type": "code",
      "source": [
        "!pip install pyunlocbox\n",
        "!pip install pygsp\n",
        "!pip install networkx"
      ],
      "execution_count": 94,
      "outputs": [
        {
          "output_type": "stream",
          "text": [
            "Requirement already satisfied: pyunlocbox in /usr/local/lib/python3.6/dist-packages (0.5.2)\n",
            "Requirement already satisfied: numpy in /usr/local/lib/python3.6/dist-packages (from pyunlocbox) (1.14.6)\n",
            "Requirement already satisfied: scipy in /usr/local/lib/python3.6/dist-packages (from pyunlocbox) (1.1.0)\n",
            "Requirement already satisfied: pygsp in /usr/local/lib/python3.6/dist-packages (0.5.1)\n",
            "Requirement already satisfied: scipy in /usr/local/lib/python3.6/dist-packages (from pygsp) (1.1.0)\n",
            "Requirement already satisfied: numpy in /usr/local/lib/python3.6/dist-packages (from pygsp) (1.14.6)\n",
            "Requirement already satisfied: networkx in /usr/local/lib/python3.6/dist-packages (2.2)\n",
            "Requirement already satisfied: decorator>=4.3.0 in /usr/local/lib/python3.6/dist-packages (from networkx) (4.3.0)\n"
          ],
          "name": "stdout"
        }
      ]
    },
    {
      "metadata": {
        "id": "1UXnBC7I9izN",
        "colab_type": "text"
      },
      "cell_type": "markdown",
      "source": [
        "If you get a `No module named 'pyunlocbox'` error when running the below cell, install the [pyunlocbox](https://github.com/epfl-lts2/pyunlocbox) with `conda install pyunlocbox` (after activating the `ntds_2018` environment)."
      ]
    },
    {
      "metadata": {
        "id": "86SZ4MqK9izO",
        "colab_type": "code",
        "colab": {}
      },
      "cell_type": "code",
      "source": [
        "import numpy as np\n",
        "from scipy import sparse\n",
        "import scipy.sparse.linalg\n",
        "from matplotlib import pyplot as plt\n",
        "from pyunlocbox import functions, solvers"
      ],
      "execution_count": 0,
      "outputs": []
    },
    {
      "metadata": {
        "id": "BlGO6XoK9izT",
        "colab_type": "text"
      },
      "cell_type": "markdown",
      "source": [
        "For this milestone, all we will need is a set of features/labels for each of the nodes on the network, as well as the Laplacian, $L,$ and Gradient, $\\nabla_G,$ matrices that you have computed for your network while working on milestone 3.\n",
        "\n",
        "Import those objects in the cell below (or recompute the Laplacian and Gradient from your stored adjacency matrix, if you wish).\n",
        "\n",
        "_Note_: If your features/labels are not floating-point numbers, please convert them. For example, if your data has labels \"cat\" and \"dog\" for nodes that represent cats or dogs, respectively, you may assign the number `1.0` for the label \"cat\" and the number `-1.0` for the label \"dog\".  "
      ]
    },
    {
      "metadata": {
        "id": "IyswllmjBTe8",
        "colab_type": "code",
        "colab": {}
      },
      "cell_type": "code",
      "source": [
        "import pandas as pd\n",
        "features = pd.read_csv('features.csv')"
      ],
      "execution_count": 0,
      "outputs": []
    },
    {
      "metadata": {
        "id": "mGdmirMmC6QA",
        "colab_type": "code",
        "colab": {}
      },
      "cell_type": "code",
      "source": [
        "adjacency = scipy.sparse.load_npz(\"adjacency_undirected_sparse_csr.npz\") \n",
        "n_nodes =  adjacency.shape[0]"
      ],
      "execution_count": 0,
      "outputs": []
    },
    {
      "metadata": {
        "id": "N1CcrlTW9izV",
        "colab_type": "code",
        "colab": {}
      },
      "cell_type": "code",
      "source": [
        "# combinatorial Laplacian, L = D-A\n",
        "laplacian = scipy.sparse.load_npz(\"laplacian_combinatorial.npz\")   # or  scipy.sparse.load_npz(\"laplacian_normalized.npz\")\n",
        "\n",
        "# gradient equals to S^t ( S is the incidence matrix (column being edges, and rows being nodes)\n",
        "#gradient = # Your code here.\n",
        "\n",
        "# read from features.csv spammers label\n",
        "labels = np.array(features[[\"Spammer Label\"]])\n",
        "\n",
        "n_nodes = adjacency.shape[0]"
      ],
      "execution_count": 0,
      "outputs": []
    },
    {
      "metadata": {
        "id": "qdVhoCXLwSzN",
        "colab_type": "code",
        "outputId": "99c61f64-9822-44ab-f0c4-0bcd3bf35915",
        "colab": {
          "base_uri": "https://localhost:8080/",
          "height": 51
        }
      },
      "cell_type": "code",
      "source": [
        "laplacian"
      ],
      "execution_count": 7,
      "outputs": [
        {
          "output_type": "execute_result",
          "data": {
            "text/plain": [
              "<62173x62173 sparse matrix of type '<class 'numpy.float32'>'\n",
              "\twith 196011 stored elements in Compressed Sparse Row format>"
            ]
          },
          "metadata": {
            "tags": []
          },
          "execution_count": 7
        }
      ]
    },
    {
      "metadata": {
        "id": "vFujGPKe9izZ",
        "colab_type": "text"
      },
      "cell_type": "markdown",
      "source": [
        "## 1 - Graph Fourier Transform\n",
        "\n",
        "In this section we will observe how your feature/label vector looks like in the \"Graph Fourier\" domain."
      ]
    },
    {
      "metadata": {
        "inputHidden": false,
        "outputHidden": false,
        "id": "mBfqtLJy9izb",
        "colab_type": "text"
      },
      "cell_type": "markdown",
      "source": [
        "### Question 1\n",
        "\n",
        "Compute the Fourier basis vectors and the Laplacian eigenvalues. Make sure to order those from smaller to larger, $\\lambda_0 \\leq \\lambda_1 \\leq \\dots \\leq \\lambda_{N-1},$ and use the same ordering for the Fourier basis vectors."
      ]
    },
    {
      "metadata": {
        "id": "JqsWOuAY7CY-",
        "colab_type": "code",
        "colab": {}
      },
      "cell_type": "code",
      "source": [
        "# XXXXX same scale all plots and color bars XXXX to do"
      ],
      "execution_count": 0,
      "outputs": []
    },
    {
      "metadata": {
        "id": "-rJ0cCAqHWa9",
        "colab_type": "code",
        "colab": {}
      },
      "cell_type": "code",
      "source": [
        "eigenvalues, eigenvectors = sparse.linalg.eigsh(laplacian, k=1000, which='SM',tol=0.001)"
      ],
      "execution_count": 0,
      "outputs": []
    },
    {
      "metadata": {
        "id": "atcUH9R7myAk",
        "colab_type": "code",
        "colab": {}
      },
      "cell_type": "code",
      "source": [
        "np.save(\"eigenvalues\" ,eigenvalues)\n",
        "np.save(\"eigenvectors\" ,eigenvectors)"
      ],
      "execution_count": 0,
      "outputs": []
    },
    {
      "metadata": {
        "id": "nq8gvq0Nmfc6",
        "colab_type": "code",
        "colab": {}
      },
      "cell_type": "code",
      "source": [
        "eigenvalues = np.load(\"eigenvalues.npy\")\n",
        "eigenvectors = np.load(\"eigenvectors.npy\")"
      ],
      "execution_count": 0,
      "outputs": []
    },
    {
      "metadata": {
        "inputHidden": false,
        "outputHidden": false,
        "id": "Lh96tWQU9izd",
        "colab_type": "code",
        "colab": {}
      },
      "cell_type": "code",
      "source": [
        "# Ordered Laplacian eigenvalues. (square of graph frequencies)\n",
        "e = eigenvalues\n",
        "\n",
        "# Ordered graph Fourier basis. = Eigenvectors of Laplacian\n",
        "U = eigenvectors #? https://epfl-lts2.github.io/gspbox-html/doc/utils/gsp_compute_fourier_basis_code.html"
      ],
      "execution_count": 0,
      "outputs": []
    },
    {
      "metadata": {
        "id": "t6lfajAQ9izj",
        "colab_type": "text"
      },
      "cell_type": "markdown",
      "source": [
        "Plot the first 3 and the last Fourier basis vectors as signals on your graph. Clearly indicate which plot belongs to which basis vector."
      ]
    },
    {
      "metadata": {
        "id": "x6OxNict8Y0O",
        "colab_type": "code",
        "outputId": "3ebabab4-e304-4001-9f5b-643d98dbe7c9",
        "colab": {
          "base_uri": "https://localhost:8080/",
          "height": 297
        }
      },
      "cell_type": "code",
      "source": [
        "import pygsp as pg\n",
        "\n",
        "graph = pg.graphs.Graph(adjacency)\n",
        "fig, axes = plt.subplots(1, 2, figsize=(10, 4))\n",
        "\n",
        "# First 3 Fourier Basis vectors in 1D\n",
        "graph.set_coordinates('line1D')\n",
        "graph.plot_signal(U[:, 1:4], ax=axes[0], plot_name='First 3 Fourier Basis Vector', colorbar=True)\n",
        "legend = [r'$Basis Vec={}$'.format(t) for t in [1,2,3]]\n",
        "axes[0].legend(legend) \n",
        "\n",
        "# Last 3 Fourier Basis vectors in 1D\n",
        "graph.set_coordinates('line1D')\n",
        "graph.plot_signal(U[:, -3:], ax=axes[1], plot_name='Last 3 Fourier Basis Vector' , colorbar=True)\n",
        "legend = [r'$Basis Vec={}$'.format(t) for t in [-3,-2,-1]]\n",
        "axes[1].legend(legend) \n",
        "fig.tight_layout()"
      ],
      "execution_count": 101,
      "outputs": [
        {
          "output_type": "display_data",
          "data": {
            "image/png": "[encoded data removed]",
            "text/plain": [
              "<matplotlib.figure.Figure at 0x7f032900b550>"
            ]
          },
          "metadata": {
            "tags": []
          }
        }
      ]
    },
    {
      "metadata": {
        "id": "I4Fz4Xc22vTW",
        "colab_type": "code",
        "colab": {
          "base_uri": "https://localhost:8080/",
          "height": 34
        },
        "outputId": "c0717674-e660-44c3-f1c7-5b71de54232c"
      },
      "cell_type": "code",
      "source": [
        "low = min (np.ndarray.min(U[:,:3]), np.ndarray.min(U[:,-3:]))\n",
        "up = max (np.ndarray.max(U[:,:3]), np.ndarray.max(U[:,-3:]))\n",
        "limits=[low ,up]\n",
        "print(limits)\n",
        "\n",
        "#or\n",
        "limits=[0.1 ,-0.1]"
      ],
      "execution_count": 121,
      "outputs": [
        {
          "output_type": "stream",
          "text": [
            "[-0.110872746, 0.12146666]\n"
          ],
          "name": "stdout"
        }
      ]
    },
    {
      "metadata": {
        "id": "NEygXl9qLZXT",
        "colab_type": "code",
        "outputId": "6937230e-61d6-4e1e-f870-733b90f0ec7b",
        "colab": {
          "base_uri": "https://localhost:8080/",
          "height": 715
        }
      },
      "cell_type": "code",
      "source": [
        "# Plot the First and Last 3 Fourier Basis Vectors is Laplacian Eigenmaps coordinates\n",
        "graph.set_coordinates(eigenvectors[:, 1:3])  # Laplacian eigenmaps.\n",
        "fig, axes = plt.subplots(2, 3, figsize=(20, 12))\n",
        "\n",
        "# first 3\n",
        "graph.plot_signal(U[:, 1], ax=axes[0,0],plot_name='First 1 Fourier Basis Vector', colorbar=True , limits=limits)\n",
        "graph.plot_signal(U[:, 2], ax=axes[0,1],plot_name='First 2 Fourier Basis Vector', colorbar=True , limits=limits)\n",
        "graph.plot_signal(U[:, 3], ax=axes[0,2],plot_name='First 3 Fourier Basis Vector', colorbar=True , limits=limits)\n",
        "\n",
        "# last 3\n",
        "graph.plot_signal(U[:, -3], ax=axes[1,0],plot_name='Last 3 Fourier Basis Vector', colorbar=True , limits=limits)\n",
        "graph.plot_signal(U[:, -2], ax=axes[1,1],plot_name='Last 2 Fourier Basis Vector', colorbar=True , limits=limits)\n",
        "graph.plot_signal(U[:, -1], ax=axes[1,2],plot_name='Last 1 Fourier Basis Vector', colorbar=True , limits=limits)\n"
      ],
      "execution_count": 122,
      "outputs": [
        {
          "output_type": "display_data",
          "data": {
            "image/png": "[encoded data removed]",
            "text/plain": [
              "<matplotlib.figure.Figure at 0x7f0327b84ba8>"
            ]
          },
          "metadata": {
            "tags": []
          }
        }
      ]
    },
    {
      "metadata": {
        "id": "ThCYNAma9izu",
        "colab_type": "text"
      },
      "cell_type": "markdown",
      "source": [
        "### Question 2\n",
        "\n",
        "What can you observe in terms of local variations when comparing the basis vectors corresponding to the smallest eigenvalues to those corresponding to the largest eigenvalue? How would this justify the interpretation of the eigenvalues as \"graph frequencies\"?"
      ]
    },
    {
      "metadata": {
        "id": "G49Qj6SG9izy",
        "colab_type": "text"
      },
      "cell_type": "markdown",
      "source": [
        "\n",
        "**Our answer:**\n",
        "\n",
        "For the eigenvectors corresponding to the smaller eigenvalues (first three) which are close to zero, we see smoother and slow oscillating functions. Therefore, these smallest eigenvalues corresponds to low frequencies, on the other hand for the biggest 3 eigenvectors that have the largest 3 eigenvalues, we see that oscilation is more faster. Therefore, we can say that the largest eigenvalue (which are far from zero value) have graph high frequencies."
      ]
    },
    {
      "metadata": {
        "id": "k52i3dbG9iz1",
        "colab_type": "text"
      },
      "cell_type": "markdown",
      "source": [
        " ### Question 3\n",
        "\n",
        "Implement a function that returns the Graph Fourier Transform (GFT) of a given vector $x \\in \\mathbb{R}^{N},$ with respect to your graph, and a function that computes the corresponding inverse GFT (iGFT)."
      ]
    },
    {
      "metadata": {
        "inputHidden": false,
        "outputHidden": false,
        "id": "i4j6Wv-O9iz2",
        "colab_type": "code",
        "colab": {}
      },
      "cell_type": "code",
      "source": [
        "def GFT(x):\n",
        "    x_gft = np.tensordot(U, x, (0, 0))\n",
        "    return x_gft\n",
        "\n",
        "# len of the x should be 1000 in this one \n",
        "#(since we only calculated the 1000 eigenvalues/eigenvectors due to the computation overhead)\n",
        "# Hence our U is 62173x1000\n",
        "def iGFT(x):\n",
        "    x_igft = np.tensordot(U, x, (1, 0))\n",
        "    return x_igft"
      ],
      "execution_count": 0,
      "outputs": []
    },
    {
      "metadata": {
        "id": "6ZxTRs2btpQZ",
        "colab_type": "code",
        "colab": {
          "base_uri": "https://localhost:8080/",
          "height": 85
        },
        "outputId": "26c6bf41-0fd5-46c4-f04a-dc5cfb626de4"
      },
      "cell_type": "code",
      "source": [
        "# check if functions work\n",
        "x_gft = GFT(labels)\n",
        "x_igft = iGFT(x_gft)\n",
        "\n",
        "print(U.shape)\n",
        "print(len(labels))\n",
        "print(len(x_gft))\n",
        "print(len(x_igft))"
      ],
      "execution_count": 84,
      "outputs": [
        {
          "output_type": "stream",
          "text": [
            "(62173, 1000)\n",
            "62173\n",
            "1000\n",
            "62173\n"
          ],
          "name": "stdout"
        }
      ]
    },
    {
      "metadata": {
        "id": "aIqRzLeE9iz9",
        "colab_type": "text"
      },
      "cell_type": "markdown",
      "source": [
        "### Question 4\n",
        "\n",
        "Plot your feature/label vector as a signal on your graph"
      ]
    },
    {
      "metadata": {
        "inputHidden": false,
        "outputHidden": false,
        "id": "lgmhlNGy9iz_",
        "colab_type": "code",
        "colab": {}
      },
      "cell_type": "code",
      "source": [
        "#graph.set_coordinates('line1D')\n",
        "#graph.plot_signal(labels, plot_name='Label Vector as a Signal on Graph', colorbar=True)"
      ],
      "execution_count": 0,
      "outputs": []
    },
    {
      "metadata": {
        "id": "UEhvPWOeM9EL",
        "colab_type": "code",
        "outputId": "b2e04406-b2a0-4873-a7d9-2cf4a13d9479",
        "colab": {
          "base_uri": "https://localhost:8080/",
          "height": 280
        }
      },
      "cell_type": "code",
      "source": [
        "graph.set_coordinates(eigenvectors[:, 1:3]) \n",
        "graph.plot_signal(labels, plot_name='Label Vector as a Signal on Graph', colorbar=True, limits=limits)"
      ],
      "execution_count": 116,
      "outputs": [
        {
          "output_type": "display_data",
          "data": {
            "image/png": "[encoded data removed]",
            "text/plain": [
              "<matplotlib.figure.Figure at 0x7f031943c0b8>"
            ]
          },
          "metadata": {
            "tags": []
          }
        }
      ]
    },
    {
      "metadata": {
        "id": "uzyPcunKBfln",
        "colab_type": "code",
        "colab": {
          "base_uri": "https://localhost:8080/",
          "height": 34
        },
        "outputId": "21211360-90c5-4693-de6e-5a788d14120c"
      },
      "cell_type": "code",
      "source": [
        "# white values are way higher than black ones (Nonspammers higher than spammers)\n",
        "np.unique(labels,return_counts=True)"
      ],
      "execution_count": 19,
      "outputs": [
        {
          "output_type": "execute_result",
          "data": {
            "text/plain": [
              "(array([0, 1]), array([59725,  2448]))"
            ]
          },
          "metadata": {
            "tags": []
          },
          "execution_count": 19
        }
      ]
    },
    {
      "metadata": {
        "id": "iicW7LTM9i0E",
        "colab_type": "text"
      },
      "cell_type": "markdown",
      "source": [
        "Plot the absolute values of the GFT of your feature/label signal as a function of the graph eigenvalues. Make sure to add a marker indicating the position of each graph eigenvalue, and remember to properly name the axes."
      ]
    },
    {
      "metadata": {
        "id": "trcaZhgCRIZ-",
        "colab_type": "code",
        "outputId": "0d7ecf59-6d54-4156-daf8-cc3d44384d84",
        "colab": {
          "base_uri": "https://localhost:8080/",
          "height": 282
        }
      },
      "cell_type": "code",
      "source": [
        "plt.plot(e, abs(GFT(labels)))"
      ],
      "execution_count": 15,
      "outputs": [
        {
          "output_type": "execute_result",
          "data": {
            "text/plain": [
              "[<matplotlib.lines.Line2D at 0x7f03271f5da0>]"
            ]
          },
          "metadata": {
            "tags": []
          },
          "execution_count": 15
        },
        {
          "output_type": "display_data",
          "data": {
            "image/png": "[encoded data removed]",
            "text/plain": [
              "<matplotlib.figure.Figure at 0x7f032727c358>"
            ]
          },
          "metadata": {
            "tags": []
          }
        }
      ]
    },
    {
      "metadata": {
        "id": "O3Dpr02y9i0K",
        "colab_type": "text"
      },
      "cell_type": "markdown",
      "source": [
        "### Question 5\n",
        "\n",
        "Discuss the behavior of the GFT that you plotted in the last question via comparing the plot of your label signal and those of the Fourier basis of Question 1. Would you consider your labels a \"low-pass\" or \"high-pass\" signal, or yet something else entirely?"
      ]
    },
    {
      "metadata": {
        "id": "0Eoo8eb5VJXC",
        "colab_type": "text"
      },
      "cell_type": "markdown",
      "source": [
        "__Extra part to try to understand better the labels signal nature__\n",
        "\n",
        "We did stem plot of our signal as well in addition to the plots we have above to understand better our signal nature.\n"
      ]
    },
    {
      "metadata": {
        "id": "Eu6tPMHjCUfj",
        "colab_type": "code",
        "colab": {
          "base_uri": "https://localhost:8080/",
          "height": 367
        },
        "outputId": "e73efd00-55a3-4a40-b5d7-16ba77388007"
      },
      "cell_type": "code",
      "source": [
        "# Stem Plot\n",
        "# We only plotted for first 5000 labels but the remaining maintains the same behaviour\n",
        "plt.figure(figsize=(400,5))\n",
        "plt.stem(labels[:5000])"
      ],
      "execution_count": 24,
      "outputs": [
        {
          "output_type": "execute_result",
          "data": {
            "text/plain": [
              "<Container object of 3 artists>"
            ]
          },
          "metadata": {
            "tags": []
          },
          "execution_count": 24
        },
        {
          "output_type": "display_data",
          "data": {
            "image/png": "[encoded data removed]",
            "text/plain": [
              "<matplotlib.figure.Figure at 0x7f031ca81e48>"
            ]
          },
          "metadata": {
            "tags": []
          }
        }
      ]
    },
    {
      "metadata": {
        "id": "m4ZDDeXz9i0L",
        "colab_type": "text"
      },
      "cell_type": "markdown",
      "source": [
        "\n",
        "**Our answer:**\n",
        "\n",
        "In the last graph we draw our network with our labels signal, the values are either 1-black (spammers) or 0-white (non-spammers). Hence, there are more whites (non-spammers). We see this from the above stem plot of the signal as well. Once we look at to the abstract value of labels after GFT, we see that the last plot in question 4, result is smoother than the ones we see in the first question. Hence, we think that our labels signal is low pass."
      ]
    },
    {
      "metadata": {
        "code_folding": [],
        "id": "0f40T10G9i0M",
        "colab_type": "text"
      },
      "cell_type": "markdown",
      "source": [
        "## 2 - Filtering on graphs\n",
        "\n",
        "In this section we will check how filtered Dirac impulses diffuse on your graph."
      ]
    },
    {
      "metadata": {
        "inputHidden": false,
        "outputHidden": false,
        "id": "_CDSXt939i0N",
        "colab_type": "text"
      },
      "cell_type": "markdown",
      "source": [
        "### Question 6 \n",
        "\n",
        "Implement the following three filter kernels and the graph filtering operation.\n",
        "\n",
        "- The **heat kernel** is supposed to take in a vector of eigenvalues `e` and a parameter `t` and output a vector of evaluations of the heat kernel at those eigenvalues (see the course slides for help).\n",
        "- The **inverse filter** kernel is supposed to take in a vector of eigenvalues `e` and a parameter `t` and implement spectrally the  filter defined in the node domain by $f_{out}  = (I + t L)^{-1} f_{in},$ where $f_{in}, f_{out} \\in \\mathbb{R}^{N}$ are, repectively, the input and output signals to the filter.\n",
        "- The **rectangle kernel** takes in a vector of eigenvalues `e` and parameters `l_min` and `l_max` and returns `1.0` at coordinates satisfying $(e[l] \\geq l_{min}) \\wedge (e[l] \\leq l_{max}),$ and `0.0` otherwise.\n",
        "- The **graph filtering** operation takes a graph signal $x \\in \\mathbb{R}^{N}$, a spectral graph `kernel` and a set of keyworded variables, and returns the corresponding filtered signal.\n",
        "    - _Hint:_ Remember that you have implemented the `GFT` and `iGFT` operations in Question 3.\n",
        "    - The `**kwargs` is a placeholder to collect supplementary pairs of keyword-values that are not known by the implementation before execution time.\n",
        "      The `kwargs` variable is a dictionary whose keyes and values are the parameter names and values.\n",
        "      This is useful to allow both `graph_filter(x, heat_kernel, tau=1.0)` and `graph_filter(x, rectangle_kernel, lambda_min=0.0, lambda_max=1.0)` to be valid calls from the same implementation.\n",
        "      One can then defer the keyword-value assignment to the `kernel` call: `foo = kernel(bar, **kwargs)`."
      ]
    },
    {
      "metadata": {
        "inputHidden": false,
        "outputHidden": false,
        "id": "fRPk4GD69i0O",
        "colab_type": "code",
        "colab": {}
      },
      "cell_type": "code",
      "source": [
        "def heat_kernel(e, t):\n",
        "    return # Your code here.\n",
        "\n",
        "def inverse_kernel(e, t):\n",
        "    return # Your code here.\n",
        "\n",
        "def rectangle_kernel(e, l_min, l_max):\n",
        "    return # Your code here.\n",
        "\n",
        "def graph_filter(x, kernel, **kwargs):\n",
        "    return # Your code here."
      ],
      "execution_count": 0,
      "outputs": []
    },
    {
      "metadata": {
        "id": "hNU6daPS9i0R",
        "colab_type": "text"
      },
      "cell_type": "markdown",
      "source": [
        "### Question 7\n",
        "\n",
        "Plot all three filter kernels in the spectral domain. Remember to properly name the axes and title the plots. Choose filter parameters that best approximate the behavior of the GFT of your feature/label signal (as seen in Question 4)."
      ]
    },
    {
      "metadata": {
        "inputHidden": false,
        "outputHidden": false,
        "id": "86sEV3qK9i0S",
        "colab_type": "code",
        "colab": {}
      },
      "cell_type": "code",
      "source": [
        "# Your code here."
      ],
      "execution_count": 0,
      "outputs": []
    },
    {
      "metadata": {
        "id": "YFCH5fb89i0V",
        "colab_type": "text"
      },
      "cell_type": "markdown",
      "source": [
        "### Question 8\n",
        "\n",
        "Consider two Dirac impulses arbitrarily placed on your graph. Plot their filtered versions by the three filter kernels implemented in Question 6."
      ]
    },
    {
      "metadata": {
        "inputHidden": false,
        "outputHidden": false,
        "id": "bgcHX9ee9i0W",
        "colab_type": "code",
        "colab": {}
      },
      "cell_type": "code",
      "source": [
        "# Your code here."
      ],
      "execution_count": 0,
      "outputs": []
    },
    {
      "metadata": {
        "id": "Pf25R8mf9i0Z",
        "colab_type": "text"
      },
      "cell_type": "markdown",
      "source": [
        "Comment on the \"diffusion\" of the Diracs induced by the filters. What does it say about the \"communication\" of information across your network? Relate that to the network connectivity measures that you analyzed during the previous milestones."
      ]
    },
    {
      "metadata": {
        "inputHidden": false,
        "outputHidden": false,
        "id": "HEQWkWuh9i0c",
        "colab_type": "text"
      },
      "cell_type": "markdown",
      "source": [
        "**Your answer here.**"
      ]
    },
    {
      "metadata": {
        "id": "UJ-zMW-09i0d",
        "colab_type": "text"
      },
      "cell_type": "markdown",
      "source": [
        "## 3 - De-noising\n",
        "\n",
        "In this section we will add some centered Gaussian noise to your feature/label signal and attempt to recover it."
      ]
    },
    {
      "metadata": {
        "id": "ffOCa14v9i0e",
        "colab_type": "text"
      },
      "cell_type": "markdown",
      "source": [
        "### Question 9\n",
        "\n",
        "In the cell below, set the noise variance $\\sigma^2$ by making sure that the signal-to-noise ratio $SNR = \\frac{\\operatorname{Var}(\\text{labels})}{\\sigma^2}$ is about  $1.5$.\n",
        "\n",
        "_Note:_ Actually, you might want to play with the noise variance here and set it to different values and see how the denoising filters behave."
      ]
    },
    {
      "metadata": {
        "inputHidden": false,
        "outputHidden": false,
        "id": "F_G-4EO-9i0f",
        "colab_type": "code",
        "colab": {}
      },
      "cell_type": "code",
      "source": [
        "noise_variance = # Your code here.\n",
        "noisy_measurements = labels + noise_variance * np.random.randn(n_nodes)"
      ],
      "execution_count": 0,
      "outputs": []
    },
    {
      "metadata": {
        "id": "gLQryn_99i0i",
        "colab_type": "text"
      },
      "cell_type": "markdown",
      "source": [
        "### Question 10\n",
        "\n",
        "In the denoising setting, a common graph signal processing assumption is that the signal $z$ that we want to recover is \"smooth\", in the sense that $\\|\\nabla_G z\\|_2 = \\sqrt{z^{\\top} L z}$ is small, while remaining \"close\" to the measurements that we start with. This leads to denoising by solving the following optimization problem:\n",
        "\n",
        "$$\n",
        "z^\\star = \\text{arg} \\, \\underset{z \\in \\mathbb{R}^{N}}{\\min} \\, \\|z - y\\|_2^2 + \\gamma z^{\\top} L z, \n",
        "$$\n",
        "\n",
        "where $y \\in \\mathbb{R}^{N}$ is the vector of noisy measurements.\n",
        "\n",
        "Derive the close form solution to this problem giving $z^\\star$ as a function of $y$, $\\gamma$ and $L$. Does this solution correspond to any graph filtering operation that you know?"
      ]
    },
    {
      "metadata": {
        "id": "D4PE9t0p9i0j",
        "colab_type": "text"
      },
      "cell_type": "markdown",
      "source": [
        "**Your answer here.**"
      ]
    },
    {
      "metadata": {
        "id": "R8wDfoBh9i0k",
        "colab_type": "text"
      },
      "cell_type": "markdown",
      "source": [
        "### Question 11\n",
        "\n",
        "Now, denoise the noisy measurements by passing them through the filters that you implemented in Question 6. Choose the filter parameters based on the behavior of the GFT of your original label signal (this is the prior knowledge that you input to the problem)."
      ]
    },
    {
      "metadata": {
        "inputHidden": false,
        "outputHidden": false,
        "id": "JbKOogO59i0l",
        "colab_type": "code",
        "colab": {}
      },
      "cell_type": "code",
      "source": [
        "z_heat_denoised = # Your code here.\n",
        "z_inv_denoised = # Your code here.\n",
        "z_rect_denoised = # Your code here."
      ],
      "execution_count": 0,
      "outputs": []
    },
    {
      "metadata": {
        "id": "y9fycbW29i0n",
        "colab_type": "text"
      },
      "cell_type": "markdown",
      "source": [
        "Plot, on your graph, the original label signal, the noisy measurements, and the three denoised version obtained above. Report on each plot the value of the corresponding relative error \n",
        "$$\n",
        "\\text{rel-err} = \\frac{\\|\\text{labels} - z \\|_2}{\\|\\text{labels}\\|_2},\n",
        "$$\n",
        "where $z$ is the plotted signal."
      ]
    },
    {
      "metadata": {
        "inputHidden": false,
        "outputHidden": false,
        "id": "nk8zdNdc9i0o",
        "colab_type": "code",
        "colab": {}
      },
      "cell_type": "code",
      "source": [
        "# Your code here."
      ],
      "execution_count": 0,
      "outputs": []
    },
    {
      "metadata": {
        "id": "NH07dMbk9i0q",
        "colab_type": "text"
      },
      "cell_type": "markdown",
      "source": [
        "Finally, overlay on the same plot the GFT of all five signals above."
      ]
    },
    {
      "metadata": {
        "inputHidden": false,
        "outputHidden": false,
        "id": "f0lzgNal9i0r",
        "colab_type": "code",
        "colab": {}
      },
      "cell_type": "code",
      "source": [
        "# Your code here."
      ],
      "execution_count": 0,
      "outputs": []
    },
    {
      "metadata": {
        "id": "mxHx1twf9i0v",
        "colab_type": "text"
      },
      "cell_type": "markdown",
      "source": [
        "### Question 12\n",
        "\n",
        "Comment on which denoised version seems to best match the original label signal. What is the underlying assumption behind the three filtering approaches? Do you think it holds for your label signal? Why?"
      ]
    },
    {
      "metadata": {
        "id": "Qm_3OEOP9i0w",
        "colab_type": "text"
      },
      "cell_type": "markdown",
      "source": [
        "**Your answer here.**"
      ]
    },
    {
      "metadata": {
        "ExecuteTime": {
          "end_time": "2018-08-31T13:05:59.301384Z",
          "start_time": "2018-08-31T13:05:59.297336Z"
        },
        "id": "Q4kcVx3J9i00",
        "colab_type": "text"
      },
      "cell_type": "markdown",
      "source": [
        "## 4 - Transductive learning\n",
        "\n",
        "It is often the case in large networks that we can only afford to query properties/labels on a small subset of nodes. Nonetheless, if the underlying labels signal is \"regular\" enough, we might still be able to recover a good approximation of it by solving an offline variational problem, with constraints on the values of the measured nodes. \n",
        "\n",
        "In this section, we will be interested in solving such transductive learning problems by minimizing a (semi-) p-norm of the graph gradient applied to the signal of interest:\n",
        "\n",
        "$$\n",
        "\\text{arg} \\, \\underset{z|_S = y}{\\min} \\|\\nabla_G z\\|_p^p,\n",
        "$$\n",
        "\n",
        "where $S$ is the set of measured nodes.\n",
        "\n",
        "In English, we can say that we are looking for solutions with small \"aggregated local variations\", as measured by $\\|\\nabla_G z\\|_p^p = \\sum_{i=1}^{n} \\sum_{j=1}^{n} \\left( \\sqrt{W_{ij}} |z[i] - z[j]| \\right)^p,$ while satisfying the measurement constraints $z[i] = y[i]$ for $i \\in S.$\n",
        "\n",
        "We will work with two cases, according to the choices $p=1$ or $p=2.$ For $p=1,$ the problem is known as \"interpolation by graph total-variation minimization,\" whereas for $p=2$ it is sometimes called \"interpolation by Tikhonov regularization\".\n",
        "\n",
        "In order to solve these variational problems with the black-box solver provided to you, you will use the [pyunlocbox](https://pyunlocbox.readthedocs.io). This toolbox implements iterative solvers based on so-called [\"proximal-splitting\"](https://en.wikipedia.org/wiki/Proximal_gradient_method) methods."
      ]
    },
    {
      "metadata": {
        "id": "nu_f4kBe9i02",
        "colab_type": "text"
      },
      "cell_type": "markdown",
      "source": [
        "### Question 13\n",
        "\n",
        "Throughout this section, we will consider only a binarized version of your label signal. If your variable `labels` currently has values other than $\\{-1, 1\\},$ threshold them so that those are the only values taken in this vector. This can be done for example by choosing a number $t \\in \\mathbb{R}$ and then setting $\\text{labels_bin}[i] = 1$ if $\\text{labels}[i] \\geq t$ and $\\text{labels_bin}[i] = 0$ otherwise."
      ]
    },
    {
      "metadata": {
        "inputHidden": false,
        "outputHidden": false,
        "id": "6xnpSiDY9i04",
        "colab_type": "code",
        "colab": {}
      },
      "cell_type": "code",
      "source": [
        "labels_bin = # Your code here."
      ],
      "execution_count": 0,
      "outputs": []
    },
    {
      "metadata": {
        "id": "FXsgTOEu9i0_",
        "colab_type": "text"
      },
      "cell_type": "markdown",
      "source": [
        "Now, subsample this binarized label signal by $70\\%$ by choosing, uniformly at random, $30\\%$ of the nodes whose labels we will keep.\n",
        "\n",
        "You will do this by computing a \"measurement mask\" vector `w` with `1.0`'s at the measured coordinates, and $0.0$'s otherwise."
      ]
    },
    {
      "metadata": {
        "inputHidden": false,
        "outputHidden": false,
        "id": "L9zpf34X9i1B",
        "colab_type": "code",
        "colab": {}
      },
      "cell_type": "code",
      "source": [
        "mn_ratio = 0.3\n",
        "m = int(mn_ratio * n_nodes)  # Number of measurements.\n",
        "\n",
        "w = # Your code here."
      ],
      "execution_count": 0,
      "outputs": []
    },
    {
      "metadata": {
        "id": "2e7P4PHW9i1J",
        "colab_type": "text"
      },
      "cell_type": "markdown",
      "source": [
        "Plot the subsampled signal on the graph. _Hint:_ you might want to set to `numpy.nan` the values of the un-measured nodes for a cleaner plot."
      ]
    },
    {
      "metadata": {
        "inputHidden": false,
        "outputHidden": false,
        "id": "kZna3U809i1K",
        "colab_type": "code",
        "colab": {}
      },
      "cell_type": "code",
      "source": [
        "# Your code here."
      ],
      "execution_count": 0,
      "outputs": []
    },
    {
      "metadata": {
        "id": "BGJuc6xr9i1Q",
        "colab_type": "text"
      },
      "cell_type": "markdown",
      "source": [
        "### Interlude\n",
        "\n",
        "For the solution of the variational problems you can use the following function as a \"black-box\". \n",
        "\n",
        "You will just need to provide a `gradient` matrix (which you should already have from Section 0), and an orthogonal projection operator `P` onto the span of the measured coordinates (made precise in the next question)."
      ]
    },
    {
      "metadata": {
        "id": "IN9htkZL9i1R",
        "colab_type": "code",
        "colab": {}
      },
      "cell_type": "code",
      "source": [
        "def graph_pnorm_interpolation(gradient, P, x0=None, p=1., **kwargs):\n",
        "    r\"\"\"\n",
        "    Solve an interpolation problem via gradient p-norm minimization.\n",
        "\n",
        "    A signal :math:`x` is estimated from its measurements :math:`y = A(x)` by solving\n",
        "    :math:`\\text{arg}\\underset{z \\in \\mathbb{R}^n}{\\min}\n",
        "    \\| \\nabla_G z \\|_p^p \\text{ subject to } Az = y` \n",
        "    via a primal-dual, forward-backward-forward algorithm.\n",
        "\n",
        "    Parameters\n",
        "    ----------\n",
        "    gradient : array_like\n",
        "        A matrix representing the graph gradient operator\n",
        "    P : callable\n",
        "        Orthogonal projection operator mapping points in :math:`z \\in \\mathbb{R}^n` \n",
        "        onto the set satisfying :math:`A P(z) = A z`.\n",
        "    x0 : array_like, optional\n",
        "        Initial point of the iteration. Must be of dimension n.\n",
        "        (Default is `numpy.random.randn(n)`)\n",
        "    p : {1., 2.}\n",
        "    kwargs :\n",
        "        Additional solver parameters, such as maximum number of iterations\n",
        "        (maxit), relative tolerance on the objective (rtol), and verbosity\n",
        "        level (verbosity). See :func:`pyunlocbox.solvers.solve` for the full\n",
        "        list of options.\n",
        "\n",
        "    Returns\n",
        "    -------\n",
        "    x : array_like\n",
        "        The solution to the optimization problem.\n",
        "\n",
        "    \"\"\"\n",
        "    \n",
        "    grad = lambda z: gradient.dot(z)\n",
        "    div = lambda z: gradient.transpose().dot(z)\n",
        "\n",
        "    # Indicator function of the set satisfying :math:`y = A(z)`\n",
        "    f = functions.func()\n",
        "    f._eval = lambda z: 0\n",
        "    f._prox = lambda z, gamma: P(z)\n",
        "\n",
        "    # :math:`\\ell_1` norm of the dual variable :math:`d = \\nabla_G z`\n",
        "    g = functions.func()\n",
        "    g._eval = lambda z: np.sum(np.abs(grad(z)))\n",
        "    g._prox = lambda d, gamma: functions._soft_threshold(d, gamma)\n",
        "\n",
        "    # :math:`\\ell_2` norm of the gradient (for the smooth case)\n",
        "    h = functions.norm_l2(A=grad, At=div)\n",
        "\n",
        "    stepsize = (0.9 / (1. + scipy.sparse.linalg.norm(gradient, ord='fro'))) ** p\n",
        "\n",
        "    solver = solvers.mlfbf(L=grad, Lt=div, step=stepsize)\n",
        "\n",
        "    if p == 1.:\n",
        "        problem = solvers.solve([f, g, functions.dummy()], x0=x0, solver=solver, **kwargs)\n",
        "        return problem['sol']\n",
        "    if p == 2.:\n",
        "        problem = solvers.solve([f, functions.dummy(), h], x0=x0, solver=solver, **kwargs)\n",
        "        return problem['sol']\n",
        "    else:\n",
        "        return x0"
      ],
      "execution_count": 0,
      "outputs": []
    },
    {
      "metadata": {
        "id": "3bpB9sfP9i1T",
        "colab_type": "text"
      },
      "cell_type": "markdown",
      "source": [
        "### Question 14\n",
        "\n",
        "During the iterations of the algorithm used for solving the variational problem, we have to make sure that the labels at the measured nodes stay the same. We will do this by means of an operator `P` which, given a vector $a \\in \\mathbb{R}^{N},$ returns another vector $b \\in \\mathbb{R}^{N}$ satisfying $b[i] = \\text{labels_bin}[i]$ for every node $i$ in the set $S$ of known labels, and $b[i] = a[i]$ otherwise. Write in the cell below the function for this orthogonal projection operator `P`.\n",
        "\n",
        "_Hint:_ remember you have already computed the mask `w`."
      ]
    },
    {
      "metadata": {
        "inputHidden": false,
        "outputHidden": false,
        "id": "wSDYwb-U9i1T",
        "colab_type": "code",
        "colab": {}
      },
      "cell_type": "code",
      "source": [
        "def P(a):\n",
        "    # Your code here.\n",
        "    return b"
      ],
      "execution_count": 0,
      "outputs": []
    },
    {
      "metadata": {
        "inputHidden": false,
        "outputHidden": false,
        "id": "gsfN-_ne9i1X",
        "colab_type": "text"
      },
      "cell_type": "markdown",
      "source": [
        "### Question 15\n",
        "\n",
        "Solve the variational problems for $p = 1$ and $p = 2$. Record the solution for the $1-$norm minimization under `sol_1norm_min` and the one for $2-$norm minimization under `sol_2norm_min`.\n",
        "\n",
        "Compute also binarized versions of these solutions by thresholding the values with respect to $0$, that is, non-negative values become `1.0`, while negative values become `-1.0`. Store those binarized versions under `sol_1norm_bin` and `sol_2norm_bin`, respectively."
      ]
    },
    {
      "metadata": {
        "inputHidden": false,
        "outputHidden": false,
        "id": "D-e9rytw9i1X",
        "colab_type": "code",
        "colab": {}
      },
      "cell_type": "code",
      "source": [
        "sol_1norm_min = # Your code here.\n",
        "\n",
        "sol_2norm_min = # Your code here.\n",
        "\n",
        "threshold = 0\n",
        "\n",
        "sol_1norm_bin = # Your code here.\n",
        "\n",
        "sol_2norm_bin = # Your code here."
      ],
      "execution_count": 0,
      "outputs": []
    },
    {
      "metadata": {
        "inputHidden": false,
        "outputHidden": false,
        "id": "-zil10PK9i1b",
        "colab_type": "text"
      },
      "cell_type": "markdown",
      "source": [
        "Plot, on your graph, the original `labels_bin` signal, as well as the solutions to the variational problems (both binarized and otherwise). Indicate on each plot the value of the relative error $\\text{rel-err} = \\frac{\\|\\text{labels_bin} - z\\|_2}{\\|\\text{labels_bin}\\|_2}$, where $z$ is the signal in the corresponding plot."
      ]
    },
    {
      "metadata": {
        "id": "aPWj161u9i1d",
        "colab_type": "text"
      },
      "cell_type": "markdown",
      "source": [
        "### Question 16\n",
        "\n",
        "Now that you have got a feeling for the sort of solutions that the transductive learning problems studied can give, we will see what is the effect of the number of measurements on the accuracy of both $p-$norm minimization problems.\n",
        "\n",
        "Towards this goal, you will write a `phase_transition()` function. This function will basically go over all the procedures that you have implemented in this section, but for varying numbers of measurements and thresholding values. It will also compute the relative error, $\\text{rel-err},$ of the solutions and average them over a number of trials.\n",
        "\n",
        "The output of the `phase_transition()` function has to be a matrix with `len(mn_ratios)` columns and `len(thresholds)` rows. Each pixel $(i,j)$ in the output matrix has to contain the average, over `n_trials` trials, of the relative error $\\text{rel-err}$ in the binarized (with threshold `thresholds[i]`) solution given by `graph_pnorm_interpolation()` from observing an `mn_ratios[j]` fraction of nodes. The randomness comes from a different choice of mask `w` at each trial, hence the averaging.\n",
        "\n",
        "The interest of this phase transition matrix is to assess what level of recovery error one could expect for a certain fraction of measurements and a certain threshold level."
      ]
    },
    {
      "metadata": {
        "inputHidden": false,
        "outputHidden": false,
        "id": "SN5EpXLM9i1e",
        "colab_type": "code",
        "colab": {}
      },
      "cell_type": "code",
      "source": [
        "def phase_transition(mn_ratios, thresholds, n_trials, labels_bin, p):\n",
        "\n",
        "    # Create sample mask.\n",
        "    \n",
        "    # Solve p-norm interpolation.\n",
        "    \n",
        "    # Aggregate.\n",
        "    \n",
        "    return pt_matrix"
      ],
      "execution_count": 0,
      "outputs": []
    },
    {
      "metadata": {
        "id": "vC4ibOrt9i1g",
        "colab_type": "text"
      },
      "cell_type": "markdown",
      "source": [
        "### Question 17\n",
        "\n",
        "Pick 5 \"m/n\" ratios in $(0, 1)$ and 5 threshold levels in $(-1, 1)$ and run the `phase_transition()` function with `n_trials` = 20, for both $p = 1$ and $p = 2$."
      ]
    },
    {
      "metadata": {
        "inputHidden": false,
        "outputHidden": false,
        "id": "Myico0W49i1i",
        "colab_type": "code",
        "colab": {}
      },
      "cell_type": "code",
      "source": [
        "mn_ratios = # Your code here.\n",
        "\n",
        "thresholds = # Your code here.\n",
        "\n",
        "pt_matrix_1norm = # Your code here.\n",
        "\n",
        "pt_matrix_2norm = # Your code here."
      ],
      "execution_count": 0,
      "outputs": []
    },
    {
      "metadata": {
        "id": "3uoSJTR89i1k",
        "colab_type": "text"
      },
      "cell_type": "markdown",
      "source": [
        "Plot both phase transition matrices as images with a colorbar. Make sure to properly name the axes and title the images. "
      ]
    },
    {
      "metadata": {
        "inputHidden": false,
        "outputHidden": false,
        "id": "Zzmoik0Z9i1l",
        "colab_type": "code",
        "colab": {}
      },
      "cell_type": "code",
      "source": [
        "# Your code here."
      ],
      "execution_count": 0,
      "outputs": []
    },
    {
      "metadata": {
        "id": "Pzd70wTO9i1o",
        "colab_type": "text"
      },
      "cell_type": "markdown",
      "source": [
        "### Question 18\n",
        "\n",
        "Do the phase transition plots above provide any justification for choosing one $p-$norm interpolation over the other? Why?"
      ]
    },
    {
      "metadata": {
        "id": "Cz9jEOx29i1p",
        "colab_type": "text"
      },
      "cell_type": "markdown",
      "source": [
        "**Your answer here.**"
      ]
    },
    {
      "metadata": {
        "id": "gE7zrip2Wdpv",
        "colab_type": "code",
        "colab": {}
      },
      "cell_type": "code",
      "source": [
        "# https://pygsp.readthedocs.io/en/stable/_modules/pygsp/graphs/fourier.html\n",
        "\n",
        "def GFT(x):\n",
        "    # np.tensordot(U, s, ([0], [0]))\n",
        "    # f_hat=reshape(G.U'*reshape(f,G.N,[]),s);\n",
        "    x_hat = np.tensordot(U, x, ([0], [0]))\n",
        "    return x_hat\n",
        "\n",
        "def iGFT(x):\n",
        "    # f=reshape(G.U * reshape(f_hat,G.N,[]),s);\n",
        "    # np.tensordot(self.U, s_hat, ([1], [0]))\n",
        "    x_star = np.tensordot(U, x, ([1], [0]))\n",
        "    return x_star"
      ],
      "execution_count": 0,
      "outputs": []
    }
  ]
}