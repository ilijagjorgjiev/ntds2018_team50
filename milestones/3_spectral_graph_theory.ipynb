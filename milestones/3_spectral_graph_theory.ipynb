{
 "cells": [
  {
   "cell_type": "markdown",
   "metadata": {
    "colab_type": "text",
    "id": "a52DbUwVqVeM"
   },
   "source": [
    "# [NTDS'18] milestone 3: spectral graph theory\n",
    "[ntds'18]: https://github.com/mdeff/ntds_2018\n",
    "\n",
    "[Michaël Defferrard](http://deff.ch), [EPFL LTS2](https://lts2.epfl.ch)"
   ]
  },
  {
   "cell_type": "markdown",
   "metadata": {
    "colab_type": "text",
    "id": "cJbuZZ-tqVeQ"
   },
   "source": [
    "## Students\n",
    "\n",
    "* Team: 50\n",
    "* Students: Görkem Çamli, Raphael Laporte, Ilija Gjorgjiev, Murat Genc\n",
    "* Dataset: Spammers on Social Network"
   ]
  },
  {
   "cell_type": "markdown",
   "metadata": {
    "colab_type": "text",
    "id": "MNO75Le6qVeT"
   },
   "source": [
    "## Rules\n",
    "\n",
    "* Milestones have to be completed by teams. No collaboration between teams is allowed.\n",
    "* Textual answers shall be short. Typically one to two sentences.\n",
    "* Code has to be clean.\n",
    "* You cannot import any other library than we imported.\n",
    "* When submitting, the notebook is executed and the results are stored. I.e., if you open the notebook again it should show numerical results and plots. We won't be able to execute your notebooks.\n",
    "* The notebook is re-executed from a blank state before submission. That is to be sure it is reproducible. You can click \"Kernel\" then \"Restart & Run All\" in Jupyter."
   ]
  },
  {
   "cell_type": "markdown",
   "metadata": {
    "colab_type": "text",
    "id": "Q-bZG0kJqVeW"
   },
   "source": [
    "## Objective\n",
    "\n",
    "The goal of this milestone is to get familiar with the graph Laplacian and its spectral decomposition."
   ]
  },
  {
   "cell_type": "markdown",
   "metadata": {
    "colab_type": "text",
    "id": "SnAFNZyBqVeY"
   },
   "source": [
    "## 0 Load your network"
   ]
  },
  {
   "cell_type": "code",
   "execution_count": 1,
   "metadata": {
    "colab": {},
    "colab_type": "code",
    "id": "7T3HjICIqVeb"
   },
   "outputs": [],
   "source": [
    "%matplotlib inline"
   ]
  },
  {
   "cell_type": "markdown",
   "metadata": {
    "colab_type": "text",
    "id": "HDp2N2_yqVek"
   },
   "source": [
    "If you get a `No module named 'sklearn'` error when running the below cell, install [scikit-learn](https://scikit-learn.org) with `conda install scikit-learn` (after activating the `ntds_2018` environment)."
   ]
  },
  {
   "cell_type": "code",
   "execution_count": 2,
   "metadata": {
    "colab": {},
    "colab_type": "code",
    "id": "gQM54dJxqVen"
   },
   "outputs": [],
   "source": [
    "import numpy as np\n",
    "import scipy as sp\n",
    "from scipy import sparse\n",
    "import scipy.sparse.linalg\n",
    "import matplotlib.pyplot as plt\n",
    "from sklearn.cluster import KMeans\n",
    "from scipy import linalg"
   ]
  },
  {
   "cell_type": "markdown",
   "metadata": {
    "colab_type": "text",
    "id": "mtTj00lvqVex"
   },
   "source": [
    "Let's denote your graph as $\\mathcal{G} = (\\mathcal{V}, \\mathcal{E}, A)$, where $\\mathcal{V}$ is the set of nodes, $\\mathcal{E}$ is the set of edges, $A \\in \\mathbb{R}^{N \\times N}$ is the (weighted) adjacency matrix, and $N = |\\mathcal{V}|$ is the number of nodes.\n",
    "\n",
    "Import the adjacency matrix $A$ that you constructed in the first milestone.\n",
    "(You're allowed to update it between milestones if you want to.)"
   ]
  },
  {
   "cell_type": "code",
   "execution_count": 3,
   "metadata": {
    "colab": {},
    "colab_type": "code",
    "id": "49TYAZOGqVez"
   },
   "outputs": [],
   "source": [
    "adjacency = sp.load(\"undirected_adjacency.npy\")\n",
    "adjacency = sparse.csr_matrix(adjacency,adjacency.shape,dtype=np.float16)\n",
    "n_nodes =  adjacency.shape[0]"
   ]
  },
  {
   "cell_type": "markdown",
   "metadata": {
    "colab_type": "text",
    "id": "bvpXNUkDqVe7"
   },
   "source": [
    "## 1 Graph Laplacian"
   ]
  },
  {
   "cell_type": "markdown",
   "metadata": {
    "colab_type": "text",
    "id": "bFUbsnFYqVe-"
   },
   "source": [
    "### Question 1\n",
    "\n",
    "From the (weighted) adjacency matrix $A$, compute both the combinatorial (also called unnormalized) and the normalized graph Laplacian matrices.\n",
    "\n",
    "Note: if your graph is weighted, use the weighted adjacency matrix. If not, use the binary adjacency matrix.\n",
    "\n",
    "For efficient storage and computation, store these sparse matrices in a [compressed sparse row (CSR) format](https://en.wikipedia.org/wiki/Sparse_matrix#Compressed_sparse_row_.28CSR.2C_CRS_or_Yale_format.29)."
   ]
  },
  {
   "cell_type": "code",
   "execution_count": 4,
   "metadata": {
    "colab": {},
    "colab_type": "code",
    "id": "mF0RQx-FqVfA"
   },
   "outputs": [],
   "source": [
    "def compute_laplacian_normalized(L, degrees):\n",
    "    newD =  sparse.spdiags(1/np.sqrt(degrees),[0],degrees.size,degrees.size)\n",
    "    return ((newD @ L) @ newD)"
   ]
  },
  {
   "cell_type": "code",
   "execution_count": 5,
   "metadata": {
    "colab": {},
    "colab_type": "code",
    "id": "WEe8QA5BqVfF"
   },
   "outputs": [],
   "source": [
    "degrees = adjacency.sum(0)\n",
    "degree_matrix = sparse.spdiags(degrees,[0],n_nodes,n_nodes)\n",
    "degree_matrix = sparse.csr_matrix(degree_matrix,degree_matrix.shape,dtype=np.float16)"
   ]
  },
  {
   "cell_type": "code",
   "execution_count": 6,
   "metadata": {
    "colab": {
     "base_uri": "https://localhost:8080/",
     "height": 884
    },
    "colab_type": "code",
    "id": "3RUzLK24qVfK",
    "outputId": "1667f3cf-5a9e-4591-eab4-5bbf1960458f"
   },
   "outputs": [],
   "source": [
    "#Laplacian Combinatorial\n",
    "laplacian_combinatorial  =  degree_matrix - adjacency"
   ]
  },
  {
   "cell_type": "code",
   "execution_count": 7,
   "metadata": {
    "colab": {
     "base_uri": "https://localhost:8080/",
     "height": 884
    },
    "colab_type": "code",
    "id": "03O9h7WXqVfS",
    "outputId": "ee567989-be01-49e7-a12f-1cf014a58253"
   },
   "outputs": [],
   "source": [
    "#Laplacian Normalized\n",
    "laplacian_normalized = compute_laplacian_normalized(laplacian_combinatorial, degrees)"
   ]
  },
  {
   "cell_type": "markdown",
   "metadata": {
    "colab_type": "text",
    "id": "7FEQDgfpqVfW"
   },
   "source": [
    "Use one of them as the graph Laplacian $L$ for the rest of the milestone.\n",
    "We however encourage you to run the code with both to get a sense of the difference!"
   ]
  },
  {
   "cell_type": "markdown",
   "metadata": {
    "colab_type": "text",
    "id": "tKoA0IwAqVfX"
   },
   "source": [
    "### Question 2\n",
    "\n",
    "Compute the eigendecomposition of the Laplacian $L = U \\Lambda U^\\top$, where the columns $u_k \\in \\mathbb{R}^N$ of $U = [u_1, \\dots, u_N] \\in \\mathbb{R}^{N \\times N}$ are the eigenvectors and the diagonal elements $\\lambda_k = \\Lambda_{kk}$ are the corresponding eigenvalues.\n",
    "\n",
    "Make sure that the eigenvalues are ordered, i.e., $0 = \\lambda_1 \\leq \\lambda_2 \\leq \\dots \\leq \\lambda_N$."
   ]
  },
  {
   "cell_type": "code",
   "execution_count": 8,
   "metadata": {
    "colab": {},
    "colab_type": "code",
    "id": "gTRh-CaHqVfY"
   },
   "outputs": [],
   "source": [
    "eigenvalues_c, eigenvectors_c = sparse.linalg.eigsh(laplacian_combinatorial,k=1000,which='SM',tol=0.001)\n",
    "np.save(\"eigenvectors_combinatorial\",eigenvectors_c)\n",
    "np.save(\"eigenvalues_combinatorial\",eigenvalues_c)\n",
    "eigenvalues_n, eigenvectors_n = sparse.linalg.eigsh(laplacian_normalized,k=1000,which='SM',tol=0.001)\n",
    "np.save(\"eigenvectors_normalized\",eigenvectors_n)\n",
    "np.save(\"eigenvalues_normalized\" ,eigenvalues_n)"
   ]
  },
  {
   "cell_type": "code",
   "execution_count": 9,
   "metadata": {
    "colab": {},
    "colab_type": "code",
    "id": "ez4arikvgoYb"
   },
   "outputs": [],
   "source": [
    "eigenvectors_c = np.load(\"eigenvectors_combinatorial.npy\")\n",
    "eigenvalues_c= np.load(\"eigenvalues_combinatorial.npy\")\n",
    "\n",
    "eigenvectors_n = np.load(\"eigenvectors_normalized.npy\")\n",
    "eigenvalues_n = np.load(\"eigenvalues_normalized.npy\")"
   ]
  },
  {
   "cell_type": "markdown",
   "metadata": {
    "colab_type": "text",
    "id": "JS8CBnDfqVfh"
   },
   "source": [
    "**Your answer here.**\n",
    "\n",
    "As mentioned above in the comment, we decided to compute only 1000 eigenvalues and eigenvectors as our matrix is too big. We used a tolerance level of 0.001, because it was faster to compute. We would have originaly used the function mentioned in the above comments scipy.linalg.eigh(laplacian.toarray()), as it would have returned us the eigenvalues in asceding order and all of them, also our matrix is real symmetric(hermitian). Otherwise we decided to go with eigsh as it allows us to specify how many eigenvalues and eigenvectors we want and in what order(in our case we use which=\"SM\"). The eigsh can be executed also since our matrix is hermitian and sparse."
   ]
  },
  {
   "cell_type": "markdown",
   "metadata": {
    "colab_type": "text",
    "id": "SDRY8sk8qVfh"
   },
   "source": [
    "### Question 3\n",
    "\n",
    "We can write $L = S S^\\top$. What is the matrix $S$? What does $S^\\top x$, with $x \\in \\mathbb{R}^N$, compute?"
   ]
  },
  {
   "cell_type": "markdown",
   "metadata": {
    "colab_type": "text",
    "id": "PNHvR5cZqVfi"
   },
   "source": [
    "Matrix $S$ is the transpose of the incidence matrix. It has a shape of ($|V|$, $|E|$) , where $|E|$ is the number of edges(i, j) with i being the start node and j being the end node.  $|V|$ is the number of vertices in the graph. S consits of values of $0$, $1$, $-1$ as the incidence matrix. The values are filled based on the following conditions for the row[i] in S.\n",
    "1. If e(i,j) exists in the graph then S[i][j] = 1, which means that there is an edge coming from i to j.\n",
    "2. If e(j,i) exists in the graph then S[i][j] = -1, which means that there is an edge coming from j to i.\n",
    "3. if e(i,j) and e(j,i) does not exist than S[i][j] = 0. \n",
    "Basically each ith row shows if there is an outgoing(1) or incoming(-1) edge for the ith node.\n",
    "\n",
    "Whereas S^T is the incidence matrix. Also L does not depend on edge direction.\n",
    "\n",
    "$S^T x$ computes and returns a vector which will contain for example for edge(i,j) where $i = 1$ and $j = -1$ in the $S^T$ matrix multiplying this will x will just result in x[i] - x[j], if the matrix is just adjacency and there are no weights. So we are going to have a vector which contains differences of ith element of x and jth element of x, for each row in the $S^T$ matrix. If we are dealing of a matrix, where the edges have weights than each element of $S^T x$ will be equal to (w[i] * x[i]) - (w[j] * x[j]), where i and j represent the direction of the node for a specific row of $S^T$.\n",
    "\n",
    "In basic words $S^T x$ vector as a gradient."
   ]
  },
  {
   "cell_type": "markdown",
   "metadata": {
    "colab_type": "text",
    "id": "GCqMqXvCqVfj"
   },
   "source": [
    "### Question 4\n",
    "\n",
    "Show that $\\lambda_k = \\| S^\\top u_k \\|_2^2$, where $\\| \\cdot \\|_2^2$ denotes the squared Euclidean norm (a.k.a. squared $L^2$ norm)."
   ]
  },
  {
   "cell_type": "markdown",
   "metadata": {
    "colab_type": "text",
    "id": "lGnqBPLfqVfn"
   },
   "source": [
    "**Your answer here.**\n",
    "\n",
    "The following statements are equivalent:\n",
    "\n",
    "$\\lambda_k  u_{k} = L  u_k$   \n",
    "$\\lambda_k  u_{k} = S  S^{T}  u_k$   \n",
    "$u_k^{T}  \\lambda_k  u_{k} = u_k^{T}  S  S^{T}  u_{k}$   \n",
    "$u_k^{T}  \\lambda_k  u_{k} = (S^T  u_k)^T  S^T  u_k$  (by property: $(AB)^T = B^T  A^T$)    \n",
    "$u_k^{T}  \\lambda_k  u_{k} = ||S^T u_k||_2^2$  (by dot product which is the same as squared $L^2$ norm)   \n",
    "$\\lambda_k  u_{T}  u_{k} = ||S^T u_k||_2^2$   \n",
    "$\\lambda_k  ||u_k||_2^2 = ||S^T u_k||_2^2 $  \n",
    "$\\lambda_k   = \\frac{||S^T u_k||_2^2}{||u_k||_2^2} $  \n",
    "$\\lambda_k = || S^T \\frac{u_k}{||u_k||_2^2}||_2^2$  \n",
    "$\\lambda_k = \\| S^\\top u_k \\|_2^2$"
   ]
  },
  {
   "cell_type": "markdown",
   "metadata": {
    "colab_type": "text",
    "id": "JmVk0lxOqVfo"
   },
   "source": [
    "What does the quantity $\\| S^\\top x \\|_2^2$ tell us about $x$?"
   ]
  },
  {
   "cell_type": "markdown",
   "metadata": {
    "colab_type": "text",
    "id": "HC-1kZi8qVfp"
   },
   "source": [
    "As mentioned above that $S^T x$ works as a gradient, then the squared $L^2$ norm would give us the smoothnes of x with respect to the graph."
   ]
  },
  {
   "cell_type": "markdown",
   "metadata": {
    "colab_type": "text",
    "id": "L7JeXX8OqVfq"
   },
   "source": [
    "### Question 5\n",
    "\n",
    "What is the value of $u_0$, both for the combinatorial and normalized Laplacians?"
   ]
  },
  {
   "cell_type": "markdown",
   "metadata": {
    "colab_type": "text",
    "id": "v_RZyWbkqVfr"
   },
   "source": [
    "The following statements are equivalent:\n",
    "\n",
    "$\\lambda_0  u_{0} = L  u_0$   \n",
    "$u_{0}^T \\lambda_0  u_{0} = u_{0}^T L u_0$   \n",
    "$ 0 = u_{0}^T L u_0$ (by property that $\\lambda_0 = 0$)   \n",
    "$ 0 =  \\frac{1}{2} \\sum_{i,j} W(i,j) (u_0[i] - u_0[j])^2$ (by property $x^T L x = \\frac{1}{2} \\sum_{i,j} W(i,j) (x[i] - x[j])^2$)  \n",
    "\n",
    "This is only equal to 0, if and only if the non trivial values of $u_0$ are constant. So the elements of $u_0$ are all equal to one another."
   ]
  },
  {
   "cell_type": "markdown",
   "metadata": {
    "colab_type": "text",
    "id": "_PK2g3rRqVfr"
   },
   "source": [
    "### Question 6\n",
    "\n",
    "Look at the spectrum of the Laplacian by plotting the eigenvalues.\n",
    "Comment on what you observe."
   ]
  },
  {
   "cell_type": "code",
   "execution_count": 10,
   "metadata": {
    "colab": {},
    "colab_type": "code",
    "id": "J8EA_uN9qVfs"
   },
   "outputs": [],
   "source": [
    "eigenvalues = eigenvalues_n"
   ]
  },
  {
   "cell_type": "code",
   "execution_count": 11,
   "metadata": {
    "colab": {},
    "colab_type": "code",
    "id": "TvNaPOSfqVfx"
   },
   "outputs": [],
   "source": [
    "# plot eigenvalues\n",
    "def plotEigenvalues(eigenvalues):\n",
    "  plt.scatter(x=range(len(eigenvalues)), y=eigenvalues )\n",
    "  plt.title(\"Eigenvalue Plot\")\n",
    "  plt.xlabel(\"Eigenvalue Index\")\n",
    "  plt.ylabel(\"Eigenvalue\")"
   ]
  },
  {
   "cell_type": "code",
   "execution_count": 12,
   "metadata": {
    "colab": {
     "base_uri": "https://localhost:8080/",
     "height": 294
    },
    "colab_type": "code",
    "id": "wBp2xy_YvzfH",
    "outputId": "4e802829-0121-448d-f63a-129102f9a0c6"
   },
   "outputs": [
    {
     "data": {
      "image/png": "[encoded data removed]",
      "text/plain": [
       "<Figure size 432x288 with 1 Axes>"
      ]
     },
     "metadata": {},
     "output_type": "display_data"
    }
   ],
   "source": [
    "# Combinatorial Laplacian Eigenvalues Plot\n",
    "plotEigenvalues(eigenvalues_c)"
   ]
  },
  {
   "cell_type": "code",
   "execution_count": 13,
   "metadata": {
    "colab": {
     "base_uri": "https://localhost:8080/",
     "height": 294
    },
    "colab_type": "code",
    "id": "WlZO4siTv8nA",
    "outputId": "c156fff4-1eee-4267-eb7a-8f6540bfecbd"
   },
   "outputs": [
    {
     "data": {
      "image/png": "[encoded data removed]",
      "text/plain": [
       "<Figure size 432x288 with 1 Axes>"
      ]
     },
     "metadata": {},
     "output_type": "display_data"
    }
   ],
   "source": [
    "# Normalized Laplacian Eigenvalues Plot\n",
    "plotEigenvalues(eigenvalues_n)"
   ]
  },
  {
   "cell_type": "markdown",
   "metadata": {
    "colab_type": "text",
    "id": "FNRsmqMUqVf0"
   },
   "source": [
    "Scipy library returns the eigenvalues, each repeated according to its multiplicity. Therefore, from the above plot we can observe the spectrum of Laplacian (plotting the repeated eigenvalues according to its algebraic multiplicities).    We only plotted the first 1000 eigenvalues due to the computation time and memory constraints since our graph is too big.\n",
    "\n",
    "**Combinatorial eigenvalue plot:**\n",
    "We see that our first 1000 smallest eigenvalues ranges from 0 to 2. Overall, we see an increasing trend on the eigenvalue plot, more precisely, after ~0.30 eigenvalue it jumps to 1 eigenvalue continues stable for a while (values ar every close to each other) then has a huge increase  up to ~2 in 550-700ish indices and stabilizes again.\n",
    "\n",
    "**Normalized eigenvalue plot:**\n",
    "In the normalized laplacian eigenvalue results, we see an increasing trend up to around ~250 indices and then the values continue with value almost 1 afterwards. "
   ]
  },
  {
   "cell_type": "markdown",
   "metadata": {
    "colab_type": "text",
    "id": "WZkLzgxBqVf1"
   },
   "source": [
    "How many connected components are there in your graph? Answer using the eigenvalues only."
   ]
  },
  {
   "cell_type": "code",
   "execution_count": 14,
   "metadata": {
    "colab": {
     "base_uri": "https://localhost:8080/",
     "height": 51
    },
    "colab_type": "code",
    "id": "nAwJ5NnCqVf2",
    "outputId": "397edb33-92ea-45b3-ada1-8db7dd637f34"
   },
   "outputs": [
    {
     "name": "stdout",
     "output_type": "stream",
     "text": [
      "Count of zeros for Combinatorial:  1\n",
      "Count of zeros for Normalized:  1\n"
     ]
    }
   ],
   "source": [
    "# print('Count of zeros: ', len(np.where(eigenvalues_c == 0)[0]))\n",
    "# print('Count of zeros: ', len(np.where(eigenvalues_n == 0)[0]))\n",
    "\n",
    "print('Count of zeros for Combinatorial: ', len(np.where(eigenvalues_c < 0.00001)[0]))\n",
    "print('Count of zeros for Normalized: ', len(np.where(eigenvalues_n < 0.00001)[0]))"
   ]
  },
  {
   "cell_type": "markdown",
   "metadata": {
    "colab_type": "text",
    "id": "ofukpPSHqVf4"
   },
   "source": [
    "**Our answer:** When the graph is undirected and has non-negative weight, the multiplicity k of the eigenvalue 0 of L gives the number of connected components within the graph. Our graph also undirected and has non-negative weight therefore we can check the connected component number using this rule. The number of eigenvalue 0, is the number of connected components in our graph in this case our graph is connected and we have 1 component in our graph.  \n",
    "\n",
    "Note that since our graph is very big and it takes a lot of time to compute the eigenvalues we pass a tolerant argument while calculating in the linalg.sparse.eigsh function, machine precision took very long time. In the above result, that is why we checked the values close to zero under certain threshold."
   ]
  },
  {
   "cell_type": "markdown",
   "metadata": {
    "colab_type": "text",
    "id": "N2JEvB-fqVf5"
   },
   "source": [
    "Is there an upper bound on the eigenvalues, i.e., what is the largest possible eigenvalue? Answer for both the combinatorial and normalized Laplacians."
   ]
  },
  {
   "cell_type": "markdown",
   "metadata": {
    "colab_type": "text",
    "id": "wQgWwPA5qVf6"
   },
   "source": [
    "Yes, there is an upper bound on the eigenvalues. .\n",
    "\n",
    "__Combinatorial Laplacian:__ The largest possible eigenvalue is the maximum degree (max row/col sum) of the laplacian matrix.      \n",
    "\n",
    "__Normalize Laplacian:__ The upper bound for the largest eigenvalue is 2, the largest eigenvalue is 2 if and only if the graph is bipartite."
   ]
  },
  {
   "cell_type": "markdown",
   "metadata": {
    "colab_type": "text",
    "id": "LyMytH12qVf7"
   },
   "source": [
    "## 3 Laplacian eigenmaps\n",
    "\n",
    "*Laplacian eigenmaps* is a method to embed a graph $\\mathcal{G}$ in a $d$-dimensional Euclidean space.\n",
    "That is, it associates a vector $z_i \\in \\mathbb{R}^d$ to every node $v_i \\in \\mathcal{V}$.\n",
    "The graph $\\mathcal{G}$ is thus embedded as $Z \\in \\mathbb{R}^{N \\times d}$.\n",
    "\n",
    "From now on, if your graph has more than one connected component, work with the giant component only."
   ]
  },
  {
   "cell_type": "code",
   "execution_count": 15,
   "metadata": {
    "colab": {},
    "colab_type": "code",
    "id": "8HBR4kUFqVf8"
   },
   "outputs": [],
   "source": [
    "# Since we have 1 component we skip this part"
   ]
  },
  {
   "cell_type": "markdown",
   "metadata": {
    "colab_type": "text",
    "id": "L7HZyAEvqVf-"
   },
   "source": [
    "### Question 7\n",
    "\n",
    "What do we use Laplacian eigenmaps for? (Or more generally, graph embeddings.)"
   ]
  },
  {
   "cell_type": "markdown",
   "metadata": {
    "colab_type": "text",
    "id": "wPiL9BijqVf_"
   },
   "source": [
    "We use Laplacian eigenmaps for non-linear dimensionality reduction and data visualization/representation purposes. Specifically, the assumption behind the laplacian eigenmaps is the data points lie in a lower dimensional manifold within a high-dimensional space. Since the Laplaican Eigenmap algorithm is rather insensitive to outliers and noise, it leads a natural implicit way for clustering, that is why it is also used in embeddings and clustering. Therefore, Laplacian Eigenmaps are useful for visualizing a graph, spectral clustering and partitioning and also graph coloring. Computer vision and learning is some of the areas they are used at. \n",
    " \n",
    "More generally, graph embeddings are used for again finding the latent vector representations of the graphs in order to capture topology of the graph and used commonly in machine learning. Their main purpose is to preserve some proximity measure defined on the graph by creating mappings."
   ]
  },
  {
   "cell_type": "markdown",
   "metadata": {
    "colab_type": "text",
    "id": "WZymmCsxqVgA"
   },
   "source": [
    "### Question 8\n",
    "\n",
    "Embed your graph in $d=2$ dimensions with Laplacian eigenmaps.\n",
    "Try with and without re-normalizing the eigenvectors by the degrees, then keep the one your prefer.\n",
    "\n",
    "**Recompute** the eigenvectors you need with a partial eigendecomposition method for sparse matrices.\n",
    "When $k \\ll N$ eigenvectors are needed, partial eigendecompositions are much more efficient than complete eigendecompositions.\n",
    "A partial eigendecomposition scales as $\\Omega(k |\\mathcal{E}|$), while a complete eigendecomposition costs $\\mathcal{O}(N^3)$ operations."
   ]
  },
  {
   "cell_type": "code",
   "execution_count": 16,
   "metadata": {
    "colab": {},
    "colab_type": "code",
    "id": "eDC9kuRxqVgA"
   },
   "outputs": [],
   "source": [
    "d = 2\n",
    "# We recompute the eigenvectors since it is asked - althought we could have used the prvios ones\n",
    "# eigenval_c, eigenvec_c = sparse.linalg.eigsh(laplacian_combinatorial,k=d+1,which='SM')\n",
    "# eigenval_n, eigenvec_n = sparse.linalg.eigsh(laplacian_normalized,k=d+1,which='SM')"
   ]
  },
  {
   "cell_type": "code",
   "execution_count": 17,
   "metadata": {
    "colab": {},
    "colab_type": "code",
    "id": "Hr1pgYsaqVgD"
   },
   "outputs": [
    {
     "data": {
      "text/plain": [
       "(62173, 2)"
      ]
     },
     "execution_count": 17,
     "metadata": {},
     "output_type": "execute_result"
    }
   ],
   "source": [
    "# take the first d dimensions excluding\n",
    "laplacian_embedded = eigenvectors_c[:,1:d+1]\n",
    "laplacian_embedded_normalize = eigenvectors_n[:,1:d+1]\n",
    "laplacian_embedded.shape"
   ]
  },
  {
   "cell_type": "markdown",
   "metadata": {
    "colab_type": "text",
    "id": "NVZeoa-fqVgF"
   },
   "source": [
    "Plot the nodes embedded in 2D. Comment on what you see."
   ]
  },
  {
   "cell_type": "code",
   "execution_count": 18,
   "metadata": {
    "colab": {
     "base_uri": "https://localhost:8080/",
     "height": 592
    },
    "colab_type": "code",
    "id": "43lNQOD6qVgG",
    "outputId": "5f6a651d-0373-4c1e-8dce-52901b81c7c5"
   },
   "outputs": [
    {
     "data": {
      "image/png": "[encoded data removed]",
      "text/plain": [
       "<Figure size 720x720 with 1 Axes>"
      ]
     },
     "metadata": {},
     "output_type": "display_data"
    }
   ],
   "source": [
    "# plotting embedded graph in 2D for Combinatorial\n",
    "fig = plt.figure(figsize=(10, 10))\n",
    "ax = plt.scatter(laplacian_embedded[:, 0], laplacian_embedded[:, 1],c=['red'],cmap=plt.cm.Spectral)"
   ]
  },
  {
   "cell_type": "code",
   "execution_count": 19,
   "metadata": {
    "colab": {
     "base_uri": "https://localhost:8080/",
     "height": 592
    },
    "colab_type": "code",
    "id": "v22MDwaAxxO_",
    "outputId": "d88d2e33-ce21-44ea-cebc-b9115d91c240"
   },
   "outputs": [
    {
     "data": {
      "image/png": "[encoded data removed]",
      "text/plain": [
       "<Figure size 720x720 with 1 Axes>"
      ]
     },
     "metadata": {},
     "output_type": "display_data"
    }
   ],
   "source": [
    "# plotting embedded graph in 2D for Normalized\n",
    "fig = plt.figure(figsize=(10, 10))\n",
    "ax = plt.scatter(laplacian_embedded_normalize[:, 0], laplacian_embedded_normalize[:, 1],c=['red'],cmap=plt.cm.Spectral)"
   ]
  },
  {
   "cell_type": "markdown",
   "metadata": {
    "colab_type": "text",
    "id": "6xsWOivdqVgL"
   },
   "source": [
    "For the Combinatorial laplacian 2D plot result what we see is that we see a main location where the points are mostly gathered and two branches one with higher intensity and close to each other and the other more dispersed and a few more outlier points. For the normalized laplacian 2D embedded plot , we see that the points are more normalized and closer to each other and now dispersed through mostly in x direction and the projected points looks like dispersed through a line. "
   ]
  },
  {
   "cell_type": "markdown",
   "metadata": {
    "colab_type": "text",
    "id": "wi1m0duPqVgM"
   },
   "source": [
    "### Question 9"
   ]
  },
  {
   "cell_type": "markdown",
   "metadata": {
    "colab_type": "text",
    "id": "b5V8SF8mqVgO"
   },
   "source": [
    "What does the embedding $Z \\in \\mathbb{R}^{N \\times d}$ preserve?"
   ]
  },
  {
   "cell_type": "markdown",
   "metadata": {
    "colab_type": "text",
    "id": "-Ot1qz_GqVgP"
   },
   "source": [
    "The idea for the Laplacian Eigenmap embedding is to keep connected nodes closer to each other in the vector space. Embedding Z preserves the local neighborhood information embedded for N data in a lower dimensional space in this case for d dimension. These information found by using nearest neighboor calculations for laplacian eigenmaps."
   ]
  },
  {
   "cell_type": "markdown",
   "metadata": {
    "colab_type": "text",
    "id": "BctWQVqCqVgQ"
   },
   "source": [
    "## 2 Spectral clustering\n",
    "\n",
    "*Spectral clustering* is a method to partition a graph into distinct clusters.\n",
    "The method associates a feature vector $z_i \\in \\mathbb{R}^d$ to every node $v_i \\in \\mathcal{V}$, then runs [$k$-means](https://en.wikipedia.org/wiki/K-means_clustering) in the embedding space $\\mathbb{R}^d$ to assign each node $v_i \\in \\mathcal{V}$ to a cluster $c_j \\in \\mathcal{C}$, where $k = |\\mathcal{C}|$ is the number of desired clusters."
   ]
  },
  {
   "cell_type": "markdown",
   "metadata": {
    "colab_type": "text",
    "id": "KgCUVEnvqVgR"
   },
   "source": [
    "### Question 10\n",
    "\n",
    "Choose $k$ and $d$. How did you get to those numbers?"
   ]
  },
  {
   "cell_type": "markdown",
   "metadata": {
    "colab_type": "text",
    "id": "7p_oWgzkqVgR"
   },
   "source": [
    "*In theory, we interpret the value of k by analyzing Laplacian spectrum. If the spectrum clearly has n different clusters, then n=k. For our spectrum, we'll choose k=2 as can be interpreted from Laplacian spectrum. \"d\" refers to dimension, and we'll choose d=3 for visualisation.*"
   ]
  },
  {
   "cell_type": "markdown",
   "metadata": {
    "colab_type": "text",
    "id": "ae_f979fqVgS"
   },
   "source": [
    "### Question 11\n",
    "\n",
    "1. Embed your graph in $\\mathbb{R}^d$ as $Z \\in \\mathbb{R}^{N \\times d}$.\n",
    "   Try with and without re-normalizing the eigenvectors by the degrees, then keep the one your prefer.\n",
    "1. If you want $k=2$ clusters, partition with the Fiedler vector. For $k > 2$ clusters, run $k$-means on $Z$. Don't implement $k$-means, use the `KMeans` class imported from scikit-learn."
   ]
  },
  {
   "cell_type": "code",
   "execution_count": 20,
   "metadata": {},
   "outputs": [],
   "source": [
    "eigenvectors = eigenvectors_n"
   ]
  },
  {
   "cell_type": "code",
   "execution_count": 21,
   "metadata": {},
   "outputs": [
    {
     "data": {
      "text/plain": [
       "<matplotlib.collections.PathCollection at 0x7f907c96cc18>"
      ]
     },
     "execution_count": 21,
     "metadata": {},
     "output_type": "execute_result"
    },
    {
     "data": {
      "image/png": "[encoded data removed]",
      "text/plain": [
       "<Figure size 432x288 with 1 Axes>"
      ]
     },
     "metadata": {},
     "output_type": "display_data"
    }
   ],
   "source": [
    "#eigenvector normalization\n",
    "from sklearn import preprocessing\n",
    "\n",
    "k=2\n",
    "d=k+1\n",
    "\n",
    "r = eigenvectors[:,1:d]\n",
    "\n",
    "thresh                     = 0\n",
    "y_kmeans                   = np.copy(eigenvectors[:,1])\n",
    "y_kmeans[y_kmeans> thresh] = 1\n",
    "y_kmeans[y_kmeans<=thresh] = 0\n",
    "\n",
    "#color the graph\n",
    "plt.scatter(r[:, 0], r[:, 1], c=y_kmeans, s=1, cmap='viridis')\n",
    "\n",
    "# We prefer keeping the re-normalized eigenvectors as the graph has k=2 clear clusters."
   ]
  },
  {
   "cell_type": "code",
   "execution_count": 22,
   "metadata": {},
   "outputs": [
    {
     "data": {
      "text/plain": [
       "<matplotlib.collections.PathCollection at 0x7f907ca4efd0>"
      ]
     },
     "execution_count": 22,
     "metadata": {},
     "output_type": "execute_result"
    },
    {
     "data": {
      "image/png": "[encoded data removed]",
      "text/plain": [
       "<Figure size 432x288 with 1 Axes>"
      ]
     },
     "metadata": {},
     "output_type": "display_data"
    }
   ],
   "source": [
    "#visualize laplacian spectrum with normalized eigenvector v_normalized\n",
    "\n",
    "r2     = preprocessing.normalize(eigenvectors, norm='l2')[:,1:d]\n",
    "\n",
    "y_kmeans                   = np.copy(r2[:,0])\n",
    "y_kmeans[y_kmeans> thresh] = 1\n",
    "y_kmeans[y_kmeans<=thresh] = 0\n",
    "\n",
    "\n",
    "#color the graph\n",
    "plt.scatter(r2[:,0], r2[:,1], c=y_kmeans, cmap='viridis')"
   ]
  },
  {
   "cell_type": "markdown",
   "metadata": {},
   "source": [
    "*We prefer keeping the re-normalized eigenvectors as the graph has less outliers.*"
   ]
  },
  {
   "cell_type": "markdown",
   "metadata": {
    "colab_type": "text",
    "id": "47WG1ZmXqVgW"
   },
   "source": [
    "### Question 12\n",
    "\n",
    "Use the computed cluster assignment to reorder the adjacency matrix $A$.\n",
    "What do you expect? What do you observe?"
   ]
  },
  {
   "cell_type": "markdown",
   "metadata": {},
   "source": [
    "Since our adjacency matrix is undirected, we were expecting to observe cliques"
   ]
  },
  {
   "cell_type": "code",
   "execution_count": 23,
   "metadata": {},
   "outputs": [],
   "source": [
    "x_idx, x = zip(*sorted(zip(y_kmeans,range(len(y_kmeans)))))\n",
    "y_idx, y = zip(*sorted(zip(y_kmeans,range(len(y_kmeans)))))\n",
    "\n",
    "adjacency_ordered = adjacency[x,:][:,y]"
   ]
  },
  {
   "cell_type": "markdown",
   "metadata": {
    "colab_type": "text",
    "id": "JrIGPUl-qVga"
   },
   "source": [
    "### Question 13\n",
    "\n",
    "If you have ground truth clusters for your dataset, compare the cluster assignment from spectral clustering to the ground truth.\n",
    "A simple quantitative measure is to compute the percentage of nodes that have been correctly categorized.\n",
    "If you don't have a ground truth, qualitatively assess the quality of the clustering.\n",
    "\n",
    "Ground truth clusters are the \"real clusters\".\n",
    "For example, the genre of musical tracks in FMA, the category of Wikipedia articles, the spammer status of individuals, etc.\n",
    "Look for the `labels` in the [dataset descriptions](https://github.com/mdeff/ntds_2018/tree/master/projects/README.md)."
   ]
  },
  {
   "cell_type": "code",
   "execution_count": 24,
   "metadata": {},
   "outputs": [
    {
     "name": "stdout",
     "output_type": "stream",
     "text": [
      "Our success ratio is :  0.7024110144274847\n"
     ]
    }
   ],
   "source": [
    "import pandas as pd\n",
    "users        = pd.read_csv('data/filtered_users.csv')\n",
    "ground_truth = np.array(users[[\"Spammer Label\"]])\n",
    "\n",
    "n_nodes = len(ground_truth)\n",
    "# We assign our spammers / non-spammers clusters according to what gives us the best succes rate\n",
    "error_rate   = np.average((y_kmeans - ground_truth.reshape((n_nodes,)))**2)\n",
    "success_rate = error_rate if error_rate > 0.5 else 1-error_rate \n",
    "print(\"Our success ratio is : \",success_rate)"
   ]
  },
  {
   "cell_type": "markdown",
   "metadata": {
    "colab_type": "text",
    "id": "XpWQTC42qVgf"
   },
   "source": [
    "### Question 14\n",
    "\n",
    "Plot the cluster assignment (one color per cluster) on the 2D embedding you computed above with Laplacian eigenmaps."
   ]
  },
  {
   "cell_type": "code",
   "execution_count": 25,
   "metadata": {},
   "outputs": [
    {
     "data": {
      "text/plain": [
       "<matplotlib.collections.PathCollection at 0x7f9075a3d198>"
      ]
     },
     "execution_count": 25,
     "metadata": {},
     "output_type": "execute_result"
    },
    {
     "data": {
      "image/png": "[encoded data removed]",
      "text/plain": [
       "<Figure size 432x288 with 1 Axes>"
      ]
     },
     "metadata": {},
     "output_type": "display_data"
    }
   ],
   "source": [
    "plt.scatter(r2[:,0], r2[:,1], c=ground_truth.reshape((n_nodes,)), s=400, cmap='viridis', alpha = 0.6)"
   ]
  },
  {
   "cell_type": "markdown",
   "metadata": {},
   "source": [
    "When looking at our ground truth, we see that our clustering is not that far off from the ground truth.    \n",
    "Interestingly, our miss-assigned points are all in one area ( to the right of the purple cluster, we have a bunch of yellow data points that should be in the purple cluster )\n",
    "We think that these miss-assigned points correspond to users who are especially targeted by spammers -- our analysis used the undirected adjacency matrix, and as such, nodes corresponding to users being spammed could be topologically similar to those corresponding to spammers. "
   ]
  },
  {
   "cell_type": "markdown",
   "metadata": {
    "colab_type": "text",
    "id": "8QA5eKf1qVgl"
   },
   "source": [
    "### Question 15\n",
    "\n",
    "Why did we use the eigenvectors of the graph Laplacian as features? Could we use other features for clustering?"
   ]
  },
  {
   "cell_type": "markdown",
   "metadata": {
    "colab_type": "text",
    "id": "LGgCJLHVqVgl"
   },
   "source": [
    "The eigenvectors of the graph Laplacian preserve local distances, and as such are relatively insensitive to ouliers and noise^1. Dimensionality reduction is necessary for clustering as we are initially running in a space with too many dimensions for k_means to converge -- as such, using eigenvectors as features is recommended as they allow us to reduce dimensions whilst minimizing entropy loss. However, this does not necessarily mean that we must use the eigenvectors from the graph Laplacian, using eigenvectors extracted from other features can also work."
   ]
  }
 ],
 "metadata": {
  "colab": {
   "collapsed_sections": [],
   "name": "3_spectral_graph_theory_last.ipynb",
   "provenance": [],
   "version": "0.3.2"
  },
  "kernelspec": {
   "display_name": "ntds_2018",
   "language": "python",
   "name": "ntds_2018"
  },
  "language_info": {
   "codemirror_mode": {
    "name": "ipython",
    "version": 3
   },
   "file_extension": ".py",
   "mimetype": "text/x-python",
   "name": "python",
   "nbconvert_exporter": "python",
   "pygments_lexer": "ipython3",
   "version": "3.6.6"
  }
 },
 "nbformat": 4,
 "nbformat_minor": 1
}
