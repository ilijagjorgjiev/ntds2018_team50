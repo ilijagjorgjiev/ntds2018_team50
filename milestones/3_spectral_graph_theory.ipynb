{
  "nbformat": 4,
  "nbformat_minor": 0,
  "metadata": {
    "colab": {
      "name": "3_spectral_graph_theory_last.ipynb",
      "version": "0.3.2",
      "provenance": [],
      "collapsed_sections": []
    },
    "kernelspec": {
      "name": "python3",
      "display_name": "Python 3"
    }
  },
  "cells": [
    {
      "metadata": {
        "id": "a52DbUwVqVeM",
        "colab_type": "text"
      },
      "cell_type": "markdown",
      "source": [
        "# [NTDS'18] milestone 3: spectral graph theory\n",
        "[ntds'18]: https://github.com/mdeff/ntds_2018\n",
        "\n",
        "[Michaël Defferrard](http://deff.ch), [EPFL LTS2](https://lts2.epfl.ch)"
      ]
    },
    {
      "metadata": {
        "id": "cJbuZZ-tqVeQ",
        "colab_type": "text"
      },
      "cell_type": "markdown",
      "source": [
        "## Students\n",
        "\n",
        "* Team: 50\n",
        "* Students: Görkem Çamli, Raphael Laporte, Ilija Gjorgjiev, Murat Genc\n",
        "* Dataset: Spammers on Social Network"
      ]
    },
    {
      "metadata": {
        "id": "MNO75Le6qVeT",
        "colab_type": "text"
      },
      "cell_type": "markdown",
      "source": [
        "## Rules\n",
        "\n",
        "* Milestones have to be completed by teams. No collaboration between teams is allowed.\n",
        "* Textual answers shall be short. Typically one to two sentences.\n",
        "* Code has to be clean.\n",
        "* You cannot import any other library than we imported.\n",
        "* When submitting, the notebook is executed and the results are stored. I.e., if you open the notebook again it should show numerical results and plots. We won't be able to execute your notebooks.\n",
        "* The notebook is re-executed from a blank state before submission. That is to be sure it is reproducible. You can click \"Kernel\" then \"Restart & Run All\" in Jupyter."
      ]
    },
    {
      "metadata": {
        "id": "Q-bZG0kJqVeW",
        "colab_type": "text"
      },
      "cell_type": "markdown",
      "source": [
        "## Objective\n",
        "\n",
        "The goal of this milestone is to get familiar with the graph Laplacian and its spectral decomposition."
      ]
    },
    {
      "metadata": {
        "id": "SnAFNZyBqVeY",
        "colab_type": "text"
      },
      "cell_type": "markdown",
      "source": [
        "## 0 Load your network"
      ]
    },
    {
      "metadata": {
        "id": "7T3HjICIqVeb",
        "colab_type": "code",
        "colab": {}
      },
      "cell_type": "code",
      "source": [
        "%matplotlib inline"
      ],
      "execution_count": 0,
      "outputs": []
    },
    {
      "metadata": {
        "id": "HDp2N2_yqVek",
        "colab_type": "text"
      },
      "cell_type": "markdown",
      "source": [
        "If you get a `No module named 'sklearn'` error when running the below cell, install [scikit-learn](https://scikit-learn.org) with `conda install scikit-learn` (after activating the `ntds_2018` environment)."
      ]
    },
    {
      "metadata": {
        "id": "gQM54dJxqVen",
        "colab_type": "code",
        "colab": {}
      },
      "cell_type": "code",
      "source": [
        "import numpy as np\n",
        "import scipy as sp\n",
        "from scipy import sparse\n",
        "import scipy.sparse.linalg\n",
        "import matplotlib.pyplot as plt\n",
        "from sklearn.cluster import KMeans\n",
        "from scipy import linalg"
      ],
      "execution_count": 0,
      "outputs": []
    },
    {
      "metadata": {
        "id": "mtTj00lvqVex",
        "colab_type": "text"
      },
      "cell_type": "markdown",
      "source": [
        "Let's denote your graph as $\\mathcal{G} = (\\mathcal{V}, \\mathcal{E}, A)$, where $\\mathcal{V}$ is the set of nodes, $\\mathcal{E}$ is the set of edges, $A \\in \\mathbb{R}^{N \\times N}$ is the (weighted) adjacency matrix, and $N = |\\mathcal{V}|$ is the number of nodes.\n",
        "\n",
        "Import the adjacency matrix $A$ that you constructed in the first milestone.\n",
        "(You're allowed to update it between milestones if you want to.)"
      ]
    },
    {
      "metadata": {
        "id": "49TYAZOGqVez",
        "colab_type": "code",
        "colab": {}
      },
      "cell_type": "code",
      "source": [
        "adjacency = sp.load(\"undirected_adjacency.npy\")\n",
        "adjacency = sparse.csr_matrix(adjacency,adjacency.shape,dtype=np.float16)\n",
        "n_nodes =  adjacency.shape[0]"
      ],
      "execution_count": 0,
      "outputs": []
    },
    {
      "metadata": {
        "id": "bvpXNUkDqVe7",
        "colab_type": "text"
      },
      "cell_type": "markdown",
      "source": [
        "## 1 Graph Laplacian"
      ]
    },
    {
      "metadata": {
        "id": "bFUbsnFYqVe-",
        "colab_type": "text"
      },
      "cell_type": "markdown",
      "source": [
        "### Question 1\n",
        "\n",
        "From the (weighted) adjacency matrix $A$, compute both the combinatorial (also called unnormalized) and the normalized graph Laplacian matrices.\n",
        "\n",
        "Note: if your graph is weighted, use the weighted adjacency matrix. If not, use the binary adjacency matrix.\n",
        "\n",
        "For efficient storage and computation, store these sparse matrices in a [compressed sparse row (CSR) format](https://en.wikipedia.org/wiki/Sparse_matrix#Compressed_sparse_row_.28CSR.2C_CRS_or_Yale_format.29)."
      ]
    },
    {
      "metadata": {
        "id": "mF0RQx-FqVfA",
        "colab_type": "code",
        "colab": {}
      },
      "cell_type": "code",
      "source": [
        "def compute_laplacian_normalized(L, degrees):\n",
        "  newD =  sparse.spdiags(1/np.sqrt(degrees),[0],degrees.size,degrees.size)\n",
        "  return ((newD @ L) @ newD)"
      ],
      "execution_count": 0,
      "outputs": []
    },
    {
      "metadata": {
        "id": "WEe8QA5BqVfF",
        "colab_type": "code",
        "colab": {}
      },
      "cell_type": "code",
      "source": [
        "degrees = adjacency.sum(0)\n",
        "degree_matrix = sparse.spdiags(degrees,[0],n_nodes,n_nodes)\n",
        "degree_matrix = sparse.csr_matrix(degree_matrix,degree_matrix.shape,dtype=np.float16)"
      ],
      "execution_count": 0,
      "outputs": []
    },
    {
      "metadata": {
        "id": "3RUzLK24qVfK",
        "colab_type": "code",
        "colab": {
          "base_uri": "https://localhost:8080/",
          "height": 884
        },
        "outputId": "1667f3cf-5a9e-4591-eab4-5bbf1960458f"
      },
      "cell_type": "code",
      "source": [
        "#Laplacian Combinatorial\n",
        "laplacian_combinatorial  =  degree_matrix - adjacency\n",
        "print (laplacian_combinatorial)"
      ],
      "execution_count": 10,
      "outputs": [
        {
          "output_type": "stream",
          "text": [
            "  (0, 0)\t36.0\n",
            "  (0, 132)\t-1.0\n",
            "  (0, 4091)\t-1.0\n",
            "  (0, 6059)\t-1.0\n",
            "  (0, 6752)\t-1.0\n",
            "  (0, 7957)\t-1.0\n",
            "  (0, 8632)\t-1.0\n",
            "  (0, 8984)\t-1.0\n",
            "  (0, 11369)\t-1.0\n",
            "  (0, 11514)\t-1.0\n",
            "  (0, 11972)\t-1.0\n",
            "  (0, 12807)\t-1.0\n",
            "  (0, 13748)\t-1.0\n",
            "  (0, 17727)\t-1.0\n",
            "  (0, 20733)\t-1.0\n",
            "  (0, 22391)\t-1.0\n",
            "  (0, 25958)\t-1.0\n",
            "  (0, 26287)\t-1.0\n",
            "  (0, 27137)\t-1.0\n",
            "  (0, 28955)\t-1.0\n",
            "  (0, 31532)\t-1.0\n",
            "  (0, 35227)\t-1.0\n",
            "  (0, 35605)\t-1.0\n",
            "  (0, 44200)\t-1.0\n",
            "  (0, 46748)\t-1.0\n",
            "  :\t:\n",
            "  (62160, 62160)\t1.0\n",
            "  (62161, 11369)\t-1.0\n",
            "  (62161, 62161)\t1.0\n",
            "  (62162, 11369)\t-1.0\n",
            "  (62162, 62162)\t1.0\n",
            "  (62163, 35605)\t-1.0\n",
            "  (62163, 62163)\t1.0\n",
            "  (62164, 46877)\t-1.0\n",
            "  (62164, 62164)\t1.0\n",
            "  (62165, 27137)\t-1.0\n",
            "  (62165, 62165)\t1.0\n",
            "  (62166, 35605)\t-1.0\n",
            "  (62166, 62166)\t1.0\n",
            "  (62167, 52866)\t-1.0\n",
            "  (62167, 62167)\t1.0\n",
            "  (62168, 17727)\t-1.0\n",
            "  (62168, 62168)\t1.0\n",
            "  (62169, 35605)\t-1.0\n",
            "  (62169, 62169)\t1.0\n",
            "  (62170, 55047)\t-1.0\n",
            "  (62170, 62170)\t1.0\n",
            "  (62171, 11972)\t-1.0\n",
            "  (62171, 62171)\t1.0\n",
            "  (62172, 11972)\t-1.0\n",
            "  (62172, 62172)\t1.0\n"
          ],
          "name": "stdout"
        }
      ]
    },
    {
      "metadata": {
        "id": "03O9h7WXqVfS",
        "colab_type": "code",
        "colab": {
          "base_uri": "https://localhost:8080/",
          "height": 884
        },
        "outputId": "ee567989-be01-49e7-a12f-1cf014a58253"
      },
      "cell_type": "code",
      "source": [
        "#Laplacian Normalized\n",
        "laplacian_normalized = compute_laplacian_normalized(laplacian_combinatorial, degrees)\n",
        "print(laplacian_normalized)"
      ],
      "execution_count": 11,
      "outputs": [
        {
          "output_type": "stream",
          "text": [
            "  (0, 0)\t1.0\n",
            "  (0, 132)\t-0.019779697\n",
            "  (0, 4091)\t-0.0036155079\n",
            "  (0, 6059)\t-0.0024152054\n",
            "  (0, 6752)\t-0.0028115632\n",
            "  (0, 7957)\t-0.0025029427\n",
            "  (0, 8632)\t-0.0026455028\n",
            "  (0, 8984)\t-0.020515248\n",
            "  (0, 11369)\t-0.0026448364\n",
            "  (0, 11514)\t-0.016343012\n",
            "  (0, 11972)\t-0.0037800767\n",
            "  (0, 12807)\t-0.0049062064\n",
            "  (0, 13748)\t-0.011904763\n",
            "  (0, 17727)\t-0.0037408348\n",
            "  (0, 20733)\t-0.015027828\n",
            "  (0, 22391)\t-0.019920478\n",
            "  (0, 25958)\t-0.004561505\n",
            "  (0, 26287)\t-0.021166688\n",
            "  (0, 27137)\t-0.0022245965\n",
            "  (0, 28955)\t-0.0041485564\n",
            "  (0, 31532)\t-0.0031440945\n",
            "  (0, 35227)\t-0.008343769\n",
            "  (0, 35605)\t-0.0021668791\n",
            "  (0, 44200)\t-0.0035811253\n",
            "  (0, 46748)\t-0.017190354\n",
            "  :\t:\n",
            "  (62160, 62160)\t1.0\n",
            "  (62161, 11369)\t-0.015869018\n",
            "  (62161, 62161)\t1.0\n",
            "  (62162, 11369)\t-0.015869018\n",
            "  (62162, 62162)\t1.0\n",
            "  (62163, 35605)\t-0.013001274\n",
            "  (62163, 62163)\t1.0\n",
            "  (62164, 46877)\t-0.023596458\n",
            "  (62164, 62164)\t1.0\n",
            "  (62165, 27137)\t-0.013347578\n",
            "  (62165, 62165)\t1.0\n",
            "  (62166, 35605)\t-0.013001274\n",
            "  (62166, 62166)\t1.0\n",
            "  (62167, 52866)\t-0.012659242\n",
            "  (62167, 62167)\t1.0\n",
            "  (62168, 17727)\t-0.022445008\n",
            "  (62168, 62168)\t1.0\n",
            "  (62169, 35605)\t-0.013001274\n",
            "  (62169, 62169)\t1.0\n",
            "  (62170, 55047)\t-0.01981461\n",
            "  (62170, 62170)\t1.0\n",
            "  (62171, 11972)\t-0.02268046\n",
            "  (62171, 62171)\t1.0\n",
            "  (62172, 11972)\t-0.02268046\n",
            "  (62172, 62172)\t1.0\n"
          ],
          "name": "stdout"
        }
      ]
    },
    {
      "metadata": {
        "id": "7FEQDgfpqVfW",
        "colab_type": "text"
      },
      "cell_type": "markdown",
      "source": [
        "Use one of them as the graph Laplacian $L$ for the rest of the milestone.\n",
        "We however encourage you to run the code with both to get a sense of the difference!"
      ]
    },
    {
      "metadata": {
        "id": "tKoA0IwAqVfX",
        "colab_type": "text"
      },
      "cell_type": "markdown",
      "source": [
        "### Question 2\n",
        "\n",
        "Compute the eigendecomposition of the Laplacian $L = U \\Lambda U^\\top$, where the columns $u_k \\in \\mathbb{R}^N$ of $U = [u_1, \\dots, u_N] \\in \\mathbb{R}^{N \\times N}$ are the eigenvectors and the diagonal elements $\\lambda_k = \\Lambda_{kk}$ are the corresponding eigenvalues.\n",
        "\n",
        "Make sure that the eigenvalues are ordered, i.e., $0 = \\lambda_1 \\leq \\lambda_2 \\leq \\dots \\leq \\lambda_N$."
      ]
    },
    {
      "metadata": {
        "id": "gTRh-CaHqVfY",
        "colab_type": "code",
        "colab": {}
      },
      "cell_type": "code",
      "source": [
        "eigenvalues_c, eigenvectors_c = sparse.linalg.eigsh(laplacian_combinatorial,k=1000,which='SM',tol=0.001)\n",
        "np.save(\"eigenvectors_combinatorial\",eigenvectors_c)\n",
        "np.save(\"eigenvalues_combinatorial\",eigenvalues_c)\n",
        "eigenvalues_n, eigenvectors_n = sparse.linalg.eigsh(laplacian_normalized,k=1000,which='SM',tol=0.001)\n",
        "np.save(\"eigenvectors_normalized\",eigenvectors_n)\n",
        "np.save(\"eigenvalues_normalized\" ,eigenvalues_n)"
      ],
      "execution_count": 0,
      "outputs": []
    },
    {
      "metadata": {
        "id": "ez4arikvgoYb",
        "colab_type": "code",
        "colab": {}
      },
      "cell_type": "code",
      "source": [
        "eigenvectors_c = np.load(\"eigenvectors_combinatorial.npy\")\n",
        "eigenvalues_c= np.load(\"eigenvalues_combinatorial.npy\")\n",
        "\n",
        "eigenvectors_n = np.load(\"eigenvectors_normalized.npy\")\n",
        "eigenvalues_n = np.load(\"eigenvalues_normalized.npy\")"
      ],
      "execution_count": 0,
      "outputs": []
    },
    {
      "metadata": {
        "id": "JS8CBnDfqVfh",
        "colab_type": "text"
      },
      "cell_type": "markdown",
      "source": [
        "**Your answer here.**\n",
        "\n",
        "As mentioned above in the comment, we decided to compute only 200 eigenvalues and eigenvectors as our matrix is too big, and it makes the kernel crash always. Thus we would have originaly used the function mentioned in the above comments scipy.linalg.eigh(laplacian.toarray()), as it would have returned us the eigenvalues in asceding order and all of them, also our matrix is real symmetric(hermitian). Otherwise we decided to go with eigsh as it allows us to specify how many eigenvalues and eigenvectors we want and in what order(in our case we would need to use which=\"SM\", but as we said the matrix is too big and running make take hours of running even for 200, that is why we decided to go with computing just 200 eigenvalues and eigenvectors any of them actually), as this would make our cell actually execute, even though still it takes some time. The eigsh can be executed also since our matrix is hermitian and sparse."
      ]
    },
    {
      "metadata": {
        "id": "SDRY8sk8qVfh",
        "colab_type": "text"
      },
      "cell_type": "markdown",
      "source": [
        "### Question 3\n",
        "\n",
        "We can write $L = S S^\\top$. What is the matrix $S$? What does $S^\\top x$, with $x \\in \\mathbb{R}^N$, compute?"
      ]
    },
    {
      "metadata": {
        "id": "PNHvR5cZqVfi",
        "colab_type": "text"
      },
      "cell_type": "markdown",
      "source": [
        "**Your answer here.**\n",
        "\n",
        "Matrix $S$ is the incidence matrix. It has a shape of ($|E|$, $|V|$) , where $|E|$ is the number of edges starting from edge 1 to N and $|V|$ is the number of vertices in the graph. The incidence matrix consits of values of $0$, $1$, $-1$. In the incidence matrix each entry shows the direction of the edge written in the following way:\n",
        "\n",
        "For example if $E_0(i,j)$, exists with $i = 0$ and $j = 1$ then in the $S[0][i] = 1$ and $S[0][j] = -1$. Showing the direction of Edge 0. All the other entries are $0s$ otherwise. When multiplying $S$ with $S^\\top$, what actually happens is each such $E_{row}$ let's call it $E_k$ will contain $1$ and $-1$, all other entries would be $0s$.\n",
        "\n",
        "In this case we basically have product of 2 vectors of size 2, since the $0s$ do make any change in the product, even though they are actually there as making the order of positions fine. In this case, what we are going to get a matrix of size $4x4$(not considering the $0s$) in which the diagonals entries count the incident edges(degree of each vertex $i$ in the end) and the off-diagonals will be always multiply a $1$ with $-1$(basically the adjacency matrix), which says that the edge is adjacent and thus we effectively lose the direction. Thus, we can conclude that the laplacian does not depend on the edge direction. "
      ]
    },
    {
      "metadata": {
        "id": "GCqMqXvCqVfj",
        "colab_type": "text"
      },
      "cell_type": "markdown",
      "source": [
        "### Question 4\n",
        "\n",
        "Show that $\\lambda_k = \\| S^\\top u_k \\|_2^2$, where $\\| \\cdot \\|_2^2$ denotes the squared Euclidean norm (a.k.a. squared $L^2$ norm)."
      ]
    },
    {
      "metadata": {
        "id": "lGnqBPLfqVfn",
        "colab_type": "text"
      },
      "cell_type": "markdown",
      "source": [
        "**Your answer here.**"
      ]
    },
    {
      "metadata": {
        "id": "JmVk0lxOqVfo",
        "colab_type": "text"
      },
      "cell_type": "markdown",
      "source": [
        "What does the quantity $\\| S^\\top x \\|_2^2$ tell us about $x$?"
      ]
    },
    {
      "metadata": {
        "id": "HC-1kZi8qVfp",
        "colab_type": "text"
      },
      "cell_type": "markdown",
      "source": [
        "**Your answer here.**"
      ]
    },
    {
      "metadata": {
        "id": "L7JeXX8OqVfq",
        "colab_type": "text"
      },
      "cell_type": "markdown",
      "source": [
        "### Question 5\n",
        "\n",
        "What is the value of $u_0$, both for the combinatorial and normalized Laplacians?"
      ]
    },
    {
      "metadata": {
        "id": "v_RZyWbkqVfr",
        "colab_type": "text"
      },
      "cell_type": "markdown",
      "source": [
        "**Your annswer here.** "
      ]
    },
    {
      "metadata": {
        "id": "_PK2g3rRqVfr",
        "colab_type": "text"
      },
      "cell_type": "markdown",
      "source": [
        "### Question 6\n",
        "\n",
        "Look at the spectrum of the Laplacian by plotting the eigenvalues.\n",
        "Comment on what you observe."
      ]
    },
    {
      "metadata": {
        "id": "J8EA_uN9qVfs",
        "colab_type": "code",
        "colab": {}
      },
      "cell_type": "code",
      "source": [
        "eigenvalues = eigenvalues_n\n",
        "#print(eigenvalues)"
      ],
      "execution_count": 0,
      "outputs": []
    },
    {
      "metadata": {
        "id": "TvNaPOSfqVfx",
        "colab_type": "code",
        "colab": {}
      },
      "cell_type": "code",
      "source": [
        "# plot eigenvalues\n",
        "def plotEigenvalues(eigenvalues):\n",
        "  plt.scatter(x=range(len(eigenvalues)), y=eigenvalues )\n",
        "  plt.title(\"Eigenvalue Plot\")\n",
        "  plt.xlabel(\"Eigenvalue Index\")\n",
        "  plt.ylabel(\"Eigenvalue\")"
      ],
      "execution_count": 0,
      "outputs": []
    },
    {
      "metadata": {
        "id": "wBp2xy_YvzfH",
        "colab_type": "code",
        "colab": {
          "base_uri": "https://localhost:8080/",
          "height": 294
        },
        "outputId": "4e802829-0121-448d-f63a-129102f9a0c6"
      },
      "cell_type": "code",
      "source": [
        "# Combinatorial Laplacian Eigenvalues Plot\n",
        "plotEigenvalues(eigenvalues_c)"
      ],
      "execution_count": 24,
      "outputs": [
        {
          "output_type": "display_data",
          "data": {
            "image/png": "[encoded data removed]",
            "text/plain": [
              "<matplotlib.figure.Figure at 0x7f8058e310f0>"
            ]
          },
          "metadata": {
            "tags": []
          }
        }
      ]
    },
    {
      "metadata": {
        "id": "WlZO4siTv8nA",
        "colab_type": "code",
        "colab": {
          "base_uri": "https://localhost:8080/",
          "height": 294
        },
        "outputId": "c156fff4-1eee-4267-eb7a-8f6540bfecbd"
      },
      "cell_type": "code",
      "source": [
        "# Normalized Laplacian Eigenvalues Plot\n",
        "plotEigenvalues(eigenvalues_n)"
      ],
      "execution_count": 25,
      "outputs": [
        {
          "output_type": "display_data",
          "data": {
            "image/png": "[encoded data removed]",
            "text/plain": [
              "<matplotlib.figure.Figure at 0x7f8058dfa828>"
            ]
          },
          "metadata": {
            "tags": []
          }
        }
      ]
    },
    {
      "metadata": {
        "id": "FNRsmqMUqVf0",
        "colab_type": "text"
      },
      "cell_type": "markdown",
      "source": [
        "Scipy library returns the eigenvalues, each repeated according to its multiplicity. Therefore, from the above plot we can observe the spectrum of Laplacian (plotting the repeated eigenvalues according to its algebraic multiplicities).    We only plotted the first 1000 eigenvalues due to the computation time and memory constraints since our graph is too big.\n",
        "\n",
        "**Combinatorial eigenvalue plot:**\n",
        "We see that our first 1000 smallest eigenvalues ranges from 0 to 2. Overall, we see an increasing trend on the eigenvalue plot, more precisely, after ~0.30 eigenvalue it jumps to 1 eigenvalue continues stable for a while (values ar every close to each other) then has a huge increase  up to ~2 in 550-700ish indices and stabilizes again.\n",
        "\n",
        "**Normalized eigenvalue plot:**\n",
        "In the normalized laplacian eigenvalue results, we see an increasing trend up to around ~250 indices and then the values continue with value almost 1 afterwards. "
      ]
    },
    {
      "metadata": {
        "id": "WZkLzgxBqVf1",
        "colab_type": "text"
      },
      "cell_type": "markdown",
      "source": [
        "How many connected components are there in your graph? Answer using the eigenvalues only."
      ]
    },
    {
      "metadata": {
        "id": "nAwJ5NnCqVf2",
        "colab_type": "code",
        "colab": {
          "base_uri": "https://localhost:8080/",
          "height": 51
        },
        "outputId": "397edb33-92ea-45b3-ada1-8db7dd637f34"
      },
      "cell_type": "code",
      "source": [
        "# print('Count of zeros: ', len(np.where(eigenvalues_c == 0)[0]))\n",
        "# print('Count of zeros: ', len(np.where(eigenvalues_n == 0)[0]))\n",
        "\n",
        "print('Count of zeros for Combinatorial: ', len(np.where(eigenvalues_c < 0.00001)[0]))\n",
        "print('Count of zeros for Normalized: ', len(np.where(eigenvalues_n < 0.00001)[0]))"
      ],
      "execution_count": 29,
      "outputs": [
        {
          "output_type": "stream",
          "text": [
            "Count of zeros for Combinatorial:  1\n",
            "Count of zeros for Normalized:  1\n"
          ],
          "name": "stdout"
        }
      ]
    },
    {
      "metadata": {
        "id": "ofukpPSHqVf4",
        "colab_type": "text"
      },
      "cell_type": "markdown",
      "source": [
        "**Our answer:** When the graph is undirected and has non-negative weight, the multiplicity k of the eigenvalue 0 of L gives the number of connected components within the graph. Our graph also undirected and has non-negative weight therefore we can check the connected component number using this rule. The number of eigenvalue 0, is the number of connected components in our graph in this case our graph is connected and we have 1 component in our graph.  \n",
        "\n",
        "Note that since our graph is very big and it takes a lot of time to compute the eigenvalues we pass a tolerant argument while calculating in the linalg.sparse.eigsh function, machine precision took very long time. In the above result, that is why we checked the values close to zero under certain threshold."
      ]
    },
    {
      "metadata": {
        "id": "N2JEvB-fqVf5",
        "colab_type": "text"
      },
      "cell_type": "markdown",
      "source": [
        "Is there an upper bound on the eigenvalues, i.e., what is the largest possible eigenvalue? Answer for both the combinatorial and normalized Laplacians."
      ]
    },
    {
      "metadata": {
        "id": "wQgWwPA5qVf6",
        "colab_type": "text"
      },
      "cell_type": "markdown",
      "source": [
        "Yes, there is an upper bound on the eigenvalues. .\n",
        "\n",
        "__Combinatorial Laplacian:__ The largest possible eigenvalue is the maximum degree (max row/col sum) of the laplacian matrix.      \n",
        "\n",
        "__Normalize Laplacian:__ The upper bound for the largest eigenvalue is 2, the largest eigenvalue is 2 if and only if the graph is bipartite."
      ]
    },
    {
      "metadata": {
        "id": "LyMytH12qVf7",
        "colab_type": "text"
      },
      "cell_type": "markdown",
      "source": [
        "## 3 Laplacian eigenmaps\n",
        "\n",
        "*Laplacian eigenmaps* is a method to embed a graph $\\mathcal{G}$ in a $d$-dimensional Euclidean space.\n",
        "That is, it associates a vector $z_i \\in \\mathbb{R}^d$ to every node $v_i \\in \\mathcal{V}$.\n",
        "The graph $\\mathcal{G}$ is thus embedded as $Z \\in \\mathbb{R}^{N \\times d}$.\n",
        "\n",
        "From now on, if your graph has more than one connected component, work with the giant component only."
      ]
    },
    {
      "metadata": {
        "id": "8HBR4kUFqVf8",
        "colab_type": "code",
        "colab": {}
      },
      "cell_type": "code",
      "source": [
        "# Since we have 1 component we skip this part\n",
        "\n",
        "# import networkx as nx\n",
        "# largest_cc = max(nx.connected_components(laplacian), key=len)\n",
        "# laplacian = largest_cc\n",
        "# or use scipy sparse to get giant connected component\n",
        "# N_components, component_list = sparse.csgraph.connected_components(laplacian)\n",
        "# print(N_components)"
      ],
      "execution_count": 0,
      "outputs": []
    },
    {
      "metadata": {
        "id": "L7HZyAEvqVf-",
        "colab_type": "text"
      },
      "cell_type": "markdown",
      "source": [
        "### Question 7\n",
        "\n",
        "What do we use Laplacian eigenmaps for? (Or more generally, graph embeddings.)"
      ]
    },
    {
      "metadata": {
        "id": "wPiL9BijqVf_",
        "colab_type": "text"
      },
      "cell_type": "markdown",
      "source": [
        "We use Laplacian eigenmaps for non-linear dimensionality reduction and data visualization/representation purposes. Specifically, the assumption behind the laplacian eigenmaps is the data points lie in a lower dimensional manifold within a high-dimensional space. Since the Laplaican Eigenmap algorithm is rather insensitive to outliers and noise, it leads a natural implicit way for clustering, that is why it is also used in embeddings and clustering. Therefore, Laplacian Eigenmaps are useful for visualizing a graph, spectral clustering and partitioning and also graph coloring. Computer vision and learning is some of the areas they are used at. \n",
        " \n",
        "More generally, graph embeddings are used for again finding the latent vector representations of the graphs in order to capture topology of the graph and used commonly in machine learning. Their main purpose is to preserve some proximity measure defined on the graph by creating mappings."
      ]
    },
    {
      "metadata": {
        "id": "WZymmCsxqVgA",
        "colab_type": "text"
      },
      "cell_type": "markdown",
      "source": [
        "### Question 8\n",
        "\n",
        "Embed your graph in $d=2$ dimensions with Laplacian eigenmaps.\n",
        "Try with and without re-normalizing the eigenvectors by the degrees, then keep the one your prefer.\n",
        "\n",
        "**Recompute** the eigenvectors you need with a partial eigendecomposition method for sparse matrices.\n",
        "When $k \\ll N$ eigenvectors are needed, partial eigendecompositions are much more efficient than complete eigendecompositions.\n",
        "A partial eigendecomposition scales as $\\Omega(k |\\mathcal{E}|$), while a complete eigendecomposition costs $\\mathcal{O}(N^3)$ operations."
      ]
    },
    {
      "metadata": {
        "id": "eDC9kuRxqVgA",
        "colab_type": "code",
        "colab": {}
      },
      "cell_type": "code",
      "source": [
        "d = 2\n",
        "# We recompute the eigenvectors since it is asked - althought we could have used the prvios ones\n",
        "# eigenval_c, eigenvec_c = sparse.linalg.eigsh(laplacian_combinatorial,k=d+1,which='SM')\n",
        "# eigenval_n, eigenvec_n = sparse.linalg.eigsh(laplacian_normalized,k=d+1,which='SM')"
      ],
      "execution_count": 0,
      "outputs": []
    },
    {
      "metadata": {
        "id": "Hr1pgYsaqVgD",
        "colab_type": "code",
        "colab": {}
      },
      "cell_type": "code",
      "source": [
        "# take the first d dimensions excluding\n",
        "laplacian_embedded = eigenvectors_c[:,1:d+1]\n",
        "laplacian_embedded_normalize = eigenvectors_n[:,1:d+1]\n",
        "laplacian_embedded.shape"
      ],
      "execution_count": 0,
      "outputs": []
    },
    {
      "metadata": {
        "id": "NVZeoa-fqVgF",
        "colab_type": "text"
      },
      "cell_type": "markdown",
      "source": [
        "Plot the nodes embedded in 2D. Comment on what you see."
      ]
    },
    {
      "metadata": {
        "id": "43lNQOD6qVgG",
        "colab_type": "code",
        "colab": {
          "base_uri": "https://localhost:8080/",
          "height": 592
        },
        "outputId": "5f6a651d-0373-4c1e-8dce-52901b81c7c5"
      },
      "cell_type": "code",
      "source": [
        "# plotting embedded graph in 2D for Combinatorial\n",
        "fig = plt.figure(figsize=(10, 10))\n",
        "ax = plt.scatter(laplacian_embedded[:, 0], laplacian_embedded[:, 1],c=['red'],cmap=plt.cm.Spectral)"
      ],
      "execution_count": 55,
      "outputs": [
        {
          "output_type": "display_data",
          "data": {
            "image/png": "[encoded data removed]",
            "text/plain": [
              "<matplotlib.figure.Figure at 0x7f8058bb4908>"
            ]
          },
          "metadata": {
            "tags": []
          }
        }
      ]
    },
    {
      "metadata": {
        "id": "v22MDwaAxxO_",
        "colab_type": "code",
        "colab": {
          "base_uri": "https://localhost:8080/",
          "height": 592
        },
        "outputId": "d88d2e33-ce21-44ea-cebc-b9115d91c240"
      },
      "cell_type": "code",
      "source": [
        "# plotting embedded graph in 2D for Normalized\n",
        "fig = plt.figure(figsize=(10, 10))\n",
        "ax = plt.scatter(laplacian_embedded_normalize[:, 0], laplacian_embedded_normalize[:, 1],c=['red'],cmap=plt.cm.Spectral)"
      ],
      "execution_count": 57,
      "outputs": [
        {
          "output_type": "display_data",
          "data": {
            "image/png": "[encoded data removed]",
            "text/plain": [
              "<matplotlib.figure.Figure at 0x7f8058ab8ac8>"
            ]
          },
          "metadata": {
            "tags": []
          }
        }
      ]
    },
    {
      "metadata": {
        "id": "6xsWOivdqVgL",
        "colab_type": "text"
      },
      "cell_type": "markdown",
      "source": [
        "For the Combinatorial laplacian 2D plot result what we see is that we see a main location where the points are mostly gathered and two branches one with higher intensity and close to each other and the other more dispersed and a few more outlier points. For the normalized laplacian 2D embedded plot , we see that the points are more normalized and closer to each other and now dispersed through mostly in x direction and the projected points looks like dispersed through a line. "
      ]
    },
    {
      "metadata": {
        "id": "wi1m0duPqVgM",
        "colab_type": "text"
      },
      "cell_type": "markdown",
      "source": [
        "### Question 9"
      ]
    },
    {
      "metadata": {
        "id": "b5V8SF8mqVgO",
        "colab_type": "text"
      },
      "cell_type": "markdown",
      "source": [
        "What does the embedding $Z \\in \\mathbb{R}^{N \\times d}$ preserve?"
      ]
    },
    {
      "metadata": {
        "id": "-Ot1qz_GqVgP",
        "colab_type": "text"
      },
      "cell_type": "markdown",
      "source": [
        "The idea for the Laplacian Eigenmap embedding is to keep connected nodes closer to each other in the vector space. Embedding Z preserves the local neighborhood information embedded for N data in a lower dimensional space in this case for d dimension. These information found by using nearest neighboor calculations for laplacian eigenmaps."
      ]
    },
    {
      "metadata": {
        "id": "BctWQVqCqVgQ",
        "colab_type": "text"
      },
      "cell_type": "markdown",
      "source": [
        "## 2 Spectral clustering\n",
        "\n",
        "*Spectral clustering* is a method to partition a graph into distinct clusters.\n",
        "The method associates a feature vector $z_i \\in \\mathbb{R}^d$ to every node $v_i \\in \\mathcal{V}$, then runs [$k$-means](https://en.wikipedia.org/wiki/K-means_clustering) in the embedding space $\\mathbb{R}^d$ to assign each node $v_i \\in \\mathcal{V}$ to a cluster $c_j \\in \\mathcal{C}$, where $k = |\\mathcal{C}|$ is the number of desired clusters."
      ]
    },
    {
      "metadata": {
        "id": "KgCUVEnvqVgR",
        "colab_type": "text"
      },
      "cell_type": "markdown",
      "source": [
        "### Question 10\n",
        "\n",
        "Choose $k$ and $d$. How did you get to those numbers?"
      ]
    },
    {
      "metadata": {
        "id": "7p_oWgzkqVgR",
        "colab_type": "text"
      },
      "cell_type": "markdown",
      "source": [
        "*In theory, we interpret the value of k by analyzing Laplacian spectrum. If the spectrum clearly has n different clusters, then n=k. For our spectrum, we'll choose k=2 as can be interpreted from Laplacian spectrum. \"d\" refers to dimension, and we'll choose d=3 for visualisation.*"
      ]
    },
    {
      "metadata": {
        "id": "ae_f979fqVgS",
        "colab_type": "text"
      },
      "cell_type": "markdown",
      "source": [
        "### Question 11\n",
        "\n",
        "1. Embed your graph in $\\mathbb{R}^d$ as $Z \\in \\mathbb{R}^{N \\times d}$.\n",
        "   Try with and without re-normalizing the eigenvectors by the degrees, then keep the one your prefer.\n",
        "1. If you want $k=2$ clusters, partition with the Fiedler vector. For $k > 2$ clusters, run $k$-means on $Z$. Don't implement $k$-means, use the `KMeans` class imported from scikit-learn."
      ]
    },
    {
      "metadata": {
        "id": "0DdJEuW1qVgT",
        "colab_type": "code",
        "colab": {}
      },
      "cell_type": "code",
      "source": [
        "#eigenvector normalization\n",
        "from sklearn import preprocessing\n",
        "\n",
        "#k: number of clusters\n",
        "k=2\n",
        "d=k+1\n",
        "\n",
        "#visualize laplacian spectrum with eigenvector v\n",
        "kmeans = KMeans(n_clusters=k)\n",
        "\n",
        "r = eigenvec_c[:,1:d]\n",
        "kmeans.fit(r)\n",
        "y_kmeans = kmeans.predict(r)\n",
        "\n",
        "#color the graph\n",
        "plt.scatter(r[:, 0], r[:, 1], c=y_kmeans, s=400, cmap='viridis')\n",
        "centers = kmeans.cluster_centers_\n",
        "plt.scatter(centers[:, 0], centers[:, 1], c='blue', s=10, alpha=0.8);\n",
        "\n",
        "# We prefer keeping the re-normalized eigenvectors as the graph has k=2 clear clusters."
      ],
      "execution_count": 0,
      "outputs": []
    },
    {
      "metadata": {
        "id": "7jUEOkeMoEBz",
        "colab_type": "code",
        "colab": {}
      },
      "cell_type": "code",
      "source": [
        "#visualize laplacian spectrum with normalized eigenvector v_normalized\n",
        "kmeans = KMeans(n_clusters=k)\n",
        "r2     = preprocessing.normalize(r, norm='max')\n",
        "kmeans.fit(r2)\n",
        "\n",
        "\n",
        "thresh               = np.average(eigenvec_c[1])\n",
        "y_kmeans             = eigenvec_c[1].clip(min=thresh).reshape((len(eigenvec_c[1],)))\n",
        "print(len(y_kmeans[y_kmeans<=thresh]))\n",
        "y_kmeans[y_kmeans>thresh] = 1\n",
        "\n",
        "\n",
        "#color the graph\n",
        "plt.scatter(r2[:,0], r2[:,1], c=y_kmeans, s=400, cmap='viridis')\n",
        "centers = kmeans.cluster_centers_\n",
        "plt.scatter(centers[:, 0], centers[:, 1], c='blue', s=10, alpha=0.8);"
      ],
      "execution_count": 0,
      "outputs": []
    },
    {
      "metadata": {
        "id": "GsEyMClQoHsf",
        "colab_type": "text"
      },
      "cell_type": "markdown",
      "source": [
        "*We prefer keeping the re-normalized eigenvectors as the graph has k=2 clear clusters.*"
      ]
    },
    {
      "metadata": {
        "id": "47WG1ZmXqVgW",
        "colab_type": "text"
      },
      "cell_type": "markdown",
      "source": [
        "### Question 12\n",
        "\n",
        "Use the computed cluster assignment to reorder the adjacency matrix $A$.\n",
        "What do you expect? What do you observe?"
      ]
    },
    {
      "metadata": {
        "id": "tLQJThJeqVgX",
        "colab_type": "code",
        "colab": {}
      },
      "cell_type": "code",
      "source": [
        "x_idx, x = zip(*sorted(zip(y_kmeans,range(len(y_kmeans)))))\n",
        "y_idx, y = zip(*sorted(zip(y_kmeans,range(len(y_kmeans)))))\n",
        "\n",
        "adjacency_ordered = adjacency[x,:][:,y]"
      ],
      "execution_count": 0,
      "outputs": []
    },
    {
      "metadata": {
        "id": "JrIGPUl-qVga",
        "colab_type": "text"
      },
      "cell_type": "markdown",
      "source": [
        "### Question 13\n",
        "\n",
        "If you have ground truth clusters for your dataset, compare the cluster assignment from spectral clustering to the ground truth.\n",
        "A simple quantitative measure is to compute the percentage of nodes that have been correctly categorized.\n",
        "If you don't have a ground truth, qualitatively assess the quality of the clustering.\n",
        "\n",
        "Ground truth clusters are the \"real clusters\".\n",
        "For example, the genre of musical tracks in FMA, the category of Wikipedia articles, the spammer status of individuals, etc.\n",
        "Look for the `labels` in the [dataset descriptions](https://github.com/mdeff/ntds_2018/tree/master/projects/README.md)."
      ]
    },
    {
      "metadata": {
        "id": "aTVL9JcuqVgb",
        "colab_type": "code",
        "colab": {}
      },
      "cell_type": "code",
      "source": [
        "import pandas as pd\n",
        "users        = pd.read_csv('data/filtered_users.csv')\n",
        "ground_truth = np.array(users[[\"Spammer Label\"]])\n",
        "\n",
        "# We assign our spammers / non-spammers clusters according to what gives us the best succes rate\n",
        "error_rate   = np.average((y_kmeans - ground_truth.reshape((n_nodes,)))**2)\n",
        "success_rate = error_rate if error_rate > 0.5 else 1-error_rate \n",
        "print(\"Our success ratio is : \",success_rate)"
      ],
      "execution_count": 0,
      "outputs": []
    },
    {
      "metadata": {
        "id": "XpWQTC42qVgf",
        "colab_type": "text"
      },
      "cell_type": "markdown",
      "source": [
        "### Question 14\n",
        "\n",
        "Plot the cluster assignment (one color per cluster) on the 2D embedding you computed above with Laplacian eigenmaps."
      ]
    },
    {
      "metadata": {
        "id": "4bqYjCD6qVgg",
        "colab_type": "code",
        "colab": {}
      },
      "cell_type": "code",
      "source": [
        "plt.scatter(r2[:,0], r2[:,1], c=ground_truth.reshape((n_nodes,)), s=400, cmap='viridis', alpha = 0.6)"
      ],
      "execution_count": 0,
      "outputs": []
    },
    {
      "metadata": {
        "id": "8QA5eKf1qVgl",
        "colab_type": "text"
      },
      "cell_type": "markdown",
      "source": [
        "### Question 15\n",
        "\n",
        "Why did we use the eigenvectors of the graph Laplacian as features? Could we use other features for clustering?"
      ]
    },
    {
      "metadata": {
        "id": "LGgCJLHVqVgl",
        "colab_type": "text"
      },
      "cell_type": "markdown",
      "source": [
        "**Your answer here.**"
      ]
    }
  ]
}