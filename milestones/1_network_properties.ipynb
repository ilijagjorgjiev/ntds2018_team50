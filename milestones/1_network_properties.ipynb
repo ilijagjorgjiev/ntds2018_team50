{
 "cells": [
  {
   "cell_type": "markdown",
   "metadata": {},
   "source": [
    "# NTDS'18 milestone 1: network collection and properties\n",
    "[Effrosyni Simou](https://lts4.epfl.ch/simou), [EPFL LTS4](https://lts4.epfl.ch)"
   ]
  },
  {
   "cell_type": "markdown",
   "metadata": {},
   "source": [
    "## Students\n",
    "\n",
    "* Team: 50\n",
    "* Students: Görkem Çamli, Raphael Laporte, Ilija Gjorgjiev, Murat Genc\n",
    "* Dataset: Spammers on Social Network"
   ]
  },
  {
   "cell_type": "markdown",
   "metadata": {},
   "source": [
    "## Rules\n",
    "\n",
    "* Milestones have to be completed by teams. No collaboration between teams is allowed.\n",
    "* Textual answers shall be short. Typically one to three sentences.\n",
    "* Code has to be clean.\n",
    "* You cannot import any other library than we imported.\n",
    "* When submitting, the notebook is executed and the results are stored. I.e., if you open the notebook again it should show numerical results and plots. We won't be able to execute your notebooks.\n",
    "* The notebook is re-executed from a blank state before submission. That is to be sure it is reproducible. You can click \"Kernel\" then \"Restart & Run All\" in Jupyter."
   ]
  },
  {
   "cell_type": "markdown",
   "metadata": {},
   "source": [
    "## Objective "
   ]
  },
  {
   "cell_type": "markdown",
   "metadata": {},
   "source": [
    "The purpose of this milestone is to start getting acquainted to the network that you will use for this class. In the first part of the milestone you will import your data using [Pandas](http://pandas.pydata.org) and you will create the adjacency matrix using [Numpy](http://www.numpy.org). This part is project specific. In the second part you will have to compute some basic properties of your network. **For the computation of the properties you are only allowed to use the packages that have been imported in the cell below.** You are not allowed to use any graph-specific toolboxes for this milestone (such as networkx and PyGSP). Furthermore, the aim is not to blindly compute the network properties, but to also start to think about what kind of network you will be working with this semester. "
   ]
  },
  {
   "cell_type": "code",
   "execution_count": 1,
   "metadata": {},
   "outputs": [],
   "source": [
    "import numpy as np\n",
    "import pandas as pd\n",
    "import matplotlib.pyplot as plt"
   ]
  },
  {
   "cell_type": "markdown",
   "metadata": {},
   "source": [
    "## Part 1 - Import your data and manipulate them. "
   ]
  },
  {
   "cell_type": "markdown",
   "metadata": {},
   "source": [
    "###  A. Load your data in a Panda dataframe."
   ]
  },
  {
   "cell_type": "markdown",
   "metadata": {},
   "source": [
    "First, you should define and understand what are your nodes, what features you have and what are your labels. Please provide below a Panda dataframe where each row corresponds to a node with its features and labels. For example, in the the case of the Free Music Archive (FMA) Project, each row of the dataframe would be of the following form:\n",
    "\n",
    "\n",
    "| Track   |  Feature 1  | Feature 2 | . . . | Feature 518|  Label 1 |  Label 2 |. . .|Label 16|\n",
    "|:-------:|:-----------:|:---------:|:-----:|:----------:|:--------:|:--------:|:---:|:------:|\n",
    "|         |             |           |       |            |          |          |     |        |\n",
    "\n",
    "It is possible that in some of the projects either the features or the labels are not available. This is OK, in that case just make sure that you create a dataframe where each of the rows corresponds to a node and its associated features or labels."
   ]
  },
  {
   "cell_type": "code",
   "execution_count": 2,
   "metadata": {},
   "outputs": [],
   "source": [
    "relations = pd.read_csv('data/filtered_relations.csv')\n",
    "users = pd.read_csv('data/filtered_users.csv')"
   ]
  },
  {
   "cell_type": "code",
   "execution_count": 3,
   "metadata": {},
   "outputs": [
    {
     "data": {
      "text/html": [
       "<div>\n",
       "<style scoped>\n",
       "    .dataframe tbody tr th:only-of-type {\n",
       "        vertical-align: middle;\n",
       "    }\n",
       "\n",
       "    .dataframe tbody tr th {\n",
       "        vertical-align: top;\n",
       "    }\n",
       "\n",
       "    .dataframe thead th {\n",
       "        text-align: right;\n",
       "    }\n",
       "</style>\n",
       "<table border=\"1\" class=\"dataframe\">\n",
       "  <thead>\n",
       "    <tr style=\"text-align: right;\">\n",
       "      <th></th>\n",
       "      <th>day</th>\n",
       "      <th>time_ms</th>\n",
       "      <th>src</th>\n",
       "      <th>dst</th>\n",
       "      <th>relation</th>\n",
       "    </tr>\n",
       "  </thead>\n",
       "  <tbody>\n",
       "    <tr>\n",
       "      <th>0</th>\n",
       "      <td>0</td>\n",
       "      <td>7857852</td>\n",
       "      <td>1</td>\n",
       "      <td>3993630</td>\n",
       "      <td>5</td>\n",
       "    </tr>\n",
       "    <tr>\n",
       "      <th>1</th>\n",
       "      <td>0</td>\n",
       "      <td>7860977</td>\n",
       "      <td>1</td>\n",
       "      <td>3181660</td>\n",
       "      <td>5</td>\n",
       "    </tr>\n",
       "    <tr>\n",
       "      <th>2</th>\n",
       "      <td>0</td>\n",
       "      <td>7862420</td>\n",
       "      <td>1</td>\n",
       "      <td>1582548</td>\n",
       "      <td>5</td>\n",
       "    </tr>\n",
       "    <tr>\n",
       "      <th>3</th>\n",
       "      <td>0</td>\n",
       "      <td>7866986</td>\n",
       "      <td>1</td>\n",
       "      <td>5208994</td>\n",
       "      <td>5</td>\n",
       "    </tr>\n",
       "    <tr>\n",
       "      <th>4</th>\n",
       "      <td>2</td>\n",
       "      <td>21455967</td>\n",
       "      <td>1</td>\n",
       "      <td>2330216</td>\n",
       "      <td>5</td>\n",
       "    </tr>\n",
       "  </tbody>\n",
       "</table>\n",
       "</div>"
      ],
      "text/plain": [
       "   day   time_ms  src      dst  relation\n",
       "0    0   7857852    1  3993630         5\n",
       "1    0   7860977    1  3181660         5\n",
       "2    0   7862420    1  1582548         5\n",
       "3    0   7866986    1  5208994         5\n",
       "4    2  21455967    1  2330216         5"
      ]
     },
     "metadata": {},
     "output_type": "display_data"
    },
    {
     "data": {
      "text/plain": [
       "(83176, 5)"
      ]
     },
     "metadata": {},
     "output_type": "display_data"
    },
    {
     "data": {
      "text/html": [
       "<div>\n",
       "<style scoped>\n",
       "    .dataframe tbody tr th:only-of-type {\n",
       "        vertical-align: middle;\n",
       "    }\n",
       "\n",
       "    .dataframe tbody tr th {\n",
       "        vertical-align: top;\n",
       "    }\n",
       "\n",
       "    .dataframe thead th {\n",
       "        text-align: right;\n",
       "    }\n",
       "</style>\n",
       "<table border=\"1\" class=\"dataframe\">\n",
       "  <thead>\n",
       "    <tr style=\"text-align: right;\">\n",
       "      <th></th>\n",
       "      <th>day</th>\n",
       "      <th>time_ms</th>\n",
       "      <th>src</th>\n",
       "      <th>dst</th>\n",
       "      <th>relation</th>\n",
       "    </tr>\n",
       "  </thead>\n",
       "  <tbody>\n",
       "    <tr>\n",
       "      <th>count</th>\n",
       "      <td>83176.000000</td>\n",
       "      <td>8.317600e+04</td>\n",
       "      <td>8.317600e+04</td>\n",
       "      <td>8.317600e+04</td>\n",
       "      <td>83176.0</td>\n",
       "    </tr>\n",
       "    <tr>\n",
       "      <th>mean</th>\n",
       "      <td>5.363735</td>\n",
       "      <td>4.364584e+07</td>\n",
       "      <td>2.560122e+06</td>\n",
       "      <td>2.771619e+06</td>\n",
       "      <td>5.0</td>\n",
       "    </tr>\n",
       "    <tr>\n",
       "      <th>std</th>\n",
       "      <td>2.478274</td>\n",
       "      <td>2.485177e+07</td>\n",
       "      <td>1.680537e+06</td>\n",
       "      <td>1.653804e+06</td>\n",
       "      <td>0.0</td>\n",
       "    </tr>\n",
       "    <tr>\n",
       "      <th>min</th>\n",
       "      <td>0.000000</td>\n",
       "      <td>1.290000e+02</td>\n",
       "      <td>1.000000e+00</td>\n",
       "      <td>1.000000e+00</td>\n",
       "      <td>5.0</td>\n",
       "    </tr>\n",
       "    <tr>\n",
       "      <th>25%</th>\n",
       "      <td>4.000000</td>\n",
       "      <td>2.550006e+07</td>\n",
       "      <td>7.689900e+05</td>\n",
       "      <td>1.199187e+06</td>\n",
       "      <td>5.0</td>\n",
       "    </tr>\n",
       "    <tr>\n",
       "      <th>50%</th>\n",
       "      <td>6.000000</td>\n",
       "      <td>4.165693e+07</td>\n",
       "      <td>2.440318e+06</td>\n",
       "      <td>2.826794e+06</td>\n",
       "      <td>5.0</td>\n",
       "    </tr>\n",
       "    <tr>\n",
       "      <th>75%</th>\n",
       "      <td>7.000000</td>\n",
       "      <td>6.315638e+07</td>\n",
       "      <td>4.231085e+06</td>\n",
       "      <td>4.242568e+06</td>\n",
       "      <td>5.0</td>\n",
       "    </tr>\n",
       "    <tr>\n",
       "      <th>max</th>\n",
       "      <td>9.000000</td>\n",
       "      <td>8.639946e+07</td>\n",
       "      <td>5.607214e+06</td>\n",
       "      <td>5.607437e+06</td>\n",
       "      <td>5.0</td>\n",
       "    </tr>\n",
       "  </tbody>\n",
       "</table>\n",
       "</div>"
      ],
      "text/plain": [
       "                day       time_ms           src           dst  relation\n",
       "count  83176.000000  8.317600e+04  8.317600e+04  8.317600e+04   83176.0\n",
       "mean       5.363735  4.364584e+07  2.560122e+06  2.771619e+06       5.0\n",
       "std        2.478274  2.485177e+07  1.680537e+06  1.653804e+06       0.0\n",
       "min        0.000000  1.290000e+02  1.000000e+00  1.000000e+00       5.0\n",
       "25%        4.000000  2.550006e+07  7.689900e+05  1.199187e+06       5.0\n",
       "50%        6.000000  4.165693e+07  2.440318e+06  2.826794e+06       5.0\n",
       "75%        7.000000  6.315638e+07  4.231085e+06  4.242568e+06       5.0\n",
       "max        9.000000  8.639946e+07  5.607214e+06  5.607437e+06       5.0"
      ]
     },
     "metadata": {},
     "output_type": "display_data"
    }
   ],
   "source": [
    "display(relations.head())\n",
    "display(relations.shape)\n",
    "display(relations.describe())"
   ]
  },
  {
   "cell_type": "code",
   "execution_count": 4,
   "metadata": {},
   "outputs": [
    {
     "data": {
      "text/html": [
       "<div>\n",
       "<style scoped>\n",
       "    .dataframe tbody tr th:only-of-type {\n",
       "        vertical-align: middle;\n",
       "    }\n",
       "\n",
       "    .dataframe tbody tr th {\n",
       "        vertical-align: top;\n",
       "    }\n",
       "\n",
       "    .dataframe thead th {\n",
       "        text-align: right;\n",
       "    }\n",
       "</style>\n",
       "<table border=\"1\" class=\"dataframe\">\n",
       "  <thead>\n",
       "    <tr style=\"text-align: right;\">\n",
       "      <th></th>\n",
       "      <th>User Id</th>\n",
       "      <th>Gender</th>\n",
       "      <th>Time</th>\n",
       "      <th>Age Range</th>\n",
       "      <th>Spammer Label</th>\n",
       "    </tr>\n",
       "  </thead>\n",
       "  <tbody>\n",
       "    <tr>\n",
       "      <th>0</th>\n",
       "      <td>1</td>\n",
       "      <td>M</td>\n",
       "      <td>0.9000</td>\n",
       "      <td>30</td>\n",
       "      <td>0</td>\n",
       "    </tr>\n",
       "    <tr>\n",
       "      <th>1</th>\n",
       "      <td>190</td>\n",
       "      <td>M</td>\n",
       "      <td>0.2000</td>\n",
       "      <td>50</td>\n",
       "      <td>0</td>\n",
       "    </tr>\n",
       "    <tr>\n",
       "      <th>2</th>\n",
       "      <td>270</td>\n",
       "      <td>M</td>\n",
       "      <td>0.2625</td>\n",
       "      <td>30</td>\n",
       "      <td>0</td>\n",
       "    </tr>\n",
       "    <tr>\n",
       "      <th>3</th>\n",
       "      <td>319</td>\n",
       "      <td>M</td>\n",
       "      <td>0.0000</td>\n",
       "      <td>30</td>\n",
       "      <td>0</td>\n",
       "    </tr>\n",
       "    <tr>\n",
       "      <th>4</th>\n",
       "      <td>407</td>\n",
       "      <td>M</td>\n",
       "      <td>0.0500</td>\n",
       "      <td>50</td>\n",
       "      <td>0</td>\n",
       "    </tr>\n",
       "  </tbody>\n",
       "</table>\n",
       "</div>"
      ],
      "text/plain": [
       "   User Id Gender    Time  Age Range  Spammer Label\n",
       "0        1      M  0.9000         30              0\n",
       "1      190      M  0.2000         50              0\n",
       "2      270      M  0.2625         30              0\n",
       "3      319      M  0.0000         30              0\n",
       "4      407      M  0.0500         50              0"
      ]
     },
     "metadata": {},
     "output_type": "display_data"
    },
    {
     "data": {
      "text/plain": [
       "(62173, 5)"
      ]
     },
     "metadata": {},
     "output_type": "display_data"
    },
    {
     "data": {
      "text/html": [
       "<div>\n",
       "<style scoped>\n",
       "    .dataframe tbody tr th:only-of-type {\n",
       "        vertical-align: middle;\n",
       "    }\n",
       "\n",
       "    .dataframe tbody tr th {\n",
       "        vertical-align: top;\n",
       "    }\n",
       "\n",
       "    .dataframe thead th {\n",
       "        text-align: right;\n",
       "    }\n",
       "</style>\n",
       "<table border=\"1\" class=\"dataframe\">\n",
       "  <thead>\n",
       "    <tr style=\"text-align: right;\">\n",
       "      <th></th>\n",
       "      <th>User Id</th>\n",
       "      <th>Time</th>\n",
       "      <th>Age Range</th>\n",
       "      <th>Spammer Label</th>\n",
       "    </tr>\n",
       "  </thead>\n",
       "  <tbody>\n",
       "    <tr>\n",
       "      <th>count</th>\n",
       "      <td>6.217300e+04</td>\n",
       "      <td>62173.000000</td>\n",
       "      <td>62173.000000</td>\n",
       "      <td>62173.000000</td>\n",
       "    </tr>\n",
       "    <tr>\n",
       "      <th>mean</th>\n",
       "      <td>2.800429e+06</td>\n",
       "      <td>0.417814</td>\n",
       "      <td>31.740466</td>\n",
       "      <td>0.039374</td>\n",
       "    </tr>\n",
       "    <tr>\n",
       "      <th>std</th>\n",
       "      <td>1.622317e+06</td>\n",
       "      <td>0.318942</td>\n",
       "      <td>11.467868</td>\n",
       "      <td>0.194485</td>\n",
       "    </tr>\n",
       "    <tr>\n",
       "      <th>min</th>\n",
       "      <td>1.000000e+00</td>\n",
       "      <td>0.000000</td>\n",
       "      <td>10.000000</td>\n",
       "      <td>0.000000</td>\n",
       "    </tr>\n",
       "    <tr>\n",
       "      <th>25%</th>\n",
       "      <td>1.392652e+06</td>\n",
       "      <td>0.112500</td>\n",
       "      <td>20.000000</td>\n",
       "      <td>0.000000</td>\n",
       "    </tr>\n",
       "    <tr>\n",
       "      <th>50%</th>\n",
       "      <td>2.799469e+06</td>\n",
       "      <td>0.362500</td>\n",
       "      <td>30.000000</td>\n",
       "      <td>0.000000</td>\n",
       "    </tr>\n",
       "    <tr>\n",
       "      <th>75%</th>\n",
       "      <td>4.207705e+06</td>\n",
       "      <td>0.700000</td>\n",
       "      <td>40.000000</td>\n",
       "      <td>0.000000</td>\n",
       "    </tr>\n",
       "    <tr>\n",
       "      <th>max</th>\n",
       "      <td>5.607437e+06</td>\n",
       "      <td>1.000000</td>\n",
       "      <td>70.000000</td>\n",
       "      <td>1.000000</td>\n",
       "    </tr>\n",
       "  </tbody>\n",
       "</table>\n",
       "</div>"
      ],
      "text/plain": [
       "            User Id          Time     Age Range  Spammer Label\n",
       "count  6.217300e+04  62173.000000  62173.000000   62173.000000\n",
       "mean   2.800429e+06      0.417814     31.740466       0.039374\n",
       "std    1.622317e+06      0.318942     11.467868       0.194485\n",
       "min    1.000000e+00      0.000000     10.000000       0.000000\n",
       "25%    1.392652e+06      0.112500     20.000000       0.000000\n",
       "50%    2.799469e+06      0.362500     30.000000       0.000000\n",
       "75%    4.207705e+06      0.700000     40.000000       0.000000\n",
       "max    5.607437e+06      1.000000     70.000000       1.000000"
      ]
     },
     "metadata": {},
     "output_type": "display_data"
    }
   ],
   "source": [
    "display(users.head())\n",
    "display(users.shape)\n",
    "display(users.describe())"
   ]
  },
  {
   "cell_type": "code",
   "execution_count": 5,
   "metadata": {},
   "outputs": [
    {
     "data": {
      "text/plain": [
       "array([0, 1])"
      ]
     },
     "execution_count": 5,
     "metadata": {},
     "output_type": "execute_result"
    }
   ],
   "source": [
    "users[\"Spammer Label\"].unique()"
   ]
  },
  {
   "cell_type": "markdown",
   "metadata": {},
   "source": [
    "### B. Create the adjacency matrix of your network."
   ]
  },
  {
   "cell_type": "markdown",
   "metadata": {},
   "source": [
    "Remember that there are edges connecting the attributed nodes that you organized in the dataframe above. The connectivity of the network is captured by the adjacency matrix $W$. If $N$ is the number of nodes, the adjacency matrix is an $N \\times N$ matrix where the value of $W(i,j)$ is the weight of the edge connecting node $i$ to node $j$.  \n",
    "\n",
    "There are two possible scenarios for your adjacency matrix construction, as you already learned in the tutorial by Benjamin:\n",
    "\n",
    "1) The edges are given to you explicitly. In this case you should simply load the file containing the edge information and parse it in order to create your adjacency matrix. See how to do that in the  [graph from edge list]() demo.\n",
    "\n",
    "2) The edges are not given to you. In that case you will have to create a feature graph. In order to do that you will have to chose a distance that will quantify how similar two nodes are based on the values in their corresponding feature vectors. In the [graph from features]() demo Benjamin showed you how to build feature graphs when using Euclidean distances between feature vectors. Be curious and explore other distances as well! For instance, in the case of high-dimensional feature vectors, you might want to consider using the cosine distance. Once you compute the distances between your nodes you will have a fully connected network. Do not forget to sparsify by keeping the most important edges in your network.\n",
    "\n",
    "Follow the appropriate steps for the construction of the adjacency matrix of your network and provide it in the Numpy array ``adjacency`` below: "
   ]
  },
  {
   "cell_type": "code",
   "execution_count": 6,
   "metadata": {},
   "outputs": [
    {
     "data": {
      "text/html": [
       "<div>\n",
       "<style scoped>\n",
       "    .dataframe tbody tr th:only-of-type {\n",
       "        vertical-align: middle;\n",
       "    }\n",
       "\n",
       "    .dataframe tbody tr th {\n",
       "        vertical-align: top;\n",
       "    }\n",
       "\n",
       "    .dataframe thead th {\n",
       "        text-align: right;\n",
       "    }\n",
       "</style>\n",
       "<table border=\"1\" class=\"dataframe\">\n",
       "  <thead>\n",
       "    <tr style=\"text-align: right;\">\n",
       "      <th></th>\n",
       "      <th>node_idx</th>\n",
       "      <th>User Id</th>\n",
       "      <th>Time</th>\n",
       "      <th>Gender</th>\n",
       "      <th>Age Range</th>\n",
       "      <th>Spammer Label</th>\n",
       "    </tr>\n",
       "  </thead>\n",
       "  <tbody>\n",
       "    <tr>\n",
       "      <th>0</th>\n",
       "      <td>0</td>\n",
       "      <td>1</td>\n",
       "      <td>0.9000</td>\n",
       "      <td>M</td>\n",
       "      <td>30</td>\n",
       "      <td>0</td>\n",
       "    </tr>\n",
       "    <tr>\n",
       "      <th>1</th>\n",
       "      <td>1</td>\n",
       "      <td>190</td>\n",
       "      <td>0.2000</td>\n",
       "      <td>M</td>\n",
       "      <td>50</td>\n",
       "      <td>0</td>\n",
       "    </tr>\n",
       "    <tr>\n",
       "      <th>2</th>\n",
       "      <td>2</td>\n",
       "      <td>270</td>\n",
       "      <td>0.2625</td>\n",
       "      <td>M</td>\n",
       "      <td>30</td>\n",
       "      <td>0</td>\n",
       "    </tr>\n",
       "    <tr>\n",
       "      <th>3</th>\n",
       "      <td>3</td>\n",
       "      <td>319</td>\n",
       "      <td>0.0000</td>\n",
       "      <td>M</td>\n",
       "      <td>30</td>\n",
       "      <td>0</td>\n",
       "    </tr>\n",
       "    <tr>\n",
       "      <th>4</th>\n",
       "      <td>4</td>\n",
       "      <td>407</td>\n",
       "      <td>0.0500</td>\n",
       "      <td>M</td>\n",
       "      <td>50</td>\n",
       "      <td>0</td>\n",
       "    </tr>\n",
       "  </tbody>\n",
       "</table>\n",
       "</div>"
      ],
      "text/plain": [
       "   node_idx  User Id    Time Gender  Age Range  Spammer Label\n",
       "0         0        1  0.9000      M         30              0\n",
       "1         1      190  0.2000      M         50              0\n",
       "2         2      270  0.2625      M         30              0\n",
       "3         3      319  0.0000      M         30              0\n",
       "4         4      407  0.0500      M         50              0"
      ]
     },
     "execution_count": 6,
     "metadata": {},
     "output_type": "execute_result"
    }
   ],
   "source": [
    "#Define Nodes\n",
    "nodes = users[['User Id', \"Time\", \"Gender\", \"Age Range\", \"Spammer Label\"]]\n",
    "num_nodes = len(nodes)\n",
    "nodes.reset_index(level=0, inplace=True)\n",
    "nodes = nodes.rename(columns={'index':'node_idx'})\n",
    "nodes.head()"
   ]
  },
  {
   "cell_type": "code",
   "execution_count": 7,
   "metadata": {},
   "outputs": [
    {
     "data": {
      "text/html": [
       "<div>\n",
       "<style scoped>\n",
       "    .dataframe tbody tr th:only-of-type {\n",
       "        vertical-align: middle;\n",
       "    }\n",
       "\n",
       "    .dataframe tbody tr th {\n",
       "        vertical-align: top;\n",
       "    }\n",
       "\n",
       "    .dataframe thead th {\n",
       "        text-align: right;\n",
       "    }\n",
       "</style>\n",
       "<table border=\"1\" class=\"dataframe\">\n",
       "  <thead>\n",
       "    <tr style=\"text-align: right;\">\n",
       "      <th></th>\n",
       "      <th>src</th>\n",
       "      <th>dst</th>\n",
       "      <th>relation</th>\n",
       "    </tr>\n",
       "  </thead>\n",
       "  <tbody>\n",
       "    <tr>\n",
       "      <th>0</th>\n",
       "      <td>1</td>\n",
       "      <td>3993630</td>\n",
       "      <td>5</td>\n",
       "    </tr>\n",
       "    <tr>\n",
       "      <th>1</th>\n",
       "      <td>1</td>\n",
       "      <td>3181660</td>\n",
       "      <td>5</td>\n",
       "    </tr>\n",
       "    <tr>\n",
       "      <th>2</th>\n",
       "      <td>1</td>\n",
       "      <td>1582548</td>\n",
       "      <td>5</td>\n",
       "    </tr>\n",
       "    <tr>\n",
       "      <th>3</th>\n",
       "      <td>1</td>\n",
       "      <td>5208994</td>\n",
       "      <td>5</td>\n",
       "    </tr>\n",
       "    <tr>\n",
       "      <th>4</th>\n",
       "      <td>1</td>\n",
       "      <td>2330216</td>\n",
       "      <td>5</td>\n",
       "    </tr>\n",
       "  </tbody>\n",
       "</table>\n",
       "</div>"
      ],
      "text/plain": [
       "   src      dst  relation\n",
       "0    1  3993630         5\n",
       "1    1  3181660         5\n",
       "2    1  1582548         5\n",
       "3    1  5208994         5\n",
       "4    1  2330216         5"
      ]
     },
     "execution_count": 7,
     "metadata": {},
     "output_type": "execute_result"
    }
   ],
   "source": [
    "#Define Edges\n",
    "edges = relations[[\"src\", \"dst\", \"relation\"]]\n",
    "num_edges = len(edges)\n",
    "edges.head()"
   ]
  },
  {
   "cell_type": "code",
   "execution_count": 8,
   "metadata": {},
   "outputs": [
    {
     "data": {
      "text/html": [
       "<div>\n",
       "<style scoped>\n",
       "    .dataframe tbody tr th:only-of-type {\n",
       "        vertical-align: middle;\n",
       "    }\n",
       "\n",
       "    .dataframe tbody tr th {\n",
       "        vertical-align: top;\n",
       "    }\n",
       "\n",
       "    .dataframe thead th {\n",
       "        text-align: right;\n",
       "    }\n",
       "</style>\n",
       "<table border=\"1\" class=\"dataframe\">\n",
       "  <thead>\n",
       "    <tr style=\"text-align: right;\">\n",
       "      <th></th>\n",
       "      <th>node_idx</th>\n",
       "    </tr>\n",
       "    <tr>\n",
       "      <th>src</th>\n",
       "      <th></th>\n",
       "    </tr>\n",
       "  </thead>\n",
       "  <tbody>\n",
       "    <tr>\n",
       "      <th>1</th>\n",
       "      <td>0</td>\n",
       "    </tr>\n",
       "    <tr>\n",
       "      <th>190</th>\n",
       "      <td>1</td>\n",
       "    </tr>\n",
       "    <tr>\n",
       "      <th>270</th>\n",
       "      <td>2</td>\n",
       "    </tr>\n",
       "    <tr>\n",
       "      <th>319</th>\n",
       "      <td>3</td>\n",
       "    </tr>\n",
       "    <tr>\n",
       "      <th>407</th>\n",
       "      <td>4</td>\n",
       "    </tr>\n",
       "  </tbody>\n",
       "</table>\n",
       "</div>"
      ],
      "text/plain": [
       "     node_idx\n",
       "src          \n",
       "1           0\n",
       "190         1\n",
       "270         2\n",
       "319         3\n",
       "407         4"
      ]
     },
     "execution_count": 8,
     "metadata": {},
     "output_type": "execute_result"
    }
   ],
   "source": [
    "# Create a conversion table from User Id to node index.\n",
    "uid2idx = nodes[['node_idx', 'User Id']]\n",
    "uid2idx = uid2idx.set_index('User Id')\n",
    "uid2idx.index.name = 'src'\n",
    "uid2idx.head()"
   ]
  },
  {
   "cell_type": "code",
   "execution_count": 9,
   "metadata": {},
   "outputs": [
    {
     "data": {
      "text/html": [
       "<div>\n",
       "<style scoped>\n",
       "    .dataframe tbody tr th:only-of-type {\n",
       "        vertical-align: middle;\n",
       "    }\n",
       "\n",
       "    .dataframe tbody tr th {\n",
       "        vertical-align: top;\n",
       "    }\n",
       "\n",
       "    .dataframe thead th {\n",
       "        text-align: right;\n",
       "    }\n",
       "</style>\n",
       "<table border=\"1\" class=\"dataframe\">\n",
       "  <thead>\n",
       "    <tr style=\"text-align: right;\">\n",
       "      <th></th>\n",
       "      <th>src</th>\n",
       "      <th>dst</th>\n",
       "      <th>relation</th>\n",
       "      <th>node_idx</th>\n",
       "      <th>node_idx_dst</th>\n",
       "    </tr>\n",
       "  </thead>\n",
       "  <tbody>\n",
       "    <tr>\n",
       "      <th>0</th>\n",
       "      <td>1</td>\n",
       "      <td>3993630</td>\n",
       "      <td>5</td>\n",
       "      <td>0</td>\n",
       "      <td>44200</td>\n",
       "    </tr>\n",
       "    <tr>\n",
       "      <th>1</th>\n",
       "      <td>1</td>\n",
       "      <td>3181660</td>\n",
       "      <td>5</td>\n",
       "      <td>0</td>\n",
       "      <td>35227</td>\n",
       "    </tr>\n",
       "    <tr>\n",
       "      <th>2</th>\n",
       "      <td>1</td>\n",
       "      <td>1582548</td>\n",
       "      <td>5</td>\n",
       "      <td>0</td>\n",
       "      <td>17727</td>\n",
       "    </tr>\n",
       "    <tr>\n",
       "      <th>3</th>\n",
       "      <td>1</td>\n",
       "      <td>5208994</td>\n",
       "      <td>5</td>\n",
       "      <td>0</td>\n",
       "      <td>57804</td>\n",
       "    </tr>\n",
       "    <tr>\n",
       "      <th>4</th>\n",
       "      <td>1</td>\n",
       "      <td>2330216</td>\n",
       "      <td>5</td>\n",
       "      <td>0</td>\n",
       "      <td>25958</td>\n",
       "    </tr>\n",
       "  </tbody>\n",
       "</table>\n",
       "</div>"
      ],
      "text/plain": [
       "   src      dst  relation  node_idx  node_idx_dst\n",
       "0    1  3993630         5         0         44200\n",
       "1    1  3181660         5         0         35227\n",
       "2    1  1582548         5         0         17727\n",
       "3    1  5208994         5         0         57804\n",
       "4    1  2330216         5         0         25958"
      ]
     },
     "execution_count": 9,
     "metadata": {},
     "output_type": "execute_result"
    }
   ],
   "source": [
    "# Add a new column, matching the \"src\" column with the node_idx.\n",
    "# Do the same with the \"dst\" column.\n",
    "edges = edges.join(uid2idx, on=\"src\")\n",
    "edges = edges.join(uid2idx, on='dst', rsuffix='_dst')\n",
    "edges.head()"
   ]
  },
  {
   "cell_type": "code",
   "execution_count": 10,
   "metadata": {},
   "outputs": [],
   "source": [
    "# Drop the src, dst.\n",
    "edges = edges.drop(columns=['src','dst'])\n"
   ]
  },
  {
   "cell_type": "code",
   "execution_count": 11,
   "metadata": {},
   "outputs": [
    {
     "data": {
      "text/html": [
       "<div>\n",
       "<style scoped>\n",
       "    .dataframe tbody tr th:only-of-type {\n",
       "        vertical-align: middle;\n",
       "    }\n",
       "\n",
       "    .dataframe tbody tr th {\n",
       "        vertical-align: top;\n",
       "    }\n",
       "\n",
       "    .dataframe thead th {\n",
       "        text-align: right;\n",
       "    }\n",
       "</style>\n",
       "<table border=\"1\" class=\"dataframe\">\n",
       "  <thead>\n",
       "    <tr style=\"text-align: right;\">\n",
       "      <th></th>\n",
       "      <th>relation</th>\n",
       "      <th>node_idx</th>\n",
       "      <th>node_idx_dst</th>\n",
       "    </tr>\n",
       "  </thead>\n",
       "  <tbody>\n",
       "    <tr>\n",
       "      <th>0</th>\n",
       "      <td>5</td>\n",
       "      <td>0</td>\n",
       "      <td>44200</td>\n",
       "    </tr>\n",
       "    <tr>\n",
       "      <th>1</th>\n",
       "      <td>5</td>\n",
       "      <td>0</td>\n",
       "      <td>35227</td>\n",
       "    </tr>\n",
       "    <tr>\n",
       "      <th>2</th>\n",
       "      <td>5</td>\n",
       "      <td>0</td>\n",
       "      <td>17727</td>\n",
       "    </tr>\n",
       "    <tr>\n",
       "      <th>3</th>\n",
       "      <td>5</td>\n",
       "      <td>0</td>\n",
       "      <td>57804</td>\n",
       "    </tr>\n",
       "    <tr>\n",
       "      <th>4</th>\n",
       "      <td>5</td>\n",
       "      <td>0</td>\n",
       "      <td>25958</td>\n",
       "    </tr>\n",
       "  </tbody>\n",
       "</table>\n",
       "</div>"
      ],
      "text/plain": [
       "   relation  node_idx  node_idx_dst\n",
       "0         5         0         44200\n",
       "1         5         0         35227\n",
       "2         5         0         17727\n",
       "3         5         0         57804\n",
       "4         5         0         25958"
      ]
     },
     "execution_count": 11,
     "metadata": {},
     "output_type": "execute_result"
    }
   ],
   "source": [
    "edges.head()"
   ]
  },
  {
   "cell_type": "code",
   "execution_count": 12,
   "metadata": {},
   "outputs": [],
   "source": [
    "# We build the adjacency matrix with int8 in order to save on memory resources. \n",
    "adjacency = np.zeros((num_nodes, num_nodes), dtype = np.dtype('>i1'))\n",
    "for idx, row in edges.iterrows():\n",
    "    i, j = int(row.node_idx), int(row.node_idx_dst)\n",
    "    adjacency[i, j] = 1\n",
    "n_nodes = num_nodes"
   ]
  },
  {
   "cell_type": "markdown",
   "metadata": {},
   "source": [
    "## Part 2"
   ]
  },
  {
   "cell_type": "markdown",
   "metadata": {},
   "source": [
    "Execute the cell below to plot the (weighted) adjacency matrix of your network."
   ]
  },
  {
   "cell_type": "code",
   "execution_count": 13,
   "metadata": {},
   "outputs": [
    {
     "data": {
      "text/plain": [
       "Text(0.5, 1.05, 'adjacency matrix')"
      ]
     },
     "execution_count": 13,
     "metadata": {},
     "output_type": "execute_result"
    },
    {
     "data": {
      "image/png": "[encoded data removed]",
      "text/plain": [
       "<Figure size 432x288 with 1 Axes>"
      ]
     },
     "metadata": {},
     "output_type": "display_data"
    }
   ],
   "source": [
    "plt.spy(adjacency, markersize=1)\n",
    "plt.title('adjacency matrix')"
   ]
  },
  {
   "cell_type": "markdown",
   "metadata": {},
   "source": [
    "### Question 1\n",
    "\n",
    "What is the maximum number of links $L_{max}$ in a network with $N$ nodes (where $N$ is the number of nodes in your network)? How many links $L$ are there in your collected network? Comment on the sparsity of your network."
   ]
  },
  {
   "cell_type": "code",
   "execution_count": 13,
   "metadata": {},
   "outputs": [
    {
     "name": "stdout",
     "output_type": "stream",
     "text": [
      "Maximum Number of Links: 1932709878.0\n",
      "Number of Links in the Network: 83176\n"
     ]
    },
    {
     "data": {
      "text/plain": [
       "52866    6218\n",
       "35605    5894\n",
       "27137    5628\n",
       "6059     4768\n",
       "7957     4438\n",
       "Name: node_idx, dtype: int64"
      ]
     },
     "metadata": {},
     "output_type": "display_data"
    },
    {
     "data": {
      "text/plain": [
       "52866    1998\n",
       "35605    1950\n",
       "7957     1404\n",
       "11369    1233\n",
       "8632     1193\n",
       "Name: node_idx_dst, dtype: int64"
      ]
     },
     "metadata": {},
     "output_type": "display_data"
    }
   ],
   "source": [
    "#1. Maximum Number of Nodes:\n",
    "l_max = (num_nodes * (num_nodes-1) / 2)\n",
    "print(\"Maximum Number of Links: \" + str(l_max))\n",
    "#2. Number of Links \n",
    "print(\"Number of Links in the Network: \" + str(num_edges))\n",
    "#3. Sparsity of the Matrix\n",
    "\n",
    "k_avg = num_edges / num_nodes\n",
    "display(edges[\"node_idx\"].value_counts().head())\n",
    "display(edges[\"node_idx_dst\"].value_counts().head())"
   ]
  },
  {
   "cell_type": "markdown",
   "metadata": {},
   "source": [
    "**Our answer :**\n",
    "\n",
    "As we can see the matrix is pretty sparse, since the average degree is equal to 1.33. Also we can see that there are some users who have made an unatural number of interactions with other users.\n",
    "\n",
    "For example:\n",
    "User with node_idx: 52866 has made 6218 relations. This is almost 1/14th of all the intercations, so this is an outlier(considering the fact that the average degree is 1.33)."
   ]
  },
  {
   "cell_type": "markdown",
   "metadata": {},
   "source": [
    "### Question 2\n",
    "\n",
    "Is your graph directed or undirected? If it is directed, convert it to an undirected graph by symmetrizing the adjacency matrix."
   ]
  },
  {
   "cell_type": "markdown",
   "metadata": {},
   "source": [
    "**Our answer:**\n",
    "\n",
    "Our graph is directed. This is because a relation between two users has a source user and destination user. So one user can be interacting with another, but this does not imply the other way around."
   ]
  },
  {
   "cell_type": "code",
   "execution_count": 14,
   "metadata": {},
   "outputs": [],
   "source": [
    "# Creating undirected graph in a different numpy array\n",
    "undirected_adjacency = adjacency.copy()\n",
    "for idx, row in edges.iterrows():\n",
    "    i, j = int(row.node_idx), int(row.node_idx_dst)\n",
    "    undirected_adjacency[j, i] = 1"
   ]
  },
  {
   "cell_type": "markdown",
   "metadata": {},
   "source": [
    "### Question 3\n",
    "\n",
    "In the cell below save the features dataframe and the **symmetrized** adjacency matrix. You can use the Pandas ``to_csv`` to save the ``features`` and Numpy's ``save`` to save the ``adjacency``. We will reuse those in the following milestones."
   ]
  },
  {
   "cell_type": "code",
   "execution_count": 15,
   "metadata": {},
   "outputs": [],
   "source": [
    "nodes.to_csv(\"features.csv\")\n",
    "np.save(\"adjacency\", adjacency)\n",
    "np.save(\"undirected_adjacency\", undirected_adjacency)"
   ]
  },
  {
   "cell_type": "markdown",
   "metadata": {},
   "source": [
    "### Question 4\n",
    "\n",
    "Are the edges of your graph weighted?"
   ]
  },
  {
   "cell_type": "markdown",
   "metadata": {},
   "source": [
    "**Our answer :**\n",
    "\n",
    "No, at the moment they are not weighted. Either there is a relation(1) or there isn't a relation(0)."
   ]
  },
  {
   "cell_type": "markdown",
   "metadata": {},
   "source": [
    "### Question 5\n",
    "\n",
    "What is the degree distibution of your network? "
   ]
  },
  {
   "cell_type": "code",
   "execution_count": 17,
   "metadata": {},
   "outputs": [],
   "source": [
    "in_degree = np.zeros((num_nodes, 1), dtype=int)\n",
    "out_degree = np.zeros((num_nodes, 1), dtype=int)\n",
    "\n",
    "for idx, row in edges.iterrows():\n",
    "    src, dst = int(row.node_idx), int(row.node_idx_dst)\n",
    "    out_degree[src] += 1\n",
    "    in_degree[dst] += 1\n",
    "\n",
    "degree =  in_degree + out_degree \n",
    "\n",
    "assert len(degree) == n_nodes"
   ]
  },
  {
   "cell_type": "markdown",
   "metadata": {},
   "source": [
    "Execute the cells below to see the histograms of the degree distribution.\n",
    "\n",
    "We chose to show three different histograms with different bin sizes because certain representations were not clear"
   ]
  },
  {
   "cell_type": "code",
   "execution_count": 18,
   "metadata": {},
   "outputs": [
    {
     "data": {
      "image/png": "[encoded data removed]",
      "text/plain": [
       "<Figure size 432x288 with 1 Axes>"
      ]
     },
     "metadata": {},
     "output_type": "display_data"
    }
   ],
   "source": [
    "weights = np.ones_like(degree) / float(n_nodes)\n",
    "plt.hist(degree, weights=weights);"
   ]
  },
  {
   "cell_type": "code",
   "execution_count": 19,
   "metadata": {},
   "outputs": [
    {
     "data": {
      "image/png": "[encoded data removed]",
      "text/plain": [
       "<Figure size 432x288 with 1 Axes>"
      ]
     },
     "metadata": {},
     "output_type": "display_data"
    }
   ],
   "source": [
    "plt.hist(degree, weights=weights , bins=100, range=(0,50));"
   ]
  },
  {
   "cell_type": "code",
   "execution_count": 20,
   "metadata": {},
   "outputs": [
    {
     "data": {
      "image/png": "[encoded data removed]",
      "text/plain": [
       "<Figure size 432x288 with 1 Axes>"
      ]
     },
     "metadata": {},
     "output_type": "display_data"
    }
   ],
   "source": [
    "plt.hist(np.log(degree), weights=weights, bins=100);"
   ]
  },
  {
   "cell_type": "code",
   "execution_count": 21,
   "metadata": {},
   "outputs": [
    {
     "data": {
      "text/plain": [
       "array([8216])"
      ]
     },
     "metadata": {},
     "output_type": "display_data"
    },
    {
     "data": {
      "text/plain": [
       "1"
      ]
     },
     "metadata": {},
     "output_type": "display_data"
    },
    {
     "data": {
      "text/plain": [
       "52866"
      ]
     },
     "execution_count": 21,
     "metadata": {},
     "output_type": "execute_result"
    }
   ],
   "source": [
    "display(degree[degree.argmax()])\n",
    "display(degree.min())\n",
    "degree.argmax()"
   ]
  },
  {
   "cell_type": "markdown",
   "metadata": {},
   "source": [
    "What is the average degree?"
   ]
  },
  {
   "cell_type": "code",
   "execution_count": 22,
   "metadata": {},
   "outputs": [
    {
     "name": "stdout",
     "output_type": "stream",
     "text": [
      "L is:  83176\n",
      "average degree is:  1.3378154504366848\n"
     ]
    }
   ],
   "source": [
    "Lin = np.sum(in_degree)\n",
    "Lout = np.sum(out_degree)\n",
    "assert Lin == Lout\n",
    "print('L is: ',Lin)\n",
    "# Since Lin is equal to Lout we can use either one as L in the below calculation\n",
    "avg_degree = Lin /  num_nodes\n",
    "print('average degree is: ',avg_degree)"
   ]
  },
  {
   "cell_type": "markdown",
   "metadata": {},
   "source": [
    "### Question 6\n",
    "\n",
    "Comment on the degree distribution of your network."
   ]
  },
  {
   "cell_type": "markdown",
   "metadata": {},
   "source": [
    "According to the network degree distribution, most of the nodes have very low level of connectivity. The average degree is 1.33 meaning majority of the nodes has around degree of one that is clearly seen in the histogram. There are also few dominant nodes that has high connectivity (ie. node 52866 has a degree of 8216 which is the highest degree in the network). Therefore, we can say that by looking to the degree distribution we are dealing with a centralised network (scale-free network) since we have many low level nodes with a few dominant nodes"
   ]
  },
  {
   "cell_type": "markdown",
   "metadata": {},
   "source": [
    "### Question 7\n",
    "\n",
    "Write a function that takes as input the adjacency matrix of a graph and determines whether the graph is connected or not."
   ]
  },
  {
   "cell_type": "code",
   "execution_count": 23,
   "metadata": {},
   "outputs": [],
   "source": [
    "def visit(adjacency, visited_nodes, current_node):\n",
    "    \n",
    "    neighbors = adjacency[current_node]\n",
    "        \n",
    "    for i in np.nonzero(neighbors)[0]: \n",
    "      \n",
    "        if (visited_nodes[i] == 0): \n",
    "            visited_nodes[i] = 1;\n",
    "            visited_nodes = visit(adjacency, visited_nodes, i)\n",
    "            \n",
    "    return visited_nodes\n",
    "\n",
    "def start_dfs (adjacency, visited_nodes, current_node ):\n",
    "    visited_nodes_1 = np.copy(visited_nodes)\n",
    "    visited_nodes_1[current_node] = 1 \n",
    "    return visit(adjacency, visited_nodes_1,current_node)\n",
    "\n",
    "def connected_graph(adjacency):\n",
    "    touched_nodes = np.zeros(adjacency.shape[0])\n",
    "    touched_nodes = start_dfs(adjacency, touched_nodes, 0)\n",
    "    return (adjacency.shape[0] == np.sum(touched_nodes))"
   ]
  },
  {
   "cell_type": "markdown",
   "metadata": {},
   "source": [
    "Is your graph connected? Run the ``connected_graph`` function to determine your answer."
   ]
  },
  {
   "cell_type": "code",
   "execution_count": 24,
   "metadata": {
    "scrolled": false
   },
   "outputs": [
    {
     "data": {
      "text/plain": [
       "True"
      ]
     },
     "execution_count": 24,
     "metadata": {},
     "output_type": "execute_result"
    }
   ],
   "source": [
    "connected_graph(undirected_adjacency)"
   ]
  },
  {
   "cell_type": "markdown",
   "metadata": {},
   "source": [
    "### Question 8\n",
    "\n",
    "Write a function that extracts the connected components of a graph."
   ]
  },
  {
   "cell_type": "code",
   "execution_count": 25,
   "metadata": {},
   "outputs": [],
   "source": [
    "def find_components(adjacency):\n",
    "\n",
    "    adj_matrices = []\n",
    "    \n",
    "    touched_nodes = np.zeros(adjacency.shape[0])\n",
    "    \n",
    "    while np.count_nonzero(touched_nodes) != touched_nodes.size :\n",
    "        \n",
    "        next_nonvisited, = np.where( touched_nodes == 0)\n",
    "        next_nonvisited  = next_nonvisited[0]\n",
    "        \n",
    "        new_touched_nodes              = start_dfs(adjacency, touched_nodes, next_nonvisited)\n",
    "        touched_indices                = np.nonzero(new_touched_nodes - touched_nodes)[0]\n",
    "        \n",
    "        touched_nodes                  = new_touched_nodes\n",
    "        num_touched_idx                = touched_indices.shape[0]\n",
    "        \n",
    "        component = adjacency[:,touched_indices][touched_indices]\n",
    "        \n",
    "        adj_matrices.append([component,touched_indices])\n",
    "        \n",
    "    return adj_matrices"
   ]
  },
  {
   "cell_type": "markdown",
   "metadata": {},
   "source": [
    "How many connected components is your network composed of? What is the size of the largest connected component? Run the ``find_components`` function to determine your answer. "
   ]
  },
  {
   "cell_type": "markdown",
   "metadata": {},
   "source": [
    "Our network is composed of one giant connected component with 62173 nodes. Our function seperates the adjacency matrix into a list of adjacency matrices, one for each connected component. The accompanying array serves as a mapping between the indices of the full adjacency matrix and those of that of the connected component. \n",
    "\n",
    "ie. array[component_adj_idx] = full_adj_idx "
   ]
  },
  {
   "cell_type": "code",
   "execution_count": 26,
   "metadata": {
    "scrolled": true
   },
   "outputs": [
    {
     "data": {
      "text/plain": [
       "[[array([[0, 0, 0, ..., 0, 0, 0],\n",
       "         [0, 0, 0, ..., 0, 0, 0],\n",
       "         [0, 0, 0, ..., 0, 0, 0],\n",
       "         ...,\n",
       "         [0, 0, 0, ..., 0, 0, 0],\n",
       "         [0, 0, 0, ..., 0, 0, 0],\n",
       "         [0, 0, 0, ..., 0, 0, 0]], dtype=int8),\n",
       "  array([    0,     1,     2, ..., 62170, 62171, 62172])]]"
      ]
     },
     "execution_count": 26,
     "metadata": {},
     "output_type": "execute_result"
    }
   ],
   "source": [
    "find_components(undirected_adjacency)"
   ]
  },
  {
   "cell_type": "markdown",
   "metadata": {},
   "source": [
    "Since our dataset contains only a single connected component, here we demonstrate our find_components() method on a different dataset made to contain exactly two components. "
   ]
  },
  {
   "cell_type": "code",
   "execution_count": 27,
   "metadata": {},
   "outputs": [
    {
     "name": "stdout",
     "output_type": "stream",
     "text": [
      "Component 0 Index Mapping\n",
      "[0 1 2]\n",
      "Component 0 Adj Matrix\n",
      "[[0 1 1]\n",
      " [1 0 1]\n",
      " [1 1 0]]\n",
      "\n",
      "Component 1 Index Mapping\n",
      "[3 4 5 6]\n",
      "Component 1 Adj Matrix\n",
      "[[0 0 0 1]\n",
      " [0 0 1 1]\n",
      " [0 1 0 1]\n",
      " [1 1 1 0]]\n"
     ]
    }
   ],
   "source": [
    "adj = np.array([[0,1,1,0,0,0,0],\n",
    "                [1,0,1,0,0,0,0],\n",
    "                [1,1,0,0,0,0,0],\n",
    "                [0,0,0,0,0,0,1],\n",
    "                [0,0,0,0,0,1,1],\n",
    "                [0,0,0,0,1,0,1],\n",
    "                [0,0,0,1,1,1,0]])\n",
    "adj_matrices = find_components(adj)\n",
    "\n",
    "\n",
    "print(\"Component 0 Index Mapping\") \n",
    "print(adj_matrices[0][1])\n",
    "print(\"Component 0 Adj Matrix\") \n",
    "print(adj_matrices[0][0])\n",
    "print()\n",
    "print(\"Component 1 Index Mapping\") \n",
    "print(adj_matrices[1][1])\n",
    "print(\"Component 1 Adj Matrix\") \n",
    "print(adj_matrices[1][0])"
   ]
  },
  {
   "cell_type": "markdown",
   "metadata": {},
   "source": [
    "### Question 9\n",
    "\n",
    "Write a function that takes as input the adjacency matrix and a node (`source`) and returns the length of the shortest path between that node and all nodes in the graph using Dijkstra's algorithm. **For the purposes of this assignment we are interested in the hop distance between nodes, not in the sum of weights. **\n",
    "\n",
    "Hint: You might want to mask the adjacency matrix in the function ``compute_shortest_path_lengths`` in order to make sure you obtain a binary adjacency matrix. "
   ]
  },
  {
   "cell_type": "code",
   "execution_count": 28,
   "metadata": {},
   "outputs": [],
   "source": [
    "def compute_shortest_path_lengths(adjacency, source):\n",
    "    num_nodes = len(adjacency)\n",
    "    is_shortest_path = np.zeros((num_nodes,1), dtype=float)   # all in the queue initially\n",
    "    distance = np.ones((num_nodes,1), dtype=float) * np.inf\n",
    "    distance[source]=0\n",
    "    for count in range(num_nodes-1):     \n",
    "        v = np.argmin(is_shortest_path+distance)\n",
    "        is_shortest_path[v] = np.inf  # inf when delete from the queue\n",
    "        neigh = np.nonzero(adjacency[v])[0]\n",
    "        for u in  neigh:\n",
    "            new_dist = distance[v] + adjacency[v,u]\n",
    "            if distance[v] != np.inf and  new_dist < distance[u]:\n",
    "                distance[u] = new_dist\n",
    "    return distance"
   ]
  },
  {
   "cell_type": "markdown",
   "metadata": {},
   "source": [
    "On Directed Graph"
   ]
  },
  {
   "cell_type": "code",
   "execution_count": 29,
   "metadata": {},
   "outputs": [
    {
     "data": {
      "text/html": [
       "<div>\n",
       "<style scoped>\n",
       "    .dataframe tbody tr th:only-of-type {\n",
       "        vertical-align: middle;\n",
       "    }\n",
       "\n",
       "    .dataframe tbody tr th {\n",
       "        vertical-align: top;\n",
       "    }\n",
       "\n",
       "    .dataframe thead th {\n",
       "        text-align: right;\n",
       "    }\n",
       "</style>\n",
       "<table border=\"1\" class=\"dataframe\">\n",
       "  <thead>\n",
       "    <tr style=\"text-align: right;\">\n",
       "      <th></th>\n",
       "      <th>0</th>\n",
       "      <th>1</th>\n",
       "      <th>2</th>\n",
       "      <th>3</th>\n",
       "      <th>4</th>\n",
       "      <th>5</th>\n",
       "      <th>6</th>\n",
       "      <th>7</th>\n",
       "      <th>8</th>\n",
       "      <th>9</th>\n",
       "      <th>...</th>\n",
       "      <th>62163</th>\n",
       "      <th>62164</th>\n",
       "      <th>62165</th>\n",
       "      <th>62166</th>\n",
       "      <th>62167</th>\n",
       "      <th>62168</th>\n",
       "      <th>62169</th>\n",
       "      <th>62170</th>\n",
       "      <th>62171</th>\n",
       "      <th>62172</th>\n",
       "    </tr>\n",
       "  </thead>\n",
       "  <tbody>\n",
       "    <tr>\n",
       "      <th>0</th>\n",
       "      <td>0.0</td>\n",
       "      <td>2.0</td>\n",
       "      <td>2.0</td>\n",
       "      <td>2.0</td>\n",
       "      <td>2.0</td>\n",
       "      <td>2.0</td>\n",
       "      <td>2.0</td>\n",
       "      <td>4.0</td>\n",
       "      <td>2.0</td>\n",
       "      <td>2.0</td>\n",
       "      <td>...</td>\n",
       "      <td>2.0</td>\n",
       "      <td>inf</td>\n",
       "      <td>4.0</td>\n",
       "      <td>2.0</td>\n",
       "      <td>2.0</td>\n",
       "      <td>2.0</td>\n",
       "      <td>2.0</td>\n",
       "      <td>2.0</td>\n",
       "      <td>4.0</td>\n",
       "      <td>4.0</td>\n",
       "    </tr>\n",
       "  </tbody>\n",
       "</table>\n",
       "<p>1 rows × 62173 columns</p>\n",
       "</div>"
      ],
      "text/plain": [
       "   0      1      2      3      4      5      6      7      8      9      \\\n",
       "0    0.0    2.0    2.0    2.0    2.0    2.0    2.0    4.0    2.0    2.0   \n",
       "\n",
       "   ...    62163  62164  62165  62166  62167  62168  62169  62170  62171  62172  \n",
       "0  ...      2.0    inf    4.0    2.0    2.0    2.0    2.0    2.0    4.0    4.0  \n",
       "\n",
       "[1 rows x 62173 columns]"
      ]
     },
     "metadata": {},
     "output_type": "display_data"
    }
   ],
   "source": [
    "dist = compute_shortest_path_lengths(adjacency,0)\n",
    "display(pd.DataFrame(dist).T) "
   ]
  },
  {
   "cell_type": "markdown",
   "metadata": {},
   "source": [
    "On Undirected Graph"
   ]
  },
  {
   "cell_type": "code",
   "execution_count": 30,
   "metadata": {},
   "outputs": [
    {
     "data": {
      "text/html": [
       "<div>\n",
       "<style scoped>\n",
       "    .dataframe tbody tr th:only-of-type {\n",
       "        vertical-align: middle;\n",
       "    }\n",
       "\n",
       "    .dataframe tbody tr th {\n",
       "        vertical-align: top;\n",
       "    }\n",
       "\n",
       "    .dataframe thead th {\n",
       "        text-align: right;\n",
       "    }\n",
       "</style>\n",
       "<table border=\"1\" class=\"dataframe\">\n",
       "  <thead>\n",
       "    <tr style=\"text-align: right;\">\n",
       "      <th></th>\n",
       "      <th>0</th>\n",
       "      <th>1</th>\n",
       "      <th>2</th>\n",
       "      <th>3</th>\n",
       "      <th>4</th>\n",
       "      <th>5</th>\n",
       "      <th>6</th>\n",
       "      <th>7</th>\n",
       "      <th>8</th>\n",
       "      <th>9</th>\n",
       "      <th>...</th>\n",
       "      <th>62163</th>\n",
       "      <th>62164</th>\n",
       "      <th>62165</th>\n",
       "      <th>62166</th>\n",
       "      <th>62167</th>\n",
       "      <th>62168</th>\n",
       "      <th>62169</th>\n",
       "      <th>62170</th>\n",
       "      <th>62171</th>\n",
       "      <th>62172</th>\n",
       "    </tr>\n",
       "  </thead>\n",
       "  <tbody>\n",
       "    <tr>\n",
       "      <th>0</th>\n",
       "      <td>0.0</td>\n",
       "      <td>2.0</td>\n",
       "      <td>2.0</td>\n",
       "      <td>2.0</td>\n",
       "      <td>2.0</td>\n",
       "      <td>2.0</td>\n",
       "      <td>2.0</td>\n",
       "      <td>2.0</td>\n",
       "      <td>2.0</td>\n",
       "      <td>2.0</td>\n",
       "      <td>...</td>\n",
       "      <td>2.0</td>\n",
       "      <td>2.0</td>\n",
       "      <td>2.0</td>\n",
       "      <td>2.0</td>\n",
       "      <td>2.0</td>\n",
       "      <td>2.0</td>\n",
       "      <td>2.0</td>\n",
       "      <td>2.0</td>\n",
       "      <td>2.0</td>\n",
       "      <td>2.0</td>\n",
       "    </tr>\n",
       "  </tbody>\n",
       "</table>\n",
       "<p>1 rows × 62173 columns</p>\n",
       "</div>"
      ],
      "text/plain": [
       "   0      1      2      3      4      5      6      7      8      9      \\\n",
       "0    0.0    2.0    2.0    2.0    2.0    2.0    2.0    2.0    2.0    2.0   \n",
       "\n",
       "   ...    62163  62164  62165  62166  62167  62168  62169  62170  62171  62172  \n",
       "0  ...      2.0    2.0    2.0    2.0    2.0    2.0    2.0    2.0    2.0    2.0  \n",
       "\n",
       "[1 rows x 62173 columns]"
      ]
     },
     "metadata": {},
     "output_type": "display_data"
    }
   ],
   "source": [
    "dist = compute_shortest_path_lengths(undirected_adjacency,0)\n",
    "display(pd.DataFrame(dist).T)"
   ]
  },
  {
   "cell_type": "markdown",
   "metadata": {},
   "source": [
    "### Question 10\n",
    "\n",
    "The diameter of the graph is the length of the longest shortest path between any pair of nodes. Use the above developed function to compute the diameter of the graph (or the diameter of the largest connected component of the graph if the graph is not connected). If your graph (or largest connected component) is very large, computing the diameter will take very long. In that case downsample your graph so that it has 1.000 nodes. There are many ways to reduce the size of a graph. For the purposes of this milestone you can chose to randomly select 1.000 nodes. "
   ]
  },
  {
   "cell_type": "code",
   "execution_count": 34,
   "metadata": {},
   "outputs": [],
   "source": [
    "def get_diameter(adj):\n",
    "    max_list = []\n",
    "    for i in range(len(adj)):\n",
    "        res    = compute_shortest_path_lengths(adj,i)\n",
    "        finite = res[np.isfinite(res)]\n",
    "        max_list.append(max(finite))\n",
    "    return max(max_list)"
   ]
  },
  {
   "cell_type": "code",
   "execution_count": 35,
   "metadata": {},
   "outputs": [
    {
     "data": {
      "text/plain": [
       "2.0"
      ]
     },
     "execution_count": 35,
     "metadata": {},
     "output_type": "execute_result"
    }
   ],
   "source": [
    "import random\n",
    "downsample_nodes = [52866]\n",
    "x = random.sample(range(num_nodes-1), 1000)\n",
    "downsample_nodes.extend(x)\n",
    "small_adj = undirected_adjacency[np.ix_(downsample_nodes,downsample_nodes)]\n",
    "get_diameter(small_adj)"
   ]
  },
  {
   "cell_type": "markdown",
   "metadata": {},
   "source": [
    "### Question 11\n",
    "\n",
    "Write a function that takes as input the adjacency matrix, a path length, and two nodes (`source` and `target`), and returns the number of paths of the given length between them."
   ]
  },
  {
   "cell_type": "code",
   "execution_count": 31,
   "metadata": {},
   "outputs": [],
   "source": [
    "def compute_paths(adjacency, source, target, length):\n",
    "    \n",
    "    # Changing from int8 to int16 to avoid overflow \n",
    "    # Using int32 causes OOM error on 32 GB system \n",
    "    adj = adjacency.astype(np.dtype('>i2'))\n",
    "    \n",
    "    if length==1 :\n",
    "        return adj[source,target]\n",
    "    else : \n",
    "        source_row = adj[source,:] \n",
    "        \n",
    "        for i in range(length-2): \n",
    "            source_row = np.matmul(source_row, adj)\n",
    "            \n",
    "            if len(source_row[np.where(source_row<0)])!=0:\n",
    "                print (\"Overflow Problem\")\n",
    "        \n",
    "        return np.matmul(source_row,adj[:,target])"
   ]
  },
  {
   "cell_type": "markdown",
   "metadata": {},
   "source": [
    "Test your function on 5 pairs of nodes, with different lengths."
   ]
  },
  {
   "cell_type": "code",
   "execution_count": 32,
   "metadata": {},
   "outputs": [
    {
     "name": "stdout",
     "output_type": "stream",
     "text": [
      "0\n",
      "1\n",
      "0\n",
      "0\n",
      "6\n"
     ]
    }
   ],
   "source": [
    "print(compute_paths(adjacency, 0,  10,  1))\n",
    "print(compute_paths(adjacency, 0,  10,  2))\n",
    "print(compute_paths(adjacency, 0,  10,  3))\n",
    "print(compute_paths(adjacency, 15, 93,  2))\n",
    "print(compute_paths(adjacency, 15, 93,  4))"
   ]
  },
  {
   "cell_type": "markdown",
   "metadata": {},
   "source": [
    "### Question 12\n",
    "\n",
    "How many paths of length 3 are there in your graph? Hint: calling the `compute_paths` function on every pair of node is not an efficient way to do it."
   ]
  },
  {
   "cell_type": "code",
   "execution_count": 41,
   "metadata": {},
   "outputs": [
    {
     "data": {
      "text/plain": [
       "95048"
      ]
     },
     "execution_count": 41,
     "metadata": {},
     "output_type": "execute_result"
    }
   ],
   "source": [
    "np.sum(np.linalg.matrix_power(small_adj.astype(np.dtype('>i2')),3))"
   ]
  },
  {
   "cell_type": "markdown",
   "metadata": {},
   "source": [
    "We decided to use a subgraph with a thousand nodes because of concern with execution times. ( Our original, filtered dataset has ~65K nodes. ) "
   ]
  },
  {
   "cell_type": "markdown",
   "metadata": {},
   "source": [
    "### Question 13\n",
    "\n",
    "Write a function that takes as input the adjacency matrix of your graph (or of the largest connected component of your graph) and a node and returns the clustering coefficient of that node. "
   ]
  },
  {
   "cell_type": "code",
   "execution_count": 37,
   "metadata": {},
   "outputs": [
    {
     "data": {
      "text/plain": [
       "5.292899813081244e-07"
      ]
     },
     "execution_count": 37,
     "metadata": {},
     "output_type": "execute_result"
    }
   ],
   "source": [
    "def compute_clustering_coefficient(adjacency, node):\n",
    "\n",
    "    neigh =  np.nonzero(adjacency[node])[0]\n",
    "\n",
    "    if len(neigh) == 0 or len(neigh) == 1:\n",
    "        return 0\n",
    "    links = 0\n",
    "    count =0\n",
    "    for v in neigh:\n",
    "        count+=1\n",
    "        neighV =  np.nonzero(adjacency[v])[0]\n",
    "        for u in neigh:\n",
    "        \n",
    "            if u in neighV: \n",
    "                # We increment by 0.5 in order to take into account double-counting\n",
    "                links += 0.5\n",
    "\n",
    "    clustering_coefficient = 2.0 * links / (len(neigh)*(len(neigh)-1))\n",
    "    \n",
    "    return clustering_coefficient\n",
    "\n",
    "compute_clustering_coefficient(undirected_adjacency,6059 )"
   ]
  },
  {
   "cell_type": "markdown",
   "metadata": {},
   "source": [
    "### Question 14\n",
    "\n",
    "What is the average clustering coefficient of your graph (or of the largest connected component of your graph if your graph is disconnected)? Use the function ``compute_clustering_coefficient`` to determine your answer."
   ]
  },
  {
   "cell_type": "code",
   "execution_count": 38,
   "metadata": {},
   "outputs": [
    {
     "name": "stdout",
     "output_type": "stream",
     "text": [
      "Average clustering coefficient : 0.0009125626349747643\n"
     ]
    }
   ],
   "source": [
    "sizeNodes = num_nodes\n",
    "total = 0\n",
    "\n",
    "for v in range(sizeNodes):\n",
    "    total += compute_clustering_coefficient(undirected_adjacency,v)\n",
    "    \n",
    "print(\"Average clustering coefficient :\" ,total/sizeNodes)"
   ]
  },
  {
   "cell_type": "code",
   "execution_count": null,
   "metadata": {},
   "outputs": [],
   "source": []
  }
 ],
 "metadata": {
  "kernelspec": {
   "display_name": "ntds_2018",
   "language": "python",
   "name": "ntds_2018"
  },
  "language_info": {
   "codemirror_mode": {
    "name": "ipython",
    "version": 3
   },
   "file_extension": ".py",
   "mimetype": "text/x-python",
   "name": "python",
   "nbconvert_exporter": "python",
   "pygments_lexer": "ipython3",
   "version": "3.7.0"
  }
 },
 "nbformat": 4,
 "nbformat_minor": 2
}
