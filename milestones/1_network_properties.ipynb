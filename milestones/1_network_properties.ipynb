{
 "cells": [
  {
   "cell_type": "markdown",
   "metadata": {},
   "source": [
    "# NTDS'18 milestone 1: network collection and properties\n",
    "[Effrosyni Simou](https://lts4.epfl.ch/simou), [EPFL LTS4](https://lts4.epfl.ch)"
   ]
  },
  {
   "cell_type": "markdown",
   "metadata": {},
   "source": [
    "## Students\n",
    "\n",
    "* Team: 50\n",
    "* Students: Görkem Çamli, Raphael Laporte, Ilija Gjorgjiev, Murat Genc\n",
    "* Dataset: Spammers on Social Network"
   ]
  },
  {
   "cell_type": "markdown",
   "metadata": {},
   "source": [
    "## Rules\n",
    "\n",
    "* Milestones have to be completed by teams. No collaboration between teams is allowed.\n",
    "* Textual answers shall be short. Typically one to three sentences.\n",
    "* Code has to be clean.\n",
    "* You cannot import any other library than we imported.\n",
    "* When submitting, the notebook is executed and the results are stored. I.e., if you open the notebook again it should show numerical results and plots. We won't be able to execute your notebooks.\n",
    "* The notebook is re-executed from a blank state before submission. That is to be sure it is reproducible. You can click \"Kernel\" then \"Restart & Run All\" in Jupyter."
   ]
  },
  {
   "cell_type": "markdown",
   "metadata": {},
   "source": [
    "## Objective "
   ]
  },
  {
   "cell_type": "markdown",
   "metadata": {},
   "source": [
    "The purpose of this milestone is to start getting acquainted to the network that you will use for this class. In the first part of the milestone you will import your data using [Pandas](http://pandas.pydata.org) and you will create the adjacency matrix using [Numpy](http://www.numpy.org). This part is project specific. In the second part you will have to compute some basic properties of your network. **For the computation of the properties you are only allowed to use the packages that have been imported in the cell below.** You are not allowed to use any graph-specific toolboxes for this milestone (such as networkx and PyGSP). Furthermore, the aim is not to blindly compute the network properties, but to also start to think about what kind of network you will be working with this semester. "
   ]
  },
  {
   "cell_type": "code",
   "execution_count": 1,
   "metadata": {},
   "outputs": [],
   "source": [
    "import numpy as np\n",
    "import pandas as pd\n",
    "import matplotlib.pyplot as plt"
   ]
  },
  {
   "cell_type": "markdown",
   "metadata": {},
   "source": [
    "## Part 1 - Import your data and manipulate them. "
   ]
  },
  {
   "cell_type": "markdown",
   "metadata": {},
   "source": [
    "###  A. Load your data in a Panda dataframe."
   ]
  },
  {
   "cell_type": "markdown",
   "metadata": {},
   "source": [
    "First, you should define and understand what are your nodes, what features you have and what are your labels. Please provide below a Panda dataframe where each row corresponds to a node with its features and labels. For example, in the the case of the Free Music Archive (FMA) Project, each row of the dataframe would be of the following form:\n",
    "\n",
    "\n",
    "| Track   |  Feature 1  | Feature 2 | . . . | Feature 518|  Label 1 |  Label 2 |. . .|Label 16|\n",
    "|:-------:|:-----------:|:---------:|:-----:|:----------:|:--------:|:--------:|:---:|:------:|\n",
    "|         |             |           |       |            |          |          |     |        |\n",
    "\n",
    "It is possible that in some of the projects either the features or the labels are not available. This is OK, in that case just make sure that you create a dataframe where each of the rows corresponds to a node and its associated features or labels."
   ]
  },
  {
   "cell_type": "code",
   "execution_count": 2,
   "metadata": {},
   "outputs": [],
   "source": [
    "# Your code here.\n",
    "relations = pd.read_csv('data/filtered_relations.csv')\n",
    "users = pd.read_csv('data/filtered_users.csv')\n",
    "#features = # the pandas dataframe with the features and labels"
   ]
  },
  {
   "cell_type": "code",
   "execution_count": 3,
   "metadata": {},
   "outputs": [
    {
     "data": {
      "text/html": [
       "<div>\n",
       "<style scoped>\n",
       "    .dataframe tbody tr th:only-of-type {\n",
       "        vertical-align: middle;\n",
       "    }\n",
       "\n",
       "    .dataframe tbody tr th {\n",
       "        vertical-align: top;\n",
       "    }\n",
       "\n",
       "    .dataframe thead th {\n",
       "        text-align: right;\n",
       "    }\n",
       "</style>\n",
       "<table border=\"1\" class=\"dataframe\">\n",
       "  <thead>\n",
       "    <tr style=\"text-align: right;\">\n",
       "      <th></th>\n",
       "      <th>day</th>\n",
       "      <th>time_ms</th>\n",
       "      <th>src</th>\n",
       "      <th>dst</th>\n",
       "      <th>relation</th>\n",
       "    </tr>\n",
       "  </thead>\n",
       "  <tbody>\n",
       "    <tr>\n",
       "      <th>0</th>\n",
       "      <td>0</td>\n",
       "      <td>7857852</td>\n",
       "      <td>1</td>\n",
       "      <td>3993630</td>\n",
       "      <td>5</td>\n",
       "    </tr>\n",
       "    <tr>\n",
       "      <th>1</th>\n",
       "      <td>0</td>\n",
       "      <td>7860977</td>\n",
       "      <td>1</td>\n",
       "      <td>3181660</td>\n",
       "      <td>5</td>\n",
       "    </tr>\n",
       "    <tr>\n",
       "      <th>2</th>\n",
       "      <td>0</td>\n",
       "      <td>7862420</td>\n",
       "      <td>1</td>\n",
       "      <td>1582548</td>\n",
       "      <td>5</td>\n",
       "    </tr>\n",
       "    <tr>\n",
       "      <th>3</th>\n",
       "      <td>0</td>\n",
       "      <td>7866986</td>\n",
       "      <td>1</td>\n",
       "      <td>5208994</td>\n",
       "      <td>5</td>\n",
       "    </tr>\n",
       "    <tr>\n",
       "      <th>4</th>\n",
       "      <td>2</td>\n",
       "      <td>21455967</td>\n",
       "      <td>1</td>\n",
       "      <td>2330216</td>\n",
       "      <td>5</td>\n",
       "    </tr>\n",
       "  </tbody>\n",
       "</table>\n",
       "</div>"
      ],
      "text/plain": [
       "   day   time_ms  src      dst  relation\n",
       "0    0   7857852    1  3993630         5\n",
       "1    0   7860977    1  3181660         5\n",
       "2    0   7862420    1  1582548         5\n",
       "3    0   7866986    1  5208994         5\n",
       "4    2  21455967    1  2330216         5"
      ]
     },
     "metadata": {},
     "output_type": "display_data"
    },
    {
     "data": {
      "text/plain": [
       "(83176, 5)"
      ]
     },
     "metadata": {},
     "output_type": "display_data"
    },
    {
     "data": {
      "text/html": [
       "<div>\n",
       "<style scoped>\n",
       "    .dataframe tbody tr th:only-of-type {\n",
       "        vertical-align: middle;\n",
       "    }\n",
       "\n",
       "    .dataframe tbody tr th {\n",
       "        vertical-align: top;\n",
       "    }\n",
       "\n",
       "    .dataframe thead th {\n",
       "        text-align: right;\n",
       "    }\n",
       "</style>\n",
       "<table border=\"1\" class=\"dataframe\">\n",
       "  <thead>\n",
       "    <tr style=\"text-align: right;\">\n",
       "      <th></th>\n",
       "      <th>day</th>\n",
       "      <th>time_ms</th>\n",
       "      <th>src</th>\n",
       "      <th>dst</th>\n",
       "      <th>relation</th>\n",
       "    </tr>\n",
       "  </thead>\n",
       "  <tbody>\n",
       "    <tr>\n",
       "      <th>count</th>\n",
       "      <td>83176.000000</td>\n",
       "      <td>8.317600e+04</td>\n",
       "      <td>8.317600e+04</td>\n",
       "      <td>8.317600e+04</td>\n",
       "      <td>83176.0</td>\n",
       "    </tr>\n",
       "    <tr>\n",
       "      <th>mean</th>\n",
       "      <td>5.363735</td>\n",
       "      <td>4.364584e+07</td>\n",
       "      <td>2.560122e+06</td>\n",
       "      <td>2.771619e+06</td>\n",
       "      <td>5.0</td>\n",
       "    </tr>\n",
       "    <tr>\n",
       "      <th>std</th>\n",
       "      <td>2.478274</td>\n",
       "      <td>2.485177e+07</td>\n",
       "      <td>1.680537e+06</td>\n",
       "      <td>1.653804e+06</td>\n",
       "      <td>0.0</td>\n",
       "    </tr>\n",
       "    <tr>\n",
       "      <th>min</th>\n",
       "      <td>0.000000</td>\n",
       "      <td>1.290000e+02</td>\n",
       "      <td>1.000000e+00</td>\n",
       "      <td>1.000000e+00</td>\n",
       "      <td>5.0</td>\n",
       "    </tr>\n",
       "    <tr>\n",
       "      <th>25%</th>\n",
       "      <td>4.000000</td>\n",
       "      <td>2.550006e+07</td>\n",
       "      <td>7.689900e+05</td>\n",
       "      <td>1.199187e+06</td>\n",
       "      <td>5.0</td>\n",
       "    </tr>\n",
       "    <tr>\n",
       "      <th>50%</th>\n",
       "      <td>6.000000</td>\n",
       "      <td>4.165693e+07</td>\n",
       "      <td>2.440318e+06</td>\n",
       "      <td>2.826794e+06</td>\n",
       "      <td>5.0</td>\n",
       "    </tr>\n",
       "    <tr>\n",
       "      <th>75%</th>\n",
       "      <td>7.000000</td>\n",
       "      <td>6.315638e+07</td>\n",
       "      <td>4.231085e+06</td>\n",
       "      <td>4.242568e+06</td>\n",
       "      <td>5.0</td>\n",
       "    </tr>\n",
       "    <tr>\n",
       "      <th>max</th>\n",
       "      <td>9.000000</td>\n",
       "      <td>8.639946e+07</td>\n",
       "      <td>5.607214e+06</td>\n",
       "      <td>5.607437e+06</td>\n",
       "      <td>5.0</td>\n",
       "    </tr>\n",
       "  </tbody>\n",
       "</table>\n",
       "</div>"
      ],
      "text/plain": [
       "                day       time_ms           src           dst  relation\n",
       "count  83176.000000  8.317600e+04  8.317600e+04  8.317600e+04   83176.0\n",
       "mean       5.363735  4.364584e+07  2.560122e+06  2.771619e+06       5.0\n",
       "std        2.478274  2.485177e+07  1.680537e+06  1.653804e+06       0.0\n",
       "min        0.000000  1.290000e+02  1.000000e+00  1.000000e+00       5.0\n",
       "25%        4.000000  2.550006e+07  7.689900e+05  1.199187e+06       5.0\n",
       "50%        6.000000  4.165693e+07  2.440318e+06  2.826794e+06       5.0\n",
       "75%        7.000000  6.315638e+07  4.231085e+06  4.242568e+06       5.0\n",
       "max        9.000000  8.639946e+07  5.607214e+06  5.607437e+06       5.0"
      ]
     },
     "metadata": {},
     "output_type": "display_data"
    }
   ],
   "source": [
    "display(relations.head())\n",
    "display(relations.shape)\n",
    "display(relations.describe())"
   ]
  },
  {
   "cell_type": "code",
   "execution_count": null,
   "metadata": {},
   "outputs": [],
   "source": [
    "display(users.head())\n",
    "display(users.shape)\n",
    "display(users.describe())"
   ]
  },
  {
   "cell_type": "code",
   "execution_count": null,
   "metadata": {},
   "outputs": [],
   "source": [
    "users[\"Spammer Label\"].unique()"
   ]
  },
  {
   "cell_type": "markdown",
   "metadata": {},
   "source": [
    "### B. Create the adjacency matrix of your network."
   ]
  },
  {
   "cell_type": "markdown",
   "metadata": {},
   "source": [
    "Remember that there are edges connecting the attributed nodes that you organized in the dataframe above. The connectivity of the network is captured by the adjacency matrix $W$. If $N$ is the number of nodes, the adjacency matrix is an $N \\times N$ matrix where the value of $W(i,j)$ is the weight of the edge connecting node $i$ to node $j$.  \n",
    "\n",
    "There are two possible scenarios for your adjacency matrix construction, as you already learned in the tutorial by Benjamin:\n",
    "\n",
    "1) The edges are given to you explicitly. In this case you should simply load the file containing the edge information and parse it in order to create your adjacency matrix. See how to do that in the  [graph from edge list]() demo.\n",
    "\n",
    "2) The edges are not given to you. In that case you will have to create a feature graph. In order to do that you will have to chose a distance that will quantify how similar two nodes are based on the values in their corresponding feature vectors. In the [graph from features]() demo Benjamin showed you how to build feature graphs when using Euclidean distances between feature vectors. Be curious and explore other distances as well! For instance, in the case of high-dimensional feature vectors, you might want to consider using the cosine distance. Once you compute the distances between your nodes you will have a fully connected network. Do not forget to sparsify by keeping the most important edges in your network.\n",
    "\n",
    "Follow the appropriate steps for the construction of the adjacency matrix of your network and provide it in the Numpy array ``adjacency`` below: "
   ]
  },
  {
   "cell_type": "code",
   "execution_count": null,
   "metadata": {},
   "outputs": [],
   "source": [
    "#Define Nodes\n",
    "nodes = users[['User Id', \"Time\", \"Gender\", \"Age Range\", \"Spammer Label\"]]\n",
    "num_nodes = len(nodes)\n",
    "nodes.reset_index(level=0, inplace=True)\n",
    "nodes = nodes.rename(columns={'index':'node_idx'})\n",
    "nodes.head()"
   ]
  },
  {
   "cell_type": "code",
   "execution_count": null,
   "metadata": {},
   "outputs": [],
   "source": [
    "#Define Edges\n",
    "edges = relations[[\"src\", \"dst\", \"relation\"]]\n",
    "num_edges = len(edges)\n",
    "edges.head()"
   ]
  },
  {
   "cell_type": "code",
   "execution_count": null,
   "metadata": {},
   "outputs": [],
   "source": [
    "# Create a conversion table from User Id to node index.\n",
    "uid2idx = nodes[['node_idx', 'User Id']]\n",
    "uid2idx = uid2idx.set_index('User Id')\n",
    "uid2idx.index.name = 'src'\n",
    "uid2idx.head()"
   ]
  },
  {
   "cell_type": "code",
   "execution_count": null,
   "metadata": {},
   "outputs": [],
   "source": [
    "# Add a new column, matching the \"src\" column with the node_idx.\n",
    "# Do the same with the \"dst\" column.\n",
    "edges = edges.join(uid2idx, on=\"src\")\n",
    "edges = edges.join(uid2idx, on='dst', rsuffix='_dst')\n",
    "edges.head()"
   ]
  },
  {
   "cell_type": "code",
   "execution_count": null,
   "metadata": {},
   "outputs": [],
   "source": [
    "# Drop the src, dst.\n",
    "edges = edges.drop(columns=['src','dst'])\n"
   ]
  },
  {
   "cell_type": "code",
   "execution_count": null,
   "metadata": {},
   "outputs": [],
   "source": [
    "edges.head()"
   ]
  },
  {
   "cell_type": "code",
   "execution_count": null,
   "metadata": {},
   "outputs": [],
   "source": [
    "# Your code here\n",
    "adjacency = np.zeros((num_nodes, num_nodes), dtype=int)\n",
    "for idx, row in edges.iterrows():\n",
    "    i, j = int(row.node_idx), int(row.node_idx_dst)\n",
    "    adjacency[i, j] = 1\n",
    "n_nodes = num_nodes"
   ]
  },
  {
   "cell_type": "markdown",
   "metadata": {},
   "source": [
    "## Part 2"
   ]
  },
  {
   "cell_type": "markdown",
   "metadata": {},
   "source": [
    "Execute the cell below to plot the (weighted) adjacency matrix of your network."
   ]
  },
  {
   "cell_type": "code",
   "execution_count": null,
   "metadata": {},
   "outputs": [],
   "source": [
    "plt.spy(adjacency, markersize=1)\n",
    "plt.title('adjacency matrix')"
   ]
  },
  {
   "cell_type": "markdown",
   "metadata": {},
   "source": [
    "### Question 1\n",
    "\n",
    "What is the maximum number of links $L_{max}$ in a network with $N$ nodes (where $N$ is the number of nodes in your network)? How many links $L$ are there in your collected network? Comment on the sparsity of your network."
   ]
  },
  {
   "cell_type": "code",
   "execution_count": null,
   "metadata": {},
   "outputs": [],
   "source": [
    "# Your code here.\n",
    "#1. Maximum Number of Nodes:\n",
    "l_max = (num_nodes * (num_nodes-1) / 2)\n",
    "print(\"Maximum Number of Links: \" + str(l_max))\n",
    "#2. Number of Links \n",
    "print(\"Number of Links in the Network: \" + str(num_edges))\n",
    "#3. Sparsity of the Matrix\n",
    "\n",
    "k_avg = num_edges / num_nodes\n",
    "display(edges[\"node_idx\"].value_counts().head())\n",
    "display(edges[\"node_idx_dst\"].value_counts().head())"
   ]
  },
  {
   "cell_type": "markdown",
   "metadata": {},
   "source": [
    "**Your answer here.**\n",
    "As we can see the matrix is pretty sparse, since the average degree is equal to 1.33. Also we can see that there are some users who have made an unatural number of interactions with other users.\n",
    "\n",
    "For example:\n",
    "User with node_idx: 52866 has made 6218 relations. This is almost 1/14th of all the intercations, so this is an outlier(considering the fact that the average degree is 1.33)."
   ]
  },
  {
   "cell_type": "markdown",
   "metadata": {},
   "source": [
    "### Question 2\n",
    "\n",
    "Is your graph directed or undirected? If it is directed, convert it to an undirected graph by symmetrizing the adjacency matrix."
   ]
  },
  {
   "cell_type": "markdown",
   "metadata": {},
   "source": [
    "**Your answer here.**\n",
    "\n",
    "Our graph is directed. This is because a relation between two users has a source user and destination user. So one user can be interacting with another, but this does not imply the other way around."
   ]
  },
  {
   "cell_type": "code",
   "execution_count": null,
   "metadata": {},
   "outputs": [],
   "source": [
    "# Your code here.\n",
    "for idx, row in edges.iterrows():\n",
    "    i, j = int(row.node_idx), int(row.node_idx_dst)\n",
    "    adjacency[j, i] = 1"
   ]
  },
  {
   "cell_type": "markdown",
   "metadata": {},
   "source": [
    "### Question 3\n",
    "\n",
    "In the cell below save the features dataframe and the **symmetrized** adjacency matrix. You can use the Pandas ``to_csv`` to save the ``features`` and Numpy's ``save`` to save the ``adjacency``. We will reuse those in the following milestones."
   ]
  },
  {
   "cell_type": "code",
   "execution_count": null,
   "metadata": {},
   "outputs": [],
   "source": [
    "# Your code here.\n",
    "nodes.to_csv(\"features.csv\")\n",
    "np.save(\"adjacency\", adjacency)"
   ]
  },
  {
   "cell_type": "markdown",
   "metadata": {},
   "source": [
    "### Question 4\n",
    "\n",
    "Are the edges of your graph weighted?"
   ]
  },
  {
   "cell_type": "markdown",
   "metadata": {},
   "source": [
    "**Your answer here.**\n",
    "No, at the moment they are not weighted. Either there is a relation(1) or there isn't a relation(0)."
   ]
  },
  {
   "cell_type": "markdown",
   "metadata": {},
   "source": [
    "### Question 5\n",
    "\n",
    "What is the degree distibution of your network? "
   ]
  },
  {
   "cell_type": "code",
   "execution_count": null,
   "metadata": {},
   "outputs": [],
   "source": [
    "in_degree = np.zeros((num_nodes, 1), dtype=int)\n",
    "out_degree = np.zeros((num_nodes, 1), dtype=int)\n",
    "\n",
    "for idx, row in edges.iterrows():\n",
    "    src, dst = int(row.node_idx), int(row.node_idx_dst)\n",
    "    out_degree[src] += 1\n",
    "    in_degree[dst] += 1\n",
    "\n",
    "degree =  in_degree + out_degree # Your code here. It should be a numpy array.\n",
    "\n",
    "assert len(degree) == n_nodes"
   ]
  },
  {
   "cell_type": "markdown",
   "metadata": {},
   "source": [
    "Execute the cell below to see the histogram of the degree distribution."
   ]
  },
  {
   "cell_type": "code",
   "execution_count": null,
   "metadata": {},
   "outputs": [],
   "source": [
    "weights = np.ones_like(degree) / float(n_nodes)\n",
    "plt.hist(degree, weights=weights);"
   ]
  },
  {
   "cell_type": "code",
   "execution_count": null,
   "metadata": {},
   "outputs": [],
   "source": [
    "plt.hist(degree, weights=weights , bins=100, range=(0,50));"
   ]
  },
  {
   "cell_type": "code",
   "execution_count": null,
   "metadata": {},
   "outputs": [],
   "source": [
    "plt.hist(np.log(degree), weights=weights, bins=100);"
   ]
  },
  {
   "cell_type": "code",
   "execution_count": null,
   "metadata": {},
   "outputs": [],
   "source": [
    "display(degree[degree.argmax()])\n",
    "display(degree.min())\n",
    "degree.argmax()"
   ]
  },
  {
   "cell_type": "markdown",
   "metadata": {},
   "source": [
    "What is the average degree?"
   ]
  },
  {
   "cell_type": "code",
   "execution_count": null,
   "metadata": {},
   "outputs": [],
   "source": [
    "# Your code here.\n",
    "Lin = np.sum(in_degree)\n",
    "Lout = np.sum(out_degree)\n",
    "assert Lin == Lout\n",
    "print('L is: ',Lin)\n",
    "# Since Lin is equal to Lout we can use either one as L in the below calculation\n",
    "avg_degree = Lin /  num_nodes\n",
    "print('average degree is: ',avg_degree)"
   ]
  },
  {
   "cell_type": "markdown",
   "metadata": {},
   "source": [
    "### Question 6\n",
    "\n",
    "Comment on the degree distribution of your network."
   ]
  },
  {
   "cell_type": "markdown",
   "metadata": {},
   "source": [
    "According to the network degree distribution, most of the nodes have very low level of connectivity. The average degree is 1.33 meaning majority of the nodes has around degree of one that is clearly seen in the histogram. There are also few dominant nodes that has high connectivity (ie. node 52866 has a degree of 8216 which is the highest degree in the network). Therefore, we can say that by looking to the degree distribution we are dealing with a centralised network (scale-free network) since we have many low level nodes with a few dominant nodes"
   ]
  },
  {
   "cell_type": "markdown",
   "metadata": {},
   "source": [
    "### Question 7\n",
    "\n",
    "Write a function that takes as input the adjacency matrix of a graph and determines whether the graph is connected or not."
   ]
  },
  {
   "cell_type": "code",
   "execution_count": null,
   "metadata": {},
   "outputs": [],
   "source": [
    "def visit(adjacency, visited_nodes, current_node):\n",
    "    \n",
    "    neighbors = adjacency[current_node]\n",
    "        \n",
    "    for i in np.nonzero(neighbors)[0]: \n",
    "      \n",
    "        if (visited_nodes[i] == 0): \n",
    "            visited_nodes[i] = 1;\n",
    "            visited_nodes = visit(adjacency, visited_nodes, i)\n",
    "            \n",
    "    return visited_nodes\n",
    "\n",
    "def start_dfs (adjacency, visited_nodes, current_node ):\n",
    "    visited_nodes_1 = np.copy(visited_nodes)\n",
    "    visited_nodes_1[current_node] = 1 \n",
    "    return visit(adjacency, visited_nodes_1,current_node)\n",
    "\n",
    "def connected_graph(adjacency):\n",
    "    touched_nodes = np.zeros(adjacency.shape[0])\n",
    "    touched_nodes = start_dfs(adjacency, touched_nodes, 0)\n",
    "    return (adjacency.shape[0] == np.sum(touched_nodes))"
   ]
  },
  {
   "cell_type": "markdown",
   "metadata": {},
   "source": [
    "Is your graph connected? Run the ``connected_graph`` function to determine your answer."
   ]
  },
  {
   "cell_type": "code",
   "execution_count": null,
   "metadata": {
    "scrolled": false
   },
   "outputs": [],
   "source": [
    "connected_graph(adjacency)"
   ]
  },
  {
   "cell_type": "markdown",
   "metadata": {},
   "source": [
    "### Question 8\n",
    "\n",
    "Write a function that extracts the connected components of a graph."
   ]
  },
  {
   "cell_type": "code",
   "execution_count": null,
   "metadata": {},
   "outputs": [],
   "source": [
    "def find_components(adjacency):\n",
    "\n",
    "    adj_matrices = []\n",
    "    \n",
    "    touched_nodes = np.zeros(adjacency.shape[0])\n",
    "    \n",
    "    while np.count_nonzero(touched_nodes) != touched_nodes.size :\n",
    "        \n",
    "        next_nonvisited, = np.where( touched_nodes == 0)\n",
    "        next_nonvisited = next_nonvisited[0]\n",
    "        \n",
    "        new_touched_nodes              = start_dfs(adjacency, touched_nodes, next_nonvisited)\n",
    "        touched_indices                = np.nonzero(new_touched_nodes - touched_nodes)\n",
    "        \n",
    "        touched_nodes                  = new_touched_nodes\n",
    "        num_touched_idx                = touched_indices[0].shape[0]          \n",
    "        \n",
    "        adj_matrices.append(((adjacency[touched_indices][:,touched_indices])\n",
    "                              .reshape((num_touched_idx,num_touched_idx))\n",
    "                              ,touched_indices[0]))\n",
    "        \n",
    "    return adj_matrices"
   ]
  },
  {
   "cell_type": "markdown",
   "metadata": {},
   "source": [
    "How many connected components is your network composed of? What is the size of the largest connected component? Run the ``find_components`` function to determine your answer. "
   ]
  },
  {
   "cell_type": "markdown",
   "metadata": {},
   "source": [
    "Our network is composed of one giant connected component with 62173 nodes. Our function seperates the adjacency matrix into a list of adjacency matrices, one for each connected component. The accompanying array serves as a mapping between the indices of the full adjacency matrix and those of that of the connected component. \n",
    "\n",
    "ie. array[component_adj_idx] = full_adj_idx "
   ]
  },
  {
   "cell_type": "code",
   "execution_count": null,
   "metadata": {},
   "outputs": [],
   "source": [
    "find_components(adjacency)"
   ]
  },
  {
   "cell_type": "code",
   "execution_count": null,
   "metadata": {},
   "outputs": [],
   "source": [
    "adj = np.array([[0,1,1,0,0,0,0],\n",
    "                [1,0,1,0,0,0,0],\n",
    "                [1,1,0,0,0,0,0],\n",
    "                [0,0,0,0,0,0,1],\n",
    "                [0,0,0,0,0,1,1],\n",
    "                [0,0,0,0,1,0,1],\n",
    "                [0,0,0,1,1,1,0]])\n",
    "adj_matrices = find_components(adj)\n",
    "\n",
    "print(adj_matrices[0][1])\n",
    "print(adj_matrices[0][0])\n",
    "print(\"----------------\")\n",
    "print(adj_matrices[1][1])\n",
    "print(adj_matrices[1][0])"
   ]
  },
  {
   "cell_type": "markdown",
   "metadata": {},
   "source": [
    "### Question 9\n",
    "\n",
    "Write a function that takes as input the adjacency matrix and a node (`source`) and returns the length of the shortest path between that node and all nodes in the graph using Dijkstra's algorithm. **For the purposes of this assignment we are interested in the hop distance between nodes, not in the sum of weights. **\n",
    "\n",
    "Hint: You might want to mask the adjacency matrix in the function ``compute_shortest_path_lengths`` in order to make sure you obtain a binary adjacency matrix. "
   ]
  },
  {
   "cell_type": "code",
   "execution_count": null,
   "metadata": {},
   "outputs": [],
   "source": [
    "\"\"\"\n",
    "#Question 9\n",
    "\n",
    "def compute_shortest_path_lengths(adjacency, source):\n",
    "    is_shortest_path = np.zeros((num_nodes,1), dtype=bool)\n",
    "    distance = np.ones((num_nodes,1), dtype=int) * np.inf\n",
    "    distance[source]=0\n",
    "    for count in range(num_nodes-1):\n",
    "        #print(count)\n",
    "        u = min_dist(distance, is_shortest_path)\n",
    "        is_shortest_path[u] = True\n",
    "        for v in np.where(is_shortest_path == 0)[0]:\n",
    "            if  adjacency[u,v] !=0 and distance[u] != np.inf and distance[u] + adjacency[u,v] < distance[v]:\n",
    "                distance[v] = distance[u]+ adjacency[u,v]\n",
    "    return distance\n",
    "\n",
    "def min_dist(distance, is_shortest_path):\n",
    "    min_value = np.inf\n",
    "    for i in np.where(is_shortest_path == 0)[0]:\n",
    "        if distance[i] <= min_value:\n",
    "            min_value = distance[i]\n",
    "            min_index = i\n",
    "    return min_index\n",
    "\n",
    "x = compute_shortest_path_lengths(adjacency, 0)\n",
    "display(x)\n",
    "\"\"\""
   ]
  },
  {
   "cell_type": "code",
   "execution_count": null,
   "metadata": {},
   "outputs": [],
   "source": [
    "# undirected graph\n",
    "def compute_shortest_path_lengths(adjacency, source):\n",
    "    \"\"\"Compute the shortest path length between a source node and all nodes.\n",
    "    \n",
    "    Parameters\n",
    "    ----------\n",
    "    adjacency: numpy array\n",
    "        The (weighted) adjacency matrix of a graph.\n",
    "    source: int\n",
    "        The source node. A number between 0 and n_nodes-1.\n",
    "    \n",
    "    Returns\n",
    "    -------\n",
    "    list of ints\n",
    "        The length of the shortest path from source to all nodes. Returned list should be of length n_nodes.\n",
    "    \"\"\"\n",
    "    is_shortest_path = np.zeros((num_nodes,1), dtype=float)   # all in the queue initially\n",
    "    distance = np.ones((num_nodes,1), dtype=float) * np.inf\n",
    "    distance[source]=0\n",
    "    for count in range(num_nodes-1):     \n",
    "        v = np.argmin(is_shortest_path+distance)\n",
    "        is_shortest_path[v] = np.inf  # inf when delete from the queue\n",
    "        neigh = np.nonzero(adjacency[v])[0]\n",
    "        for u in  neigh:\n",
    "            new_dist = distance[v] + adjacency[v,u]\n",
    "            if distance[v] != np.inf and  new_dist < distance[u]:\n",
    "                distance[u] = new_dist\n",
    "    return distance"
   ]
  },
  {
   "cell_type": "code",
   "execution_count": null,
   "metadata": {},
   "outputs": [],
   "source": [
    "dist = compute_shortest_path_lengths(adjacency,0)"
   ]
  },
  {
   "cell_type": "code",
   "execution_count": null,
   "metadata": {},
   "outputs": [],
   "source": [
    "display(pd.DataFrame(dist).T)"
   ]
  },
  {
   "cell_type": "markdown",
   "metadata": {},
   "source": [
    "### Question 10\n",
    "\n",
    "The diameter of the graph is the length of the longest shortest path between any pair of nodes. Use the above developed function to compute the diameter of the graph (or the diameter of the largest connected component of the graph if the graph is not connected). If your graph (or largest connected component) is very large, computing the diameter will take very long. In that case downsample your graph so that it has 1.000 nodes. There are many ways to reduce the size of a graph. For the purposes of this milestone you can chose to randomly select 1.000 nodes. "
   ]
  },
  {
   "cell_type": "code",
   "execution_count": null,
   "metadata": {},
   "outputs": [],
   "source": [
    "import random"
   ]
  },
  {
   "cell_type": "code",
   "execution_count": null,
   "metadata": {},
   "outputs": [],
   "source": [
    "# Your code here.\n",
    "new_size = 100\n",
    "downsample_nodes = [0]\n",
    "x = random.sample(range(num_nodes-1), new_size-1)\n",
    "downsample_nodes.extend(x)\n",
    "small_adj = adjacency[np.ix_(downsample_nodes,downsample_nodes)]\n",
    "#small_adj = adjacency[0:(new_size-1),0:(new_size-1)]\n",
    "sum(sum(small_adj))"
   ]
  },
  {
   "cell_type": "code",
   "execution_count": null,
   "metadata": {},
   "outputs": [],
   "source": [
    "max_list = []\n",
    "for i in range(new_size-1):\n",
    "    if(i%20 == 0):\n",
    "        print(i)\n",
    "    max_list.append(max(compute_shortest_path_lengths(small_adj,i)))\n",
    "diameter = max(max_list)\n",
    "print('Diameter of the graph is: ', diameter)"
   ]
  },
  {
   "cell_type": "markdown",
   "metadata": {},
   "source": [
    "### Question 11\n",
    "\n",
    "Write a function that takes as input the adjacency matrix, a path length, and two nodes (`source` and `target`), and returns the number of paths of the given length between them."
   ]
  },
  {
   "cell_type": "code",
   "execution_count": null,
   "metadata": {},
   "outputs": [],
   "source": [
    "def dfs_helper(adjacency, target, current, length): \n",
    "    \n",
    "    if (length == 0): \n",
    "        return (1 if (target==current) else 0 )\n",
    "    \n",
    "    count = 0 \n",
    "    \n",
    "    for i in np.nonzero(adjacency[current])[0]: \n",
    "        count += dfs_helper(adjacency, target, i, length-1)\n",
    "        \n",
    "    return count \n",
    "    \n",
    "\n",
    "def compute_paths(adjacency, source, target, length):\n",
    "    return dfs_helper(adjacency, target, source, length)\n",
    "    \n",
    "pow2 = adjacency**3\n",
    "print(pow2[0,10])\n",
    "print(pow2[23,67])"
   ]
  },
  {
   "cell_type": "markdown",
   "metadata": {},
   "source": [
    "Test your function on 5 pairs of nodes, with different lengths."
   ]
  },
  {
   "cell_type": "code",
   "execution_count": null,
   "metadata": {},
   "outputs": [],
   "source": [
    "print(compute_paths(adjacency, 0, 10, 1))\n",
    "print(compute_paths(adjacency, 0, 10, 2))\n",
    "print(compute_paths(adjacency, 0, 10, 3))\n",
    "print(compute_paths(adjacency, 23, 67, 2))\n",
    "print(compute_paths(adjacency, 15, 93, 4))"
   ]
  },
  {
   "cell_type": "markdown",
   "metadata": {},
   "source": [
    "### Question 12\n",
    "\n",
    "How many paths of length 3 are there in your graph? Hint: calling the `compute_paths` function on every pair of node is not an efficient way to do it."
   ]
  },
  {
   "cell_type": "code",
   "execution_count": null,
   "metadata": {},
   "outputs": [],
   "source": [
    "np.sum((adjacency**3)) # divide by 2 if undirecteds"
   ]
  },
  {
   "cell_type": "markdown",
   "metadata": {},
   "source": [
    "### Question 13\n",
    "\n",
    "Write a function that takes as input the adjacency matrix of your graph (or of the largest connected component of your graph) and a node and returns the clustering coefficient of that node. "
   ]
  },
  {
   "cell_type": "code",
   "execution_count": null,
   "metadata": {},
   "outputs": [],
   "source": [
    "def compute_clustering_coefficient(adjacency, node):\n",
    "    \"\"\"Compute the clustering coefficient of a node.\n",
    "    \n",
    "    Parameters\n",
    "    ----------\n",
    "    adjacency: numpy array\n",
    "        The (weighted) adjacency matrix of a graph.\n",
    "    node: int\n",
    "        The node whose clustering coefficient will be computed. A number between 0 and n_nodes-1.\n",
    "    \n",
    "    Returns\n",
    "    -------\n",
    "    float\n",
    "        The clustering coefficient of the node. A number between 0 and 1.\n",
    "    \"\"\"\n",
    "    \n",
    "    # Your code here.\n",
    "    \n",
    "    return clustering_coefficient"
   ]
  },
  {
   "cell_type": "markdown",
   "metadata": {},
   "source": [
    "### Question 14\n",
    "\n",
    "What is the average clustering coefficient of your graph (or of the largest connected component of your graph if your graph is disconnected)? Use the function ``compute_clustering_coefficient`` to determine your answer."
   ]
  },
  {
   "cell_type": "code",
   "execution_count": null,
   "metadata": {},
   "outputs": [],
   "source": [
    "# Your code here."
   ]
  }
 ],
 "metadata": {
  "kernelspec": {
   "display_name": "Python 3",
   "language": "python",
   "name": "python3"
  },
  "language_info": {
   "codemirror_mode": {
    "name": "ipython",
    "version": 3
   },
   "file_extension": ".py",
   "mimetype": "text/x-python",
   "name": "python",
   "nbconvert_exporter": "python",
   "pygments_lexer": "ipython3",
   "version": "3.7.0"
  }
 },
 "nbformat": 4,
 "nbformat_minor": 2
}
