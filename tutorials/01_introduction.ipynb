{
 "cells": [
  {
   "cell_type": "markdown",
   "metadata": {},
   "source": [
    "# NTDS'18 tutorial 1: introduction\n",
    "[Michaël Defferrard](http://deff.ch), *PhD student*, [EPFL LTS2](http://lts2.epfl.ch)"
   ]
  },
  {
   "cell_type": "markdown",
   "metadata": {},
   "source": [
    "## Content\n",
    "\n",
    "1. [Conda and Anaconda](#conda)\n",
    "1. [Python](#python)\n",
    "1. [Jupyter notebooks](#jupyter)\n",
    "1. [Version control with git](#git)\n",
    "1. [Scientific Python](#scipy)"
   ]
  },
  {
   "cell_type": "markdown",
   "metadata": {},
   "source": [
    "<a id='conda'></a>\n",
    "## 1 Conda and Anaconda\n",
    "\n",
    "![conda](figures/conda.jpg)\n",
    "\n",
    "[Conda](https://conda.io) is a package and environment manager. It allows you to create environments, ideally one per project, and install packages into them. It is available for Windows, macOS and Linux.\n",
    "\n",
    "[Anaconda](https://anaconda.org/download) is a commercial distribution that comes with many of the packages used by data scientists. [Miniconda](https://conda.io/miniconda.html) is a lighter open distribution. Both install `conda`, from which you'll be able to install many packages.\n",
    "\n",
    "[conda-forge](https://conda-forge.org) is a community-driven collection of recipes to build conda packages. It contains many more packages than the official defaults channel."
   ]
  },
  {
   "cell_type": "markdown",
   "metadata": {},
   "source": [
    "Get basic information from your conda installation:"
   ]
  },
  {
   "cell_type": "code",
   "execution_count": null,
   "metadata": {},
   "outputs": [],
   "source": [
    "!conda info"
   ]
  },
  {
   "cell_type": "markdown",
   "metadata": {},
   "source": [
    "List your environments:"
   ]
  },
  {
   "cell_type": "code",
   "execution_count": null,
   "metadata": {},
   "outputs": [],
   "source": [
    "!conda env list"
   ]
  },
  {
   "cell_type": "markdown",
   "metadata": {},
   "source": [
    "List the packages in an environment:"
   ]
  },
  {
   "cell_type": "code",
   "execution_count": null,
   "metadata": {},
   "outputs": [],
   "source": [
    "!conda list -n ntds_2018"
   ]
  },
  {
   "cell_type": "markdown",
   "metadata": {},
   "source": [
    "Install packages in an environment. The package will be installed in the activated environment if an environment name is not given."
   ]
  },
  {
   "cell_type": "code",
   "execution_count": null,
   "metadata": {},
   "outputs": [],
   "source": [
    "!conda install -n ntds_2018 git"
   ]
  },
  {
   "cell_type": "markdown",
   "metadata": {},
   "source": [
    "**Want to know more?** Look at the [conda user guide](https://conda.io/docs/user-guide/overview.html)."
   ]
  },
  {
   "cell_type": "markdown",
   "metadata": {},
   "source": [
    "<a id='python'></a>\n",
    "## 2 Python\n",
    "\n",
    "[Python](https://python.org) is one of the main programming languages used by data scientists, along [R](https://www.r-project.org) and [Julia](https://julialang.org). As an open and general purpose language, it is replacing [MATLAB](https://mathworks.com/products/matlab.html) in many scientific and engineering fields. Python is the default language used for machine learning.\n",
    "\n",
    "Below are very basic examples of Python code. **Want to learn more?** Look at the [Python Tutorial](https://docs.python.org/3/tutorial/index.html)."
   ]
  },
  {
   "cell_type": "markdown",
   "metadata": {},
   "source": [
    "### Control flow"
   ]
  },
  {
   "cell_type": "code",
   "execution_count": null,
   "metadata": {},
   "outputs": [],
   "source": [
    "if 1 == 1:\n",
    "    print('hello')"
   ]
  },
  {
   "cell_type": "code",
   "execution_count": null,
   "metadata": {},
   "outputs": [],
   "source": [
    "for i in range(5):\n",
    "    print(i)"
   ]
  },
  {
   "cell_type": "code",
   "execution_count": null,
   "metadata": {},
   "outputs": [],
   "source": [
    "a = 4\n",
    "while a > 2:\n",
    "    print(a)\n",
    "    a -= 1"
   ]
  },
  {
   "cell_type": "markdown",
   "metadata": {},
   "source": [
    "### Data structures"
   ]
  },
  {
   "cell_type": "markdown",
   "metadata": {},
   "source": [
    "Lists are mutable, i.e. we can change the objects they store."
   ]
  },
  {
   "cell_type": "code",
   "execution_count": null,
   "metadata": {},
   "outputs": [],
   "source": [
    "a = [1, 2, 'hello', 3.2]\n",
    "print(a)\n",
    "a[2] = 'world'\n",
    "print(a)"
   ]
  },
  {
   "cell_type": "markdown",
   "metadata": {},
   "source": [
    "Tuples are not mutable."
   ]
  },
  {
   "cell_type": "code",
   "execution_count": null,
   "metadata": {},
   "outputs": [],
   "source": [
    "(1, 2, 'hello')"
   ]
  },
  {
   "cell_type": "markdown",
   "metadata": {},
   "source": [
    "Sets contain unique values."
   ]
  },
  {
   "cell_type": "code",
   "execution_count": null,
   "metadata": {},
   "outputs": [],
   "source": [
    "a = {1, 2, 3, 3, 4}\n",
    "print(a)\n",
    "print(a.intersection({2, 4, 6}))"
   ]
  },
  {
   "cell_type": "markdown",
   "metadata": {},
   "source": [
    "Dictionaries map keys to values."
   ]
  },
  {
   "cell_type": "code",
   "execution_count": null,
   "metadata": {},
   "outputs": [],
   "source": [
    "a = {'one': 1, 'two': 2, 'three': 3}\n",
    "a['two']"
   ]
  },
  {
   "cell_type": "markdown",
   "metadata": {},
   "source": [
    "### Functions"
   ]
  },
  {
   "cell_type": "code",
   "execution_count": null,
   "metadata": {},
   "outputs": [],
   "source": [
    "def add(a, b):\n",
    "    return a + b\n",
    "\n",
    "add(1, 4)"
   ]
  },
  {
   "cell_type": "markdown",
   "metadata": {},
   "source": [
    "### Classes"
   ]
  },
  {
   "cell_type": "code",
   "execution_count": null,
   "metadata": {},
   "outputs": [],
   "source": [
    "class A:\n",
    "    d = 10\n",
    "    \n",
    "    def add(self, c):\n",
    "        return self.d + c\n",
    "\n",
    "a = A()\n",
    "a.add(20)"
   ]
  },
  {
   "cell_type": "code",
   "execution_count": null,
   "metadata": {},
   "outputs": [],
   "source": [
    "class B(A):\n",
    "    def sub(self, c):\n",
    "        return self.d - c\n",
    "\n",
    "b = B()\n",
    "print(b.add(20))\n",
    "print(b.sub(20))"
   ]
  },
  {
   "cell_type": "markdown",
   "metadata": {},
   "source": [
    "### Dynamic typing"
   ]
  },
  {
   "cell_type": "code",
   "execution_count": null,
   "metadata": {},
   "outputs": [],
   "source": [
    "x = 1\n",
    "x = 'abc'\n",
    "x"
   ]
  },
  {
   "cell_type": "code",
   "execution_count": null,
   "metadata": {},
   "outputs": [],
   "source": [
    "add('hel', 'lo')"
   ]
  },
  {
   "cell_type": "code",
   "execution_count": null,
   "metadata": {},
   "outputs": [],
   "source": [
    "add([1, 2], [3, 4, 5])"
   ]
  },
  {
   "cell_type": "code",
   "execution_count": null,
   "metadata": {},
   "outputs": [],
   "source": [
    "print(int('120') + 10)\n",
    "print(str(120) + ' items')"
   ]
  },
  {
   "cell_type": "markdown",
   "metadata": {},
   "source": [
    "<a id='jupyter'></a>\n",
    "## 3 Jupyter notebooks\n",
    "\n",
    "[Jupyter](https://jupyter.org) notebooks allow to mix text, math, code, and results (numerical or figures) in a **single document**. It is intended for interactive computing and is very useful to explore data, teach concepts, create reports. Code can be written in many programming languages, including Python, Julia, R, MATLAB, C++."
   ]
  },
  {
   "cell_type": "markdown",
   "metadata": {},
   "source": [
    "### Markdown text (and Latex math)\n",
    "\n",
    "A list:\n",
    "\n",
    "* item\n",
    "* item\n",
    "\n",
    "Text in a paragraph. Text can be *italic*, **bold**, `verbatim`. We can define [hyperlinks](https://github.com/mdeff/ntds_2018).\n",
    "\n",
    "A numbered list:\n",
    "\n",
    "1. item\n",
    "1. item\n",
    "\n",
    "Some inline math: $x = \\frac12$\n",
    "\n",
    "Some display math:\n",
    "$$ f(x) = \\frac{e^{-x}}{4} $$"
   ]
  },
  {
   "cell_type": "markdown",
   "metadata": {},
   "source": [
    "### Code and results"
   ]
  },
  {
   "cell_type": "code",
   "execution_count": null,
   "metadata": {},
   "outputs": [],
   "source": [
    "20 / 100 * 30"
   ]
  },
  {
   "cell_type": "markdown",
   "metadata": {},
   "source": [
    "### Inline figures"
   ]
  },
  {
   "cell_type": "code",
   "execution_count": null,
   "metadata": {},
   "outputs": [],
   "source": [
    "%matplotlib inline\n",
    "\n",
    "import numpy as np\n",
    "import matplotlib.pyplot as plt\n",
    "\n",
    "y = np.random.uniform(size=100)\n",
    "plt.plot(y);"
   ]
  },
  {
   "cell_type": "markdown",
   "metadata": {},
   "source": [
    "**Want to learn more?** Look at the [documentation](https://jupyter.org/documentation)."
   ]
  },
  {
   "cell_type": "markdown",
   "metadata": {},
   "source": [
    "<a id='git'></a>\n",
    "## 4 Version control with git\n",
    "\n",
    "![git](figures/git.jpg)\n",
    "\n",
    "[git](https://git-scm.com) is an open-source distributed version control system. It allows users to collaborate on projects (not only software!), synchronize and track their changes. It is most often used with an hosting service such as [GitHub](https://github.com) or [GitLab](https://about.gitlab.com). Those services add many tools to facilitate issue tracking, code review, continuous integration, etc.\n",
    "\n",
    "* Decentralized: draw on black board. Make it clear that all repos are the same.\n",
    "* Commit are local. We push / pull to sync with other repos.\n",
    "* Git is often used in a centralized fashion, with github / gitlab being the syncing point for everybody. It does not have to be, but github is easier to access than my laptop.\n",
    "* **Want to learn more?** Try this [interactive guide](https://try.github.io) or look at the more involved [user manual](https://git-scm.com/docs).\n",
    "\n",
    "### Basic usage\n",
    "\n",
    "1. Install with `conda install git`.\n",
    "1. Everybody make a clean clone (to be erased afterwards). Use HTTPS if not logged on GitHub.\n",
    "1. I add a fake file.\n",
    "1. I commit. It's not on github.\n",
    "1. I push. It is on github.\n",
    "1. They pull. They see it on their machines.\n",
    "\n",
    "Two kinds of users:\n",
    "* Those who don't want to use git, just do `git pull` before every lab. **Do not modify the content of the folder.** That is like your inbox, you only copy files from there and modify them outside.\n",
    "* The power users make a branch for each of their solutions!\n",
    "\n",
    "### Power users\n",
    "\n",
    "* Make a branch: `git branch milestone1_solution`\n",
    "* Work on that branch: `git checkout milestone1_solution`\n",
    "* Do and commit your modifications. You get a history of your changes!\n",
    "* Come back to master with `git checkout master` and get new stuff from the TAs with `git pull`. Again, you should never modify master (you could do it locally, but only the TAs have write access to the github repo).\n",
    "\n",
    "### Super-power users\n",
    "\n",
    "Those who want to backup or share their work on github.\n",
    "\n",
    "1. Create a github account.\n",
    "1. Create a repository (you could have forked mdeff/ntds_2018).\n",
    "1. Add a remote repo: `git remote add my_repo git@github.com:username/ntds_2018.git`\n",
    "1. Push your own branches to your repo: `git push -u my_repo milestone1_solution`.\n",
    "1. Go on your github and see your changes.\n",
    "\n",
    "### Contributors\n",
    "\n",
    "Same as before, except you can now make a pull request for your changes to be integrated into master and be available to all of us.\n",
    "\n",
    "### Collaborate with git and github\n",
    "\n",
    "All the code for your projects will have to be handled as a repository on GitHub.\n",
    "While you don't have to collaborate with git (i.e., you can create a single commit at the end with all of your code), we highly recommend you to use it.\n",
    "It is a very good way to manage your project, as it allows you to come back to previous states, synchronize your changes without being lost with versions, track who did what, discuss issues and code, etc.\n",
    "As such, we recommend you to use git from the start to get the basics. Once you feel ready, create a repository for your project and start working on a milestone there."
   ]
  },
  {
   "cell_type": "markdown",
   "metadata": {},
   "source": [
    "<a id='scipy'></a>\n",
    "## 5 Scientific Python\n",
    "\n",
    "Below are the basic packages used for scientific computing and data science. We'll introduce them as needed during the following tutorials.\n",
    "* [NumPy](http://www.numpy.org): N-dimensional arrays\n",
    "* [SciPy](https://www.scipy.org/scipylib/index.html): scientific computing\n",
    "* [matplotlib](https://matplotlib.org): powerful visualization\n",
    "* [pandas](https://pandas.pydata.org): data analysis\n",
    "\n",
    "**Want to learn more?** Look at the [Scipy Lecture Notes](http://www.scipy-lectures.org/).\n",
    "\n",
    "Finally, the below packages will be useful to work with networks and graphs.\n",
    "* [NetworkX](https://networkx.github.io): network science\n",
    "* [graph-tool](https://graph-tool.skewed.de): network science\n",
    "* [PyGSP](https://github.com/epfl-lts2/pygsp): graph signal processing"
   ]
  }
 ],
 "metadata": {
  "kernelspec": {
   "display_name": "Python 3",
   "language": "python",
   "name": "python3"
  },
  "language_info": {
   "codemirror_mode": {
    "name": "ipython",
    "version": 3
   },
   "file_extension": ".py",
   "mimetype": "text/x-python",
   "name": "python",
   "nbconvert_exporter": "python",
   "pygments_lexer": "ipython3",
   "version": "3.6.6"
  }
 },
 "nbformat": 4,
 "nbformat_minor": 2
}
