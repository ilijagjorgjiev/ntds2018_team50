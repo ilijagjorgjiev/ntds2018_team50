{
 "cells": [
  {
   "cell_type": "code",
   "execution_count": 1,
   "metadata": {},
   "outputs": [],
   "source": [
    "import tensorflow as tf \n",
    "import script_config as sc\n",
    "import pandas as pd\n",
    "import heapq as hq\n",
    "import numpy as np\n",
    "import csv \n",
    "\n",
    "data_folder      = sc._config_data_folder\n",
    "hops             = sc._config_hops\n",
    "max_list_size    = sc._config_relation_list_size_neighborhood"
   ]
  },
  {
   "cell_type": "code",
   "execution_count": 2,
   "metadata": {},
   "outputs": [],
   "source": [
    "users     = pd.read_csv(data_folder+\"filtered_users.csv\",delimiter=',').values \n",
    "relations = pd.read_csv(data_folder+\"filtered_relations.csv\",delimiter=',').values "
   ]
  },
  {
   "cell_type": "code",
   "execution_count": 3,
   "metadata": {},
   "outputs": [],
   "source": [
    "# BFS search to find neighborhood of radius \"hops\"\n",
    "def find_neighborhood(user):\n",
    "    \n",
    "    # Looking for elements in numpy array (better than lists)\n",
    "    def element_in_narray(narray,row): \n",
    "        count = np.where(narray==row)\n",
    "        if len(count[0]) is 0: \n",
    "            return False\n",
    "        else:\n",
    "            return True\n",
    "        \n",
    "    # Function Global Variables\n",
    "    current_id         = \"{:07d}\".format(user[0])\n",
    "    current_hops       = 0\n",
    "    relations_idx      = 0 # Index of next free spot in retained_relations\n",
    "    neighbors_idx      = 0 # Index of next free spot in visited_neighbors\n",
    "    \n",
    "    queue_head          = 0 # Index of queue head \n",
    "    queue_tail          = 1 # Index of next free spot in queue \n",
    "    \n",
    "    \n",
    "    # Data Structures     \n",
    "    queue              = np.ndarray(max_list_size,dtype='i4')\n",
    "    visited_neighbors  = np.ndarray(max_list_size,dtype='i4')\n",
    "    retained_relations = np.ndarray(max_list_size,dtype='i4, i4, i4, i4, i4')\n",
    "    queue[0]           = int(current_id)\n",
    "\n",
    "    # Loop until queue is empty \n",
    "    while( queue_head != queue_tail ):\n",
    "        \n",
    "        current_id = \"{:07d}\".format(queue[queue_head])\n",
    "        queue_head += 1 \n",
    "        \n",
    "        # Treat incoming edges and outgoing edges equally\n",
    "        relations_1  = relations[np.where(relations[:,2] == int(current_id))]\n",
    "        relations_2  = relations[np.where(relations[:,3] == int(current_id))]\n",
    "        neigh_ids    = np.union1d(relations_1[:,3],relations_2[:,2])\n",
    "        \n",
    "        # Cutoff Condition\n",
    "        if current_hops + 1 <= hops: \n",
    "            \n",
    "            for neigh_id in neigh_ids: \n",
    "                \n",
    "                # Check that node has not been visited \n",
    "                #    and has not been marked to be visited\n",
    "                if ( not element_in_narray(visited_neighbors[:neighbors_idx],int(neigh_id)))\\\n",
    "                   and ( not element_in_narray(queue[queue_head:queue_tail],int(neigh_id))): \n",
    "                    \n",
    "                    if queue_tail == max_list_size: \n",
    "                        raise MemoryError(\"Increase _config_list_size_neighborhood_creation \\\n",
    "                           from config.py\")\n",
    "                        \n",
    "                    # Mark node to be visited \n",
    "                    queue[queue_tail] = int(neigh_id)\n",
    "                    queue_tail += 1\n",
    "               \n",
    "\n",
    "            \n",
    "            for relation_set in [relations_1,relations_2] :\n",
    "                for relation in relation_set:\n",
    "                    \n",
    "                    # Memory Checking\n",
    "                    if relations_idx == max_list_size:\n",
    "                        raise MemoryError(\"Increase _config_list_size_neighborhood_creation \\\n",
    "                           from config.py\")\n",
    "                        \n",
    "                    relation_tuple = (int(relation[0]),int(relation[1]),int(relation[2]),\n",
    "                                          int(relation[3]),int(relation[4]))\n",
    "                    \n",
    "                    # Only add relations with visited neighbors (directionally agnostic)\n",
    "                    if  element_in_narray(visited_neighbors[:neighbors_idx],relation_tuple[2]) or \\\n",
    "                        element_in_narray(visited_neighbors[:neighbors_idx],relation_tuple[3]): \n",
    "                    \n",
    "                        # Retain Relation if not already done \n",
    "                        if not element_in_narray(retained_relations[:relations_idx],\\\n",
    "                                                 np.array([relation_tuple],dtype='i4,i4,i4,i4,i4')):\n",
    "                            retained_relations[relations_idx] = relation_tuple\n",
    "                            relations_idx += 1\n",
    "        \n",
    "        # Memory Checking\n",
    "        if neighbors_idx == max_list_size:\n",
    "            raise MemoryError(\"Increase _config_list_size_neighborhood_creation \\\n",
    "                           from config.py\")\n",
    "        \n",
    "        # Mark node as visited \n",
    "        visited_neighbors[neighbors_idx] = int(current_id)\n",
    "        neighbors_idx += 1\n",
    "        \n",
    "    return visited_neighbors[:neighbors_idx], retained_relations[:relations_idx]"
   ]
  },
  {
   "cell_type": "code",
   "execution_count": 4,
   "metadata": {},
   "outputs": [
    {
     "name": "stdout",
     "output_type": "stream",
     "text": [
      "mkdir: cannot create directory ‘/nvme/drive_1/NTDS_Final/local_list/’: File exists\r\n"
     ]
    }
   ],
   "source": [
    "!mkdir /nvme/drive_1/NTDS_Final/local_list/\n",
    "!rm -r /nvme/drive_1/NTDS_Final/local_list/filtered\n",
    "!mkdir /nvme/drive_1/NTDS_Final/local_list/filtered"
   ]
  },
  {
   "cell_type": "code",
   "execution_count": 5,
   "metadata": {},
   "outputs": [
    {
     "name": "stdout",
     "output_type": "stream",
     "text": [
      "2879 neighborhoods processed / Max Size: 62173"
     ]
    },
    {
     "ename": "KeyboardInterrupt",
     "evalue": "",
     "output_type": "error",
     "traceback": [
      "\u001b[0;31m---------------------------------------------------------------------------\u001b[0m",
      "\u001b[0;31mKeyboardInterrupt\u001b[0m                         Traceback (most recent call last)",
      "\u001b[0;32m<ipython-input-5-0be60f28f138>\u001b[0m in \u001b[0;36m<module>\u001b[0;34m()\u001b[0m\n\u001b[1;32m      2\u001b[0m \u001b[0mmax_size\u001b[0m \u001b[0;34m=\u001b[0m \u001b[0;36m0\u001b[0m\u001b[0;34m\u001b[0m\u001b[0m\n\u001b[1;32m      3\u001b[0m \u001b[0;32mfor\u001b[0m \u001b[0muser\u001b[0m \u001b[0;32min\u001b[0m \u001b[0musers\u001b[0m\u001b[0;34m:\u001b[0m\u001b[0;34m\u001b[0m\u001b[0m\n\u001b[0;32m----> 4\u001b[0;31m     \u001b[0mneighs\u001b[0m\u001b[0;34m,\u001b[0m \u001b[0mrels\u001b[0m \u001b[0;34m=\u001b[0m \u001b[0mfind_neighborhood\u001b[0m\u001b[0;34m(\u001b[0m\u001b[0muser\u001b[0m\u001b[0;34m)\u001b[0m\u001b[0;34m\u001b[0m\u001b[0m\n\u001b[0m\u001b[1;32m      5\u001b[0m     \u001b[0mnp\u001b[0m\u001b[0;34m.\u001b[0m\u001b[0msavez_compressed\u001b[0m\u001b[0;34m(\u001b[0m\u001b[0mdata_folder\u001b[0m\u001b[0;34m+\u001b[0m\u001b[0;34m\"local_list/filtered/\"\u001b[0m\u001b[0;34m+\u001b[0m\u001b[0mstr\u001b[0m\u001b[0;34m(\u001b[0m\u001b[0muser\u001b[0m\u001b[0;34m[\u001b[0m\u001b[0;36m0\u001b[0m\u001b[0;34m]\u001b[0m\u001b[0;34m)\u001b[0m\u001b[0;34m,\u001b[0m                        \u001b[0mlocal_neighbors\u001b[0m\u001b[0;34m=\u001b[0m\u001b[0mneighs\u001b[0m\u001b[0;34m,\u001b[0m\u001b[0mlocal_relations\u001b[0m\u001b[0;34m=\u001b[0m\u001b[0mrels\u001b[0m\u001b[0;34m)\u001b[0m\u001b[0;34m\u001b[0m\u001b[0m\n\u001b[1;32m      6\u001b[0m     \u001b[0mi\u001b[0m\u001b[0;34m+=\u001b[0m\u001b[0;36m1\u001b[0m\u001b[0;34m\u001b[0m\u001b[0m\n",
      "\u001b[0;32m<ipython-input-3-8acb7d68f29c>\u001b[0m in \u001b[0;36mfind_neighborhood\u001b[0;34m(user)\u001b[0m\n\u001b[1;32m     56\u001b[0m \u001b[0;34m\u001b[0m\u001b[0m\n\u001b[1;32m     57\u001b[0m             \u001b[0;32mfor\u001b[0m \u001b[0mrelation_set\u001b[0m \u001b[0;32min\u001b[0m \u001b[0;34m[\u001b[0m\u001b[0mrelations_1\u001b[0m\u001b[0;34m,\u001b[0m\u001b[0mrelations_2\u001b[0m\u001b[0;34m]\u001b[0m \u001b[0;34m:\u001b[0m\u001b[0;34m\u001b[0m\u001b[0m\n\u001b[0;32m---> 58\u001b[0;31m                 \u001b[0;32mfor\u001b[0m \u001b[0mrelation\u001b[0m \u001b[0;32min\u001b[0m \u001b[0mrelation_set\u001b[0m\u001b[0;34m:\u001b[0m\u001b[0;34m\u001b[0m\u001b[0m\n\u001b[0m\u001b[1;32m     59\u001b[0m \u001b[0;34m\u001b[0m\u001b[0m\n\u001b[1;32m     60\u001b[0m                     \u001b[0;31m# Memory Checking\u001b[0m\u001b[0;34m\u001b[0m\u001b[0;34m\u001b[0m\u001b[0m\n",
      "\u001b[0;31mKeyboardInterrupt\u001b[0m: "
     ]
    }
   ],
   "source": [
    "i        = 0 \n",
    "max_size = 0\n",
    "for user in users: \n",
    "    neighs, rels = find_neighborhood(user)\n",
    "    np.savez_compressed(data_folder+\"local_list/filtered/\"+str(user[0]),\\\n",
    "                        local_neighbors=neighs,local_relations=rels)\n",
    "    i+=1\n",
    "    \n",
    "    if len(neighs)>max_size: \n",
    "        max_size = len(neighs)\n",
    "    print(\"\\r\"+str(i) +\" neighborhoods processed / Max Size: \"+str(max_size), sep=' ', end='', flush=True)"
   ]
  },
  {
   "cell_type": "code",
   "execution_count": null,
   "metadata": {},
   "outputs": [],
   "source": []
  }
 ],
 "metadata": {
  "kernelspec": {
   "display_name": "ntds_2018",
   "language": "python",
   "name": "ntds_2018"
  },
  "language_info": {
   "codemirror_mode": {
    "name": "ipython",
    "version": 3
   },
   "file_extension": ".py",
   "mimetype": "text/x-python",
   "name": "python",
   "nbconvert_exporter": "python",
   "pygments_lexer": "ipython3",
   "version": "3.6.6"
  }
 },
 "nbformat": 4,
 "nbformat_minor": 2
}
