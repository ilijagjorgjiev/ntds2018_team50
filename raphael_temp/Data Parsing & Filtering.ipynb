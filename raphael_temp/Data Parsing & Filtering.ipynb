{
 "cells": [
  {
   "cell_type": "code",
   "execution_count": 1,
   "metadata": {},
   "outputs": [],
   "source": [
    "import tensorflow as tf \n",
    "import pandas as pd\n",
    "import numpy as np\n",
    "import csv \n",
    "\n",
    "#Location of the data_folder \n",
    "data_folder      =\"/nvme/drive_1/NTDS_Final/\"\n",
    "\n",
    "#Local Hop Distance \n",
    "hops               = 5"
   ]
  },
  {
   "cell_type": "code",
   "execution_count": 2,
   "metadata": {},
   "outputs": [],
   "source": [
    "users = pd.read_csv(data_folder+\"usersdata.csv\",delimiter='\\t',header=None).values "
   ]
  },
  {
   "cell_type": "markdown",
   "metadata": {},
   "source": [
    "** I. Extract Neighbor List per User and per Type **"
   ]
  },
  {
   "cell_type": "code",
   "execution_count": 3,
   "metadata": {},
   "outputs": [],
   "source": [
    "!rm -r /nvme/drive_1/NTDS_Final/relations_type_1\n",
    "!rm -r /nvme/drive_1/NTDS_Final/relations_type_2\n",
    "!rm -r /nvme/drive_1/NTDS_Final/relations_type_3\n",
    "!rm -r /nvme/drive_1/NTDS_Final/relations_type_4\n",
    "!rm -r /nvme/drive_1/NTDS_Final/relations_type_5\n",
    "!rm -r /nvme/drive_1/NTDS_Final/relations_type_6\n",
    "!rm -r /nvme/drive_1/NTDS_Final/relations_type_7\n",
    "\n",
    "!mkdir /nvme/drive_1/NTDS_Final/relations_type_1\n",
    "!mkdir /nvme/drive_1/NTDS_Final/relations_type_2\n",
    "!mkdir /nvme/drive_1/NTDS_Final/relations_type_3\n",
    "!mkdir /nvme/drive_1/NTDS_Final/relations_type_4\n",
    "!mkdir /nvme/drive_1/NTDS_Final/relations_type_5\n",
    "!mkdir /nvme/drive_1/NTDS_Final/relations_type_6\n",
    "!mkdir /nvme/drive_1/NTDS_Final/relations_type_7 "
   ]
  },
  {
   "cell_type": "code",
   "execution_count": 4,
   "metadata": {},
   "outputs": [
    {
     "name": "stdout",
     "output_type": "stream",
     "text": [
      "858240 thousand relations processed"
     ]
    }
   ],
   "source": [
    "# Seperate the data according to relation type \n",
    "with open(data_folder+\"relations.csv\", \"rt\") as f_in:\n",
    "    reader             = csv.reader(f_in, delimiter=\"\\t\")\n",
    "    for i, line in enumerate(reader):\n",
    "        node_1        = line[2]  \n",
    "        node_2        = line[3]\n",
    "        relation_type = int(line[4])\n",
    "        for node in (node_1,node_2):\n",
    "            \n",
    "            f_out = open(data_folder+\"relations_type_\"+str(relation_type) +\\\n",
    "                        \"/\"+node+\".csv\", \"at\") \n",
    "            writer = csv.writer(f_out, delimiter='\\t')\n",
    "            writer.writerow(line)\n",
    "            f_out.close()\n",
    "               \n",
    "        if i%10000 is 0: \n",
    "            print(\"\\r\"+str(int(i/1000)) +\" thousand relations processed\", sep=' ', end='', flush=True)"
   ]
  },
  {
   "cell_type": "markdown",
   "metadata": {},
   "source": [
    "** II. Extract Local Topology From Neighbor Lists**"
   ]
  },
  {
   "cell_type": "code",
   "execution_count": null,
   "metadata": {},
   "outputs": [],
   "source": [
    "!rm -r /nvme/drive_1/NTDS_Final/type_1\n",
    "!rm -r /nvme/drive_1/NTDS_Final/type_2\n",
    "!rm -r /nvme/drive_1/NTDS_Final/type_3\n",
    "!rm -r /nvme/drive_1/NTDS_Final/type_4\n",
    "!rm -r /nvme/drive_1/NTDS_Final/type_5\n",
    "!rm -r /nvme/drive_1/NTDS_Finallocal_list/type_6\n",
    "!rm -r /nvme/drive_1/NTDS_Finallocal_list/type_7\n",
    "\n",
    "!mkdir /nvme/drive_1/NTDS_Final/local_list/type_1\n",
    "!mkdir /nvme/drive_1/NTDS_Final/local_list/type_2\n",
    "!mkdir /nvme/drive_1/NTDS_Final/local_list/type_3\n",
    "!mkdir /nvme/drive_1/NTDS_Final/local_list/type_4\n",
    "!mkdir /nvme/drive_1/NTDS_Final/local_list/type_5\n",
    "!mkdir /nvme/drive_1/NTDS_Final/local_list/type_6\n",
    "!mkdir /nvme/drive_1/NTDS_Final/local_list/type_7"
   ]
  },
  {
   "cell_type": "code",
   "execution_count": null,
   "metadata": {},
   "outputs": [],
   "source": [
    "# Returns the relations between nodes within num_hops\n",
    "def local_dfs(num_hops,id_number,relation_type,visited_relations,visited_neighs):\n",
    "    \n",
    "    visited_neighs.append(id_number)\n",
    "    \n",
    "    if num_hops != 0: \n",
    "        local_relations_file = data_folder+\"relations_type_\"+str(relation_type) +\\\n",
    "                                \"/\"+str(id_number)+\".csv\"\n",
    "        local_relations      = pd.read_csv(local_relations_file,delimiter='\\t',\n",
    "                                    header=None).values \n",
    "        for relation in local_relations: \n",
    "            current_relation_known = False\n",
    "            for known_relation in visited_relations:\n",
    "                if ((relation[0] is known_relation[0]) and \\\n",
    "                    (relation[1] is known_relation[1]) and \\\n",
    "                    (relation[2] is known_relation[2]) and \\\n",
    "                    (relation[3] is known_relation[3]) and \\\n",
    "                    (relation[4] is known_relation[4])): \n",
    "                    current_relation_known = True \n",
    "                    break\n",
    "            if not current_relation_known: \n",
    "                visited_relation.append(relation)\n",
    "                \n",
    "        neighs_1 = local_relations[np.where(local_relations[2]==id_number)][0][:,3]\n",
    "        neighs_2 = local_relations[np.where(local_relations[3]==id_number)][0][:,2]\n",
    "        for neigh in np.union1d(neighs_1,neighs_2): \n",
    "            if neigh not in visited_neighs: \n",
    "                visited_relations, visited_neighs = \n",
    "                    local_dfs(num_hops-1,neigh,relation_type,current_relations,visited_neighs)\n",
    "    return visited_relations,visted_neighs\n",
    "\n",
    "# Create Local Relation Lists \n",
    "for relation_type in [1,2,3,4,5,6,7]: \n",
    "    for user in users:\n",
    "        id_number                     = user[0]\n",
    "        local_relations, local_neighs = local_dfs(hops,id_number,\n",
    "                                                  relation_type,list([]),list([]))\n",
    "        np.savetxt(data_folder+\"local_list/type_\"+str(relation_type)+\\\n",
    "                   \"/\"+id_number+\".csv\",np.asarray(local_relations))"
   ]
  },
  {
   "cell_type": "code",
   "execution_count": null,
   "metadata": {},
   "outputs": [],
   "source": [
    "!rm -r data/local_adj/type_1\n",
    "!rm -r data/local_adj/type_2\n",
    "!rm -r data/local_adj/type_3\n",
    "!rm -r data/local_adj/type_4\n",
    "!rm -r data/local_adj/type_5\n",
    "!rm -r data/local_adj/type_6\n",
    "!rm -r data/local_adj/type_7\n",
    "\n",
    "!mkdir data/local_adj/type_1\n",
    "!mkdir data/local_adj/type_2\n",
    "!mkdir data/local_adj/type_3\n",
    "!mkdir data/local_adj/type_4\n",
    "!mkdir data/local_adj/type_5\n",
    "!mkdir data/local_adj/type_6\n",
    "!mkdir data/local_adj/type_7"
   ]
  },
  {
   "cell_type": "code",
   "execution_count": null,
   "metadata": {},
   "outputs": [],
   "source": [
    "for relation_type in [1,2,3,4,5,6,7]: \n",
    "    for user in users:\n",
    "        id_number = user[0]\n",
    "        relation_list = np.loadtxt(data_folder+\"local_list/type_\"+str(relation_type)+\\\n",
    "                                   \"/\"+id_number+\".csv\",np.asarray(local_relations))\n",
    "        "
   ]
  },
  {
   "cell_type": "code",
   "execution_count": null,
   "metadata": {},
   "outputs": [],
   "source": []
  }
 ],
 "metadata": {
  "kernelspec": {
   "display_name": "ntds_2018",
   "language": "python",
   "name": "ntds_2018"
  },
  "language_info": {
   "codemirror_mode": {
    "name": "ipython",
    "version": 3
   },
   "file_extension": ".py",
   "mimetype": "text/x-python",
   "name": "python",
   "nbconvert_exporter": "python",
   "pygments_lexer": "ipython3",
   "version": "3.6.6"
  }
 },
 "nbformat": 4,
 "nbformat_minor": 2
}
