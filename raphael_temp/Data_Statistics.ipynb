{
 "cells": [
  {
   "cell_type": "code",
   "execution_count": null,
   "metadata": {},
   "outputs": [],
   "source": [
    "import tensorflow as tf \n",
    "import script_config as sc\n",
    "import pandas as pd\n",
    "import heapq as hq\n",
    "import numpy as np\n",
    "import csv \n",
    "\n",
    "data_folder      = sc._config_data_folder\n",
    "hops             = sc._config_hops\n",
    "max_list_size    = sc._config_relation_list_size_neighborhood"
   ]
  },
  {
   "cell_type": "code",
   "execution_count": null,
   "metadata": {},
   "outputs": [],
   "source": [
    "users     = pd.read_csv(data_folder+\"filtered_users.csv\",delimiter=',').values \n",
    "relations = pd.read_csv(data_folder+\"filtered_relations.csv\",delimiter=',').values "
   ]
  },
  {
   "cell_type": "code",
   "execution_count": null,
   "metadata": {},
   "outputs": [],
   "source": [
    "for user in users:\n",
    "  loaded_data = np.load(data_folder+\"local_list/filtered/\"+str(user[0]),\\\n",
    "                        local_neighbors=neighs,local_relations=rels)\n",
    "  local_neighbors = loaded_data['local_neighbors']\n",
    "  \n",
    "\n",
    "  "
   ]
  }
 ],
 "metadata": {
  "kernelspec": {
   "display_name": "ntds_2018",
   "language": "python",
   "name": "ntds_2018"
  },
  "language_info": {
   "codemirror_mode": {
    "name": "ipython",
    "version": 3
   },
   "file_extension": ".py",
   "mimetype": "text/x-python",
   "name": "python",
   "nbconvert_exporter": "python",
   "pygments_lexer": "ipython3",
   "version": "3.6.6"
  }
 },
 "nbformat": 4,
 "nbformat_minor": 2
}
