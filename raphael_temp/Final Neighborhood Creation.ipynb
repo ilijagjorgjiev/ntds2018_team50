{
 "cells": [
  {
   "cell_type": "code",
   "execution_count": 1,
   "metadata": {},
   "outputs": [],
   "source": [
    "import tensorflow as tf \n",
    "import pandas as pd\n",
    "import numpy as np\n",
    "import scipy.sparse as sp\n",
    "import script_config as sc\n",
    "import csv \n",
    "\n",
    "hops             = sc._config_hops\n",
    "max_list_size    = sc._config_relation_list_size_neighborhood\n",
    "\n",
    "#Location of the data_folder \n",
    "data_folder      =\"/nvme/drive_1/NTDS_Final/\"\n",
    "users            = pd.read_csv(data_folder+\"usersdata.csv\",delimiter='\\t',header=None).values\n",
    "filtered_users   = pd.read_csv(data_folder+\"filtered_users.csv\",delimiter=',').values"
   ]
  },
  {
   "cell_type": "code",
   "execution_count": 2,
   "metadata": {},
   "outputs": [],
   "source": [
    "user_idx_dict          = {}\n",
    "filtered_user_idx_dict = {}\n",
    "\n",
    "for i,user in enumerate(users):\n",
    "    user_idx_dict[user[0]]=i\n",
    "\n",
    "for i,user in enumerate(filtered_users): \n",
    "    filtered_user_idx_dict[user[0]]=user_idx_dict[user[0]]\n",
    "    \n",
    "                \n",
    "def check_symmetric(a, tol=1e-8):\n",
    "    return np.allclose(a, a.T, atol=tol)"
   ]
  },
  {
   "cell_type": "markdown",
   "metadata": {},
   "source": [
    "** I. Extract Neighboors **"
   ]
  },
  {
   "cell_type": "code",
   "execution_count": 3,
   "metadata": {},
   "outputs": [
    {
     "name": "stdout",
     "output_type": "stream",
     "text": [
      "62000 users validated for feature 7"
     ]
    }
   ],
   "source": [
    "def load_adj_as_matrix(feature_type): \n",
    "    \n",
    "    \n",
    "    desired_indices = np.array(list(filtered_user_idx_dict.values()))\n",
    "    adj             = sp.load_npz(data_folder+\"filtering/adjacency_\"+str(feature_type)+\".npz\")\n",
    "    #reduced_adj     = adj[desired_indices,:][:,desired_indices]\n",
    "   \n",
    "    return adj.todense()\n",
    "\n",
    "# BFS search to find neighborhood of radius \"hops\"\n",
    "def find_neighborhood(adjacency,user_idx):\n",
    "    \n",
    "    # Looking for elements in numpy array (better than lists)\n",
    "    def element_in_narray(narray,row): \n",
    "        count = np.where(narray==row)\n",
    "        if len(count[0]) is 0: \n",
    "            return False\n",
    "        else:\n",
    "            return True\n",
    "    \n",
    "    # Data Structures     \n",
    "    queue              = np.ndarray((max_list_size,2),dtype='i4')\n",
    "    queue[0]           = [int(user_idx),0]\n",
    "    queue_head          = 0 # Index of queue head \n",
    "    queue_tail          = 1 # Index of next free spot in queue \n",
    "    \n",
    "\n",
    "    # Loop until queue is empty \n",
    "    while( queue_head != queue_tail ):\n",
    "        \n",
    "        current_id, current_hops = queue[queue_head]\n",
    "        queue_head += 1 \n",
    "        \n",
    "        \n",
    "        # Cutoff Condition\n",
    "        if current_hops + 1 < hops: \n",
    "            \n",
    "            neigh_ids    = np.where(adjacency[current_id,:]==1)[1]\n",
    "            \n",
    "            for neigh_id in neigh_ids: \n",
    "                \n",
    "                # Check that node has not been visited \n",
    "                #    and has not been marked to be visited\n",
    "                if (not element_in_narray(queue[queue_head:queue_tail],int(neigh_id))): \n",
    "                    \n",
    "                    if queue_tail == max_list_size: \n",
    "                        raise MemoryError(\"Increase _config_list_size_neighborhood_creation \\\n",
    "                           from config.py\")\n",
    "                        \n",
    "                    # Mark node to be visited \n",
    "                    queue[queue_tail] = [int(neigh_id),current_hops+1]\n",
    "                    queue_tail += 1\n",
    "        \n",
    "    return queue[:queue_tail,0]\n",
    "\n",
    "neighborhoods = [{i} for i in range(len(filtered_users))]\n",
    "for feature in [1,2,3,4,5,6,7]: \n",
    "    adj = load_adj_as_matrix(feature)\n",
    "    for i in range(len(filtered_users)): \n",
    "        neighborhoods[i] = neighborhoods[i].union(find_neighborhood(adj,i))\n",
    "        if i%1000 is 0:\n",
    "            print(\"\\r\"+str(i) +\" users processed for feature \"+str(feature), sep=' ', end='', flush=True)\n",
    "            \n",
    "# Make sure that central node has index 0 \n",
    "#  in the local neighbor list       \n",
    "for i in range(len(filtered_users)): \n",
    "    neighborhoods[i] = list(neighborhoods[i])\n",
    "    for idx, neighboor in enumerate(neighborhoods[i]): \n",
    "        if neighboor == i: \n",
    "            temp                  = neighborhoods[i][0]\n",
    "            neighborhoods[i][0]   = neighborhoods[i][idx]\n",
    "            neighborhoods[i][idx] = temp\n",
    "            break\n",
    "           \n",
    "    assert(neighborhoods[i][0] == i)\n",
    "    if i%1000 is 0:\n",
    "            print(\"\\r\"+str(i) +\" users validated\", sep=' ', end='', flush=True)\n",
    "        \n",
    "    "
   ]
  },
  {
   "cell_type": "markdown",
   "metadata": {},
   "source": [
    "** II. Create Local Adjacencies from List of Neighbors **"
   ]
  },
  {
   "cell_type": "code",
   "execution_count": 5,
   "metadata": {},
   "outputs": [
    {
     "name": "stdout",
     "output_type": "stream",
     "text": [
      "62100 adjacency matrices verified7"
     ]
    }
   ],
   "source": [
    "'''\n",
    "for i,hood in enumerate(neighborhoods): \n",
    "    num_neighbors = len(hood)\n",
    "    local_adj = np.zeros((num_neighbors*7,num_neighbors*7))\n",
    "    np.save(data_folder+\"local/adjacency_\"+str(i)+\".npy\",local_adj)\n",
    "    if i%100 is 0:\n",
    "        print(\"\\r\"+str(i) +\" matrices initialized\", sep=' ', end='', flush=True)\n",
    "\n",
    "for feature in [1,2,3,4,5,6,7]:\n",
    "    adj = load_adj_as_matrix(feature)\n",
    "    for i, neighboor_list in enumerate(neighborhoods): \n",
    "        \n",
    "        local_adj = np.load(data_folder+\"local/adjacency_\"+str(i)+\".npy\")        \n",
    "\n",
    "        for idx_1,neighboor_1 in enumerate(neighboor_list): \n",
    "            for idx_2,neighboor_2 in enumerate(neighboor_list[idx_1:]):\n",
    "                val = adj[neighboor_1,neighboor_2]\n",
    "                local_adj[idx_1*7+feature-1,idx_2*7+feature-1] = val\n",
    "                local_adj[idx_2*7+feature-1,idx_1*7+feature-1] = val\n",
    "                \n",
    "        np.save(data_folder+\"local/adjacency_\"+str(i)+\".npy\",local_adj)  \n",
    "        \n",
    "        if i%100 is 0:\n",
    "            print(\"\\r\"+str(i) +\" users processed for feature \"+str(feature), sep=' ', end='', flush=True)\n",
    "'''           \n",
    "for i, neighboor_list in enumerate(neighborhoods):  \n",
    "    local_adj = np.load(data_folder+\"local/adjacency_\"+str(i)+\".npy\")\n",
    "    for idx,neighboor in enumerate(neighboor_list): \n",
    "        for feature_1 in [1,2,3,4,5,6,7]: \n",
    "            for feature_2 in [1,2,3,4,5,6,7]:\n",
    "                if feature_1 != feature_2: \n",
    "                    local_adj[idx*7+feature_1-1,idx*7+feature_2-1] = 1 \n",
    "                    local_adj[idx*7+feature_2-1,idx*7+feature_1-1] = 1\n",
    "    #assert(check_symmetric(local_adj))\n",
    "    np.save(data_folder+\"local/adjacency_\"+str(i)+\".npy\",local_adj) \n",
    "    if i%100 is 0:\n",
    "            print(\"\\r\"+str(i)+\" adjacency matrices verified\"+str(feature), sep=' ', end='', flush=True) "
   ]
  },
  {
   "cell_type": "code",
   "execution_count": null,
   "metadata": {},
   "outputs": [],
   "source": []
  }
 ],
 "metadata": {
  "kernelspec": {
   "display_name": "ntds_2018",
   "language": "python",
   "name": "ntds_2018"
  },
  "language_info": {
   "codemirror_mode": {
    "name": "ipython",
    "version": 3
   },
   "file_extension": ".py",
   "mimetype": "text/x-python",
   "name": "python",
   "nbconvert_exporter": "python",
   "pygments_lexer": "ipython3",
   "version": "3.6.6"
  }
 },
 "nbformat": 4,
 "nbformat_minor": 2
}
